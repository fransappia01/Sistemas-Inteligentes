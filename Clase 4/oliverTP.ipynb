{
 "cells": [
  {
   "attachments": {},
   "cell_type": "markdown",
   "id": "08d81568",
   "metadata": {},
   "source": [
    "# 1er TP de sistemas inteligentes\n",
    "\n",
    "Nombre: BARAFANI, Facundo\n",
    "\n",
    "Este trabajo práctico se aprueba completando más del 70% del mismo. Una vez completado el notebook y reenvielo al email 2329034@ucc.edu.ar. Importante: Asegurese que su correo haya llegado."
   ]
  },
  {
   "attachments": {},
   "cell_type": "markdown",
   "id": "327c0583",
   "metadata": {},
   "source": [
    "### Entender el problema\n",
    "\n",
    "Este conjunto de datos contiene detalles de los clientes de un banco y la variable objetivo es una variable binaria que refleja si el cliente abandonó el banco (cerró su cuenta) o si continúa siendo un cliente. En base a esta informacion:\n",
    "\n",
    "Siendo la clase positiva la indicación que el cliente cerró la cuenta ¿Qué le estaría pidiendo a mi clasificador qué tenga en cuenta si le pido un puntaje de precision alto?\n",
    "\n",
    "\n",
    "url = 'https://gitlab.com/francisco.arduh/datasets/-/raw/main/Churn_Modelling.csv'"
   ]
  },
  {
   "cell_type": "markdown",
   "id": "2dbe88e8",
   "metadata": {},
   "source": [
    "<10%>\n",
    "Respuesta:"
   ]
  },
  {
   "cell_type": "code",
   "execution_count": 613,
   "id": "0aeb43e0",
   "metadata": {},
   "outputs": [],
   "source": [
    "# Se le esta pidiendo al clasificador que en sea preciso a la hora de dar resultados, es decir que sea bajo el porcentaje de ocurrencias en las que indica que es clase negativa y que el cliente no abandono el banco cuando en realidad si lo hizo.\n",
    "# Que la tasa de clase positiva sea alta: es decir que sea preciso a la hora de decir que un cliente abandono el banco sea con alta precision.\n",
    "# Adicionalmente tambien proporcionar patrones que permitan identificar cuando un cliente es propenso a abandonar el banco."
   ]
  },
  {
   "cell_type": "markdown",
   "id": "2cce0937",
   "metadata": {},
   "source": [
    "### Obtención de datos\n",
    "Importe las librerías a utilizar:"
   ]
  },
  {
   "cell_type": "code",
   "execution_count": 614,
   "id": "09c7afae",
   "metadata": {},
   "outputs": [],
   "source": [
    "import pandas as pd"
   ]
  },
  {
   "cell_type": "markdown",
   "id": "8904aa72",
   "metadata": {},
   "source": [
    "Importe los datos:"
   ]
  },
  {
   "cell_type": "code",
   "execution_count": 615,
   "id": "0910c962",
   "metadata": {},
   "outputs": [],
   "source": [
    "url = \"https://gitlab.com/francisco.arduh/datasets/-/raw/main/Churn_Modelling.csv\"\n",
    "df = pd.read_csv(url)"
   ]
  },
  {
   "cell_type": "markdown",
   "id": "ed9ec84a",
   "metadata": {},
   "source": [
    "<10%> Realice una exploración de los datos, compruebe si existe faltante de datos en alguna columna, que tipo de distribución tienen los datos, si alguna columna tiene muchos datos únicos."
   ]
  },
  {
   "cell_type": "code",
   "execution_count": 616,
   "id": "7b115e26",
   "metadata": {},
   "outputs": [
    {
     "data": {
      "text/html": [
       "<div>\n",
       "<style scoped>\n",
       "    .dataframe tbody tr th:only-of-type {\n",
       "        vertical-align: middle;\n",
       "    }\n",
       "\n",
       "    .dataframe tbody tr th {\n",
       "        vertical-align: top;\n",
       "    }\n",
       "\n",
       "    .dataframe thead th {\n",
       "        text-align: right;\n",
       "    }\n",
       "</style>\n",
       "<table border=\"1\" class=\"dataframe\">\n",
       "  <thead>\n",
       "    <tr style=\"text-align: right;\">\n",
       "      <th></th>\n",
       "      <th>RowNumber</th>\n",
       "      <th>CustomerId</th>\n",
       "      <th>Surname</th>\n",
       "      <th>CreditScore</th>\n",
       "      <th>Geography</th>\n",
       "      <th>Gender</th>\n",
       "      <th>Age</th>\n",
       "      <th>Tenure</th>\n",
       "      <th>Balance</th>\n",
       "      <th>NumOfProducts</th>\n",
       "      <th>HasCrCard</th>\n",
       "      <th>IsActiveMember</th>\n",
       "      <th>EstimatedSalary</th>\n",
       "      <th>Exited</th>\n",
       "    </tr>\n",
       "  </thead>\n",
       "  <tbody>\n",
       "    <tr>\n",
       "      <th>0</th>\n",
       "      <td>1</td>\n",
       "      <td>15634602</td>\n",
       "      <td>Hargrave</td>\n",
       "      <td>619</td>\n",
       "      <td>France</td>\n",
       "      <td>Female</td>\n",
       "      <td>42</td>\n",
       "      <td>2</td>\n",
       "      <td>0.00</td>\n",
       "      <td>1</td>\n",
       "      <td>1</td>\n",
       "      <td>1</td>\n",
       "      <td>101348.88</td>\n",
       "      <td>1</td>\n",
       "    </tr>\n",
       "    <tr>\n",
       "      <th>1</th>\n",
       "      <td>2</td>\n",
       "      <td>15647311</td>\n",
       "      <td>Hill</td>\n",
       "      <td>608</td>\n",
       "      <td>Spain</td>\n",
       "      <td>Female</td>\n",
       "      <td>41</td>\n",
       "      <td>1</td>\n",
       "      <td>83807.86</td>\n",
       "      <td>1</td>\n",
       "      <td>0</td>\n",
       "      <td>1</td>\n",
       "      <td>112542.58</td>\n",
       "      <td>0</td>\n",
       "    </tr>\n",
       "    <tr>\n",
       "      <th>2</th>\n",
       "      <td>3</td>\n",
       "      <td>15619304</td>\n",
       "      <td>Onio</td>\n",
       "      <td>502</td>\n",
       "      <td>France</td>\n",
       "      <td>Female</td>\n",
       "      <td>42</td>\n",
       "      <td>8</td>\n",
       "      <td>159660.80</td>\n",
       "      <td>3</td>\n",
       "      <td>1</td>\n",
       "      <td>0</td>\n",
       "      <td>113931.57</td>\n",
       "      <td>1</td>\n",
       "    </tr>\n",
       "    <tr>\n",
       "      <th>3</th>\n",
       "      <td>4</td>\n",
       "      <td>15701354</td>\n",
       "      <td>Boni</td>\n",
       "      <td>699</td>\n",
       "      <td>France</td>\n",
       "      <td>Female</td>\n",
       "      <td>39</td>\n",
       "      <td>1</td>\n",
       "      <td>0.00</td>\n",
       "      <td>2</td>\n",
       "      <td>0</td>\n",
       "      <td>0</td>\n",
       "      <td>93826.63</td>\n",
       "      <td>0</td>\n",
       "    </tr>\n",
       "    <tr>\n",
       "      <th>4</th>\n",
       "      <td>5</td>\n",
       "      <td>15737888</td>\n",
       "      <td>Mitchell</td>\n",
       "      <td>850</td>\n",
       "      <td>Spain</td>\n",
       "      <td>Female</td>\n",
       "      <td>43</td>\n",
       "      <td>2</td>\n",
       "      <td>125510.82</td>\n",
       "      <td>1</td>\n",
       "      <td>1</td>\n",
       "      <td>1</td>\n",
       "      <td>79084.10</td>\n",
       "      <td>0</td>\n",
       "    </tr>\n",
       "    <tr>\n",
       "      <th>...</th>\n",
       "      <td>...</td>\n",
       "      <td>...</td>\n",
       "      <td>...</td>\n",
       "      <td>...</td>\n",
       "      <td>...</td>\n",
       "      <td>...</td>\n",
       "      <td>...</td>\n",
       "      <td>...</td>\n",
       "      <td>...</td>\n",
       "      <td>...</td>\n",
       "      <td>...</td>\n",
       "      <td>...</td>\n",
       "      <td>...</td>\n",
       "      <td>...</td>\n",
       "    </tr>\n",
       "    <tr>\n",
       "      <th>9995</th>\n",
       "      <td>9996</td>\n",
       "      <td>15606229</td>\n",
       "      <td>Obijiaku</td>\n",
       "      <td>771</td>\n",
       "      <td>France</td>\n",
       "      <td>Male</td>\n",
       "      <td>39</td>\n",
       "      <td>5</td>\n",
       "      <td>0.00</td>\n",
       "      <td>2</td>\n",
       "      <td>1</td>\n",
       "      <td>0</td>\n",
       "      <td>96270.64</td>\n",
       "      <td>0</td>\n",
       "    </tr>\n",
       "    <tr>\n",
       "      <th>9996</th>\n",
       "      <td>9997</td>\n",
       "      <td>15569892</td>\n",
       "      <td>Johnstone</td>\n",
       "      <td>516</td>\n",
       "      <td>France</td>\n",
       "      <td>Male</td>\n",
       "      <td>35</td>\n",
       "      <td>10</td>\n",
       "      <td>57369.61</td>\n",
       "      <td>1</td>\n",
       "      <td>1</td>\n",
       "      <td>1</td>\n",
       "      <td>101699.77</td>\n",
       "      <td>0</td>\n",
       "    </tr>\n",
       "    <tr>\n",
       "      <th>9997</th>\n",
       "      <td>9998</td>\n",
       "      <td>15584532</td>\n",
       "      <td>Liu</td>\n",
       "      <td>709</td>\n",
       "      <td>France</td>\n",
       "      <td>Female</td>\n",
       "      <td>36</td>\n",
       "      <td>7</td>\n",
       "      <td>0.00</td>\n",
       "      <td>1</td>\n",
       "      <td>0</td>\n",
       "      <td>1</td>\n",
       "      <td>42085.58</td>\n",
       "      <td>1</td>\n",
       "    </tr>\n",
       "    <tr>\n",
       "      <th>9998</th>\n",
       "      <td>9999</td>\n",
       "      <td>15682355</td>\n",
       "      <td>Sabbatini</td>\n",
       "      <td>772</td>\n",
       "      <td>Germany</td>\n",
       "      <td>Male</td>\n",
       "      <td>42</td>\n",
       "      <td>3</td>\n",
       "      <td>75075.31</td>\n",
       "      <td>2</td>\n",
       "      <td>1</td>\n",
       "      <td>0</td>\n",
       "      <td>92888.52</td>\n",
       "      <td>1</td>\n",
       "    </tr>\n",
       "    <tr>\n",
       "      <th>9999</th>\n",
       "      <td>10000</td>\n",
       "      <td>15628319</td>\n",
       "      <td>Walker</td>\n",
       "      <td>792</td>\n",
       "      <td>France</td>\n",
       "      <td>Female</td>\n",
       "      <td>28</td>\n",
       "      <td>4</td>\n",
       "      <td>130142.79</td>\n",
       "      <td>1</td>\n",
       "      <td>1</td>\n",
       "      <td>0</td>\n",
       "      <td>38190.78</td>\n",
       "      <td>0</td>\n",
       "    </tr>\n",
       "  </tbody>\n",
       "</table>\n",
       "<p>10000 rows × 14 columns</p>\n",
       "</div>"
      ],
      "text/plain": [
       "      RowNumber  CustomerId    Surname  CreditScore Geography  Gender  Age   \n",
       "0             1    15634602   Hargrave          619    France  Female   42  \\\n",
       "1             2    15647311       Hill          608     Spain  Female   41   \n",
       "2             3    15619304       Onio          502    France  Female   42   \n",
       "3             4    15701354       Boni          699    France  Female   39   \n",
       "4             5    15737888   Mitchell          850     Spain  Female   43   \n",
       "...         ...         ...        ...          ...       ...     ...  ...   \n",
       "9995       9996    15606229   Obijiaku          771    France    Male   39   \n",
       "9996       9997    15569892  Johnstone          516    France    Male   35   \n",
       "9997       9998    15584532        Liu          709    France  Female   36   \n",
       "9998       9999    15682355  Sabbatini          772   Germany    Male   42   \n",
       "9999      10000    15628319     Walker          792    France  Female   28   \n",
       "\n",
       "      Tenure    Balance  NumOfProducts  HasCrCard  IsActiveMember   \n",
       "0          2       0.00              1          1               1  \\\n",
       "1          1   83807.86              1          0               1   \n",
       "2          8  159660.80              3          1               0   \n",
       "3          1       0.00              2          0               0   \n",
       "4          2  125510.82              1          1               1   \n",
       "...      ...        ...            ...        ...             ...   \n",
       "9995       5       0.00              2          1               0   \n",
       "9996      10   57369.61              1          1               1   \n",
       "9997       7       0.00              1          0               1   \n",
       "9998       3   75075.31              2          1               0   \n",
       "9999       4  130142.79              1          1               0   \n",
       "\n",
       "      EstimatedSalary  Exited  \n",
       "0           101348.88       1  \n",
       "1           112542.58       0  \n",
       "2           113931.57       1  \n",
       "3            93826.63       0  \n",
       "4            79084.10       0  \n",
       "...               ...     ...  \n",
       "9995         96270.64       0  \n",
       "9996        101699.77       0  \n",
       "9997         42085.58       1  \n",
       "9998         92888.52       1  \n",
       "9999         38190.78       0  \n",
       "\n",
       "[10000 rows x 14 columns]"
      ]
     },
     "metadata": {},
     "output_type": "display_data"
    },
    {
     "name": "stdout",
     "output_type": "stream",
     "text": [
      "<class 'pandas.core.frame.DataFrame'>\n",
      "RangeIndex: 10000 entries, 0 to 9999\n",
      "Data columns (total 14 columns):\n",
      " #   Column           Non-Null Count  Dtype  \n",
      "---  ------           --------------  -----  \n",
      " 0   RowNumber        10000 non-null  int64  \n",
      " 1   CustomerId       10000 non-null  int64  \n",
      " 2   Surname          10000 non-null  object \n",
      " 3   CreditScore      10000 non-null  int64  \n",
      " 4   Geography        10000 non-null  object \n",
      " 5   Gender           10000 non-null  object \n",
      " 6   Age              10000 non-null  int64  \n",
      " 7   Tenure           10000 non-null  int64  \n",
      " 8   Balance          10000 non-null  float64\n",
      " 9   NumOfProducts    10000 non-null  int64  \n",
      " 10  HasCrCard        10000 non-null  int64  \n",
      " 11  IsActiveMember   10000 non-null  int64  \n",
      " 12  EstimatedSalary  10000 non-null  float64\n",
      " 13  Exited           10000 non-null  int64  \n",
      "dtypes: float64(2), int64(9), object(3)\n",
      "memory usage: 1.1+ MB\n"
     ]
    },
    {
     "data": {
      "text/html": [
       "<div>\n",
       "<style scoped>\n",
       "    .dataframe tbody tr th:only-of-type {\n",
       "        vertical-align: middle;\n",
       "    }\n",
       "\n",
       "    .dataframe tbody tr th {\n",
       "        vertical-align: top;\n",
       "    }\n",
       "\n",
       "    .dataframe thead th {\n",
       "        text-align: right;\n",
       "    }\n",
       "</style>\n",
       "<table border=\"1\" class=\"dataframe\">\n",
       "  <thead>\n",
       "    <tr style=\"text-align: right;\">\n",
       "      <th></th>\n",
       "      <th>RowNumber</th>\n",
       "      <th>CustomerId</th>\n",
       "      <th>CreditScore</th>\n",
       "      <th>Age</th>\n",
       "      <th>Tenure</th>\n",
       "      <th>Balance</th>\n",
       "      <th>NumOfProducts</th>\n",
       "      <th>HasCrCard</th>\n",
       "      <th>IsActiveMember</th>\n",
       "      <th>EstimatedSalary</th>\n",
       "      <th>Exited</th>\n",
       "    </tr>\n",
       "  </thead>\n",
       "  <tbody>\n",
       "    <tr>\n",
       "      <th>count</th>\n",
       "      <td>10000.00000</td>\n",
       "      <td>1.000000e+04</td>\n",
       "      <td>10000.000000</td>\n",
       "      <td>10000.000000</td>\n",
       "      <td>10000.000000</td>\n",
       "      <td>10000.000000</td>\n",
       "      <td>10000.000000</td>\n",
       "      <td>10000.00000</td>\n",
       "      <td>10000.000000</td>\n",
       "      <td>10000.000000</td>\n",
       "      <td>10000.000000</td>\n",
       "    </tr>\n",
       "    <tr>\n",
       "      <th>mean</th>\n",
       "      <td>5000.50000</td>\n",
       "      <td>1.569094e+07</td>\n",
       "      <td>650.528800</td>\n",
       "      <td>38.921800</td>\n",
       "      <td>5.012800</td>\n",
       "      <td>76485.889288</td>\n",
       "      <td>1.530200</td>\n",
       "      <td>0.70550</td>\n",
       "      <td>0.515100</td>\n",
       "      <td>100090.239881</td>\n",
       "      <td>0.203700</td>\n",
       "    </tr>\n",
       "    <tr>\n",
       "      <th>std</th>\n",
       "      <td>2886.89568</td>\n",
       "      <td>7.193619e+04</td>\n",
       "      <td>96.653299</td>\n",
       "      <td>10.487806</td>\n",
       "      <td>2.892174</td>\n",
       "      <td>62397.405202</td>\n",
       "      <td>0.581654</td>\n",
       "      <td>0.45584</td>\n",
       "      <td>0.499797</td>\n",
       "      <td>57510.492818</td>\n",
       "      <td>0.402769</td>\n",
       "    </tr>\n",
       "    <tr>\n",
       "      <th>min</th>\n",
       "      <td>1.00000</td>\n",
       "      <td>1.556570e+07</td>\n",
       "      <td>350.000000</td>\n",
       "      <td>18.000000</td>\n",
       "      <td>0.000000</td>\n",
       "      <td>0.000000</td>\n",
       "      <td>1.000000</td>\n",
       "      <td>0.00000</td>\n",
       "      <td>0.000000</td>\n",
       "      <td>11.580000</td>\n",
       "      <td>0.000000</td>\n",
       "    </tr>\n",
       "    <tr>\n",
       "      <th>25%</th>\n",
       "      <td>2500.75000</td>\n",
       "      <td>1.562853e+07</td>\n",
       "      <td>584.000000</td>\n",
       "      <td>32.000000</td>\n",
       "      <td>3.000000</td>\n",
       "      <td>0.000000</td>\n",
       "      <td>1.000000</td>\n",
       "      <td>0.00000</td>\n",
       "      <td>0.000000</td>\n",
       "      <td>51002.110000</td>\n",
       "      <td>0.000000</td>\n",
       "    </tr>\n",
       "    <tr>\n",
       "      <th>50%</th>\n",
       "      <td>5000.50000</td>\n",
       "      <td>1.569074e+07</td>\n",
       "      <td>652.000000</td>\n",
       "      <td>37.000000</td>\n",
       "      <td>5.000000</td>\n",
       "      <td>97198.540000</td>\n",
       "      <td>1.000000</td>\n",
       "      <td>1.00000</td>\n",
       "      <td>1.000000</td>\n",
       "      <td>100193.915000</td>\n",
       "      <td>0.000000</td>\n",
       "    </tr>\n",
       "    <tr>\n",
       "      <th>75%</th>\n",
       "      <td>7500.25000</td>\n",
       "      <td>1.575323e+07</td>\n",
       "      <td>718.000000</td>\n",
       "      <td>44.000000</td>\n",
       "      <td>7.000000</td>\n",
       "      <td>127644.240000</td>\n",
       "      <td>2.000000</td>\n",
       "      <td>1.00000</td>\n",
       "      <td>1.000000</td>\n",
       "      <td>149388.247500</td>\n",
       "      <td>0.000000</td>\n",
       "    </tr>\n",
       "    <tr>\n",
       "      <th>max</th>\n",
       "      <td>10000.00000</td>\n",
       "      <td>1.581569e+07</td>\n",
       "      <td>850.000000</td>\n",
       "      <td>92.000000</td>\n",
       "      <td>10.000000</td>\n",
       "      <td>250898.090000</td>\n",
       "      <td>4.000000</td>\n",
       "      <td>1.00000</td>\n",
       "      <td>1.000000</td>\n",
       "      <td>199992.480000</td>\n",
       "      <td>1.000000</td>\n",
       "    </tr>\n",
       "  </tbody>\n",
       "</table>\n",
       "</div>"
      ],
      "text/plain": [
       "         RowNumber    CustomerId   CreditScore           Age        Tenure   \n",
       "count  10000.00000  1.000000e+04  10000.000000  10000.000000  10000.000000  \\\n",
       "mean    5000.50000  1.569094e+07    650.528800     38.921800      5.012800   \n",
       "std     2886.89568  7.193619e+04     96.653299     10.487806      2.892174   \n",
       "min        1.00000  1.556570e+07    350.000000     18.000000      0.000000   \n",
       "25%     2500.75000  1.562853e+07    584.000000     32.000000      3.000000   \n",
       "50%     5000.50000  1.569074e+07    652.000000     37.000000      5.000000   \n",
       "75%     7500.25000  1.575323e+07    718.000000     44.000000      7.000000   \n",
       "max    10000.00000  1.581569e+07    850.000000     92.000000     10.000000   \n",
       "\n",
       "             Balance  NumOfProducts    HasCrCard  IsActiveMember   \n",
       "count   10000.000000   10000.000000  10000.00000    10000.000000  \\\n",
       "mean    76485.889288       1.530200      0.70550        0.515100   \n",
       "std     62397.405202       0.581654      0.45584        0.499797   \n",
       "min         0.000000       1.000000      0.00000        0.000000   \n",
       "25%         0.000000       1.000000      0.00000        0.000000   \n",
       "50%     97198.540000       1.000000      1.00000        1.000000   \n",
       "75%    127644.240000       2.000000      1.00000        1.000000   \n",
       "max    250898.090000       4.000000      1.00000        1.000000   \n",
       "\n",
       "       EstimatedSalary        Exited  \n",
       "count     10000.000000  10000.000000  \n",
       "mean     100090.239881      0.203700  \n",
       "std       57510.492818      0.402769  \n",
       "min          11.580000      0.000000  \n",
       "25%       51002.110000      0.000000  \n",
       "50%      100193.915000      0.000000  \n",
       "75%      149388.247500      0.000000  \n",
       "max      199992.480000      1.000000  "
      ]
     },
     "execution_count": 616,
     "metadata": {},
     "output_type": "execute_result"
    }
   ],
   "source": [
    "# Para realizar una exploración de los datos a nivel general podemos usar funciones como head(), describe(), display(), etc.\n",
    "\n",
    "# ACLARACION: Las distintas opciones varian en los resultados que proveen pero todos son utiles para llevar a cabo un analisis general de nuestro dataset\n",
    "# previo a comenzar a limpiar y modelar los datos.\n",
    "\n",
    "df.head() # opcion 1\n",
    "\n",
    "df.describe() # opcion 2\n",
    "\n",
    "display(df) # opcion 3\n",
    "\n",
    "df.value_counts # opcion 4\n",
    "\n",
    "df.info() # opcion 5\n",
    "\n",
    "df.describe() # en este caso uso describe porque lo considero el mas abarcativo"
   ]
  },
  {
   "cell_type": "code",
   "execution_count": 617,
   "id": "eabd356f",
   "metadata": {},
   "outputs": [
    {
     "data": {
      "image/png": "[encoded data removed]",
      "text/plain": [
       "<Figure size 640x480 with 12 Axes>"
      ]
     },
     "metadata": {},
     "output_type": "display_data"
    }
   ],
   "source": [
    "# Podemos realizar histogramas tambien para un vistazo general:\n",
    "\n",
    "import matplotlib.pyplot as plt # para esto importamos la libreria para hacer graficos\n",
    "\n",
    "df.hist() # El histograma nos va a ayudar a analizar las distintas distribuciones de las columnas de nuestro dataset\n",
    "\n",
    "plt.show()\n",
    "\n",
    "# Viendo el histograma podemos ver de que hay columnas como 'isActiveMember', 'Exited' y 'HasCrCard' que almacenan variables binarias, siendo '1' para indicar el caso positivo y siendo '0' para indicar el caso negativo.\n",
    "\n",
    "# Otro aspecto que se puede observar es que columnas como 'RowNumber', 'CustomerId' y 'EstimatedSalary' cuentan con muchos valores unicos, incluso en casos como 'RowNumber' y 'CustomerId' todos los valores son unicos ya que la primera indica el numero de fila de nuestro dataset y la segunda indica un identificador univoco para cada cliente que se encuentra en el dataset."
   ]
  },
  {
   "cell_type": "code",
   "execution_count": 618,
   "id": "3ca88e40",
   "metadata": {},
   "outputs": [
    {
     "data": {
      "image/png": "[encoded data removed]",
      "text/plain": [
       "<Figure size 640x480 with 1 Axes>"
      ]
     },
     "metadata": {},
     "output_type": "display_data"
    }
   ],
   "source": [
    "# Hacemos un diagrama de densidad\n",
    "df.plot(kind='density')\n",
    "plt.show()"
   ]
  },
  {
   "cell_type": "code",
   "execution_count": 619,
   "id": "9dbca71a",
   "metadata": {},
   "outputs": [
    {
     "name": "stdout",
     "output_type": "stream",
     "text": [
      "RowNumber          0\n",
      "CustomerId         0\n",
      "Surname            0\n",
      "CreditScore        0\n",
      "Geography          0\n",
      "Gender             0\n",
      "Age                0\n",
      "Tenure             0\n",
      "Balance            0\n",
      "NumOfProducts      0\n",
      "HasCrCard          0\n",
      "IsActiveMember     0\n",
      "EstimatedSalary    0\n",
      "Exited             0\n",
      "dtype: int64\n"
     ]
    }
   ],
   "source": [
    "# Para buscar datos nulos podemos hacer uso del metodo 'isnull()' que basicamente nos devuelve si hay datos vacios dentro de nuestro dataset\n",
    "\n",
    "nil_values = df.isnull()\n",
    "\n",
    "# Hacemos un count de la nueva variable para saber si hay datos nulos y en caso de que los haya tambien.\n",
    "\n",
    "nil_values_count = nil_values.sum()\n",
    "\n",
    "print(nil_values_count) # Podemos ver en este caso que no hay ningun valor nulo en nuestro dataset\n"
   ]
  },
  {
   "cell_type": "markdown",
   "id": "857e6fb9",
   "metadata": {},
   "source": [
    "<5%> Separar X_train, y_train, X_test, y_test"
   ]
  },
  {
   "cell_type": "code",
   "execution_count": 620,
   "id": "67591b40",
   "metadata": {},
   "outputs": [],
   "source": [
    "# Se realiza la separacion de los datos en X e y: siendo X nuestro input, es decir los valores que le vamos a ingresar al modelo para luego clasificarlo\n",
    "# y luego tenemos la variable y que en este caso seria nuestro 'target' u objetivo, es decir con el que vamos a validar con el output luego de pasar por nuestro modelo\n",
    "# de clasificacion.\n",
    "\n",
    "# El enunciado menciona que la variable objetivo en este caso es si el cliente abandona el banco o no, por lo cual en nuestro target(y) vamos a almacenar la\n",
    "# columna 'Exited'.\n",
    "\n",
    "# Para esto lo asignamos a la nueva variable 'y' de la siguiente manera:\n",
    "\n",
    "y = df[\"Exited\"].copy() # copiamos para no alterar el dataset inicial\n",
    "\n",
    "# validamos que se almaceno de manera correcta:\n",
    "\n",
    "# podemos observar que es una variable binaria como se menciono anteriormente donde '1' indica que el cliente abandono y '0' en el caso de que no lo haya hecho."
   ]
  },
  {
   "cell_type": "code",
   "execution_count": 621,
   "id": "9ff730f4",
   "metadata": {},
   "outputs": [
    {
     "data": {
      "text/html": [
       "<div>\n",
       "<style scoped>\n",
       "    .dataframe tbody tr th:only-of-type {\n",
       "        vertical-align: middle;\n",
       "    }\n",
       "\n",
       "    .dataframe tbody tr th {\n",
       "        vertical-align: top;\n",
       "    }\n",
       "\n",
       "    .dataframe thead th {\n",
       "        text-align: right;\n",
       "    }\n",
       "</style>\n",
       "<table border=\"1\" class=\"dataframe\">\n",
       "  <thead>\n",
       "    <tr style=\"text-align: right;\">\n",
       "      <th></th>\n",
       "      <th>RowNumber</th>\n",
       "      <th>CustomerId</th>\n",
       "      <th>Surname</th>\n",
       "      <th>CreditScore</th>\n",
       "      <th>Geography</th>\n",
       "      <th>Gender</th>\n",
       "      <th>Age</th>\n",
       "      <th>Tenure</th>\n",
       "      <th>Balance</th>\n",
       "      <th>NumOfProducts</th>\n",
       "      <th>HasCrCard</th>\n",
       "      <th>IsActiveMember</th>\n",
       "      <th>EstimatedSalary</th>\n",
       "    </tr>\n",
       "  </thead>\n",
       "  <tbody>\n",
       "    <tr>\n",
       "      <th>0</th>\n",
       "      <td>1</td>\n",
       "      <td>15634602</td>\n",
       "      <td>Hargrave</td>\n",
       "      <td>619</td>\n",
       "      <td>France</td>\n",
       "      <td>Female</td>\n",
       "      <td>42</td>\n",
       "      <td>2</td>\n",
       "      <td>0.00</td>\n",
       "      <td>1</td>\n",
       "      <td>1</td>\n",
       "      <td>1</td>\n",
       "      <td>101348.88</td>\n",
       "    </tr>\n",
       "    <tr>\n",
       "      <th>1</th>\n",
       "      <td>2</td>\n",
       "      <td>15647311</td>\n",
       "      <td>Hill</td>\n",
       "      <td>608</td>\n",
       "      <td>Spain</td>\n",
       "      <td>Female</td>\n",
       "      <td>41</td>\n",
       "      <td>1</td>\n",
       "      <td>83807.86</td>\n",
       "      <td>1</td>\n",
       "      <td>0</td>\n",
       "      <td>1</td>\n",
       "      <td>112542.58</td>\n",
       "    </tr>\n",
       "    <tr>\n",
       "      <th>2</th>\n",
       "      <td>3</td>\n",
       "      <td>15619304</td>\n",
       "      <td>Onio</td>\n",
       "      <td>502</td>\n",
       "      <td>France</td>\n",
       "      <td>Female</td>\n",
       "      <td>42</td>\n",
       "      <td>8</td>\n",
       "      <td>159660.80</td>\n",
       "      <td>3</td>\n",
       "      <td>1</td>\n",
       "      <td>0</td>\n",
       "      <td>113931.57</td>\n",
       "    </tr>\n",
       "    <tr>\n",
       "      <th>3</th>\n",
       "      <td>4</td>\n",
       "      <td>15701354</td>\n",
       "      <td>Boni</td>\n",
       "      <td>699</td>\n",
       "      <td>France</td>\n",
       "      <td>Female</td>\n",
       "      <td>39</td>\n",
       "      <td>1</td>\n",
       "      <td>0.00</td>\n",
       "      <td>2</td>\n",
       "      <td>0</td>\n",
       "      <td>0</td>\n",
       "      <td>93826.63</td>\n",
       "    </tr>\n",
       "    <tr>\n",
       "      <th>4</th>\n",
       "      <td>5</td>\n",
       "      <td>15737888</td>\n",
       "      <td>Mitchell</td>\n",
       "      <td>850</td>\n",
       "      <td>Spain</td>\n",
       "      <td>Female</td>\n",
       "      <td>43</td>\n",
       "      <td>2</td>\n",
       "      <td>125510.82</td>\n",
       "      <td>1</td>\n",
       "      <td>1</td>\n",
       "      <td>1</td>\n",
       "      <td>79084.10</td>\n",
       "    </tr>\n",
       "  </tbody>\n",
       "</table>\n",
       "</div>"
      ],
      "text/plain": [
       "   RowNumber  CustomerId   Surname  CreditScore Geography  Gender  Age   \n",
       "0          1    15634602  Hargrave          619    France  Female   42  \\\n",
       "1          2    15647311      Hill          608     Spain  Female   41   \n",
       "2          3    15619304      Onio          502    France  Female   42   \n",
       "3          4    15701354      Boni          699    France  Female   39   \n",
       "4          5    15737888  Mitchell          850     Spain  Female   43   \n",
       "\n",
       "   Tenure    Balance  NumOfProducts  HasCrCard  IsActiveMember   \n",
       "0       2       0.00              1          1               1  \\\n",
       "1       1   83807.86              1          0               1   \n",
       "2       8  159660.80              3          1               0   \n",
       "3       1       0.00              2          0               0   \n",
       "4       2  125510.82              1          1               1   \n",
       "\n",
       "   EstimatedSalary  \n",
       "0        101348.88  \n",
       "1        112542.58  \n",
       "2        113931.57  \n",
       "3         93826.63  \n",
       "4         79084.10  "
      ]
     },
     "execution_count": 621,
     "metadata": {},
     "output_type": "execute_result"
    }
   ],
   "source": [
    "# Ahora procedemos a preparar nuestra variable 'X':\n",
    "\n",
    "# Primero como una buena practica copiamos el dataset y lo asignamos en la variable X como una buena practicas:\n",
    "\n",
    "X = df.copy()\n",
    "\n",
    "# Segundo tenemos que remover la variable que separamos en el target, en este caso 'Exited':\n",
    "\n",
    "X = df.drop('Exited', axis=1) # Hacemosuso del metodo drop, que basicamente elimina y en este caso le pasamos como parametro 'axis=1' donde basicamente le indicamos\n",
    "# que lo haga en forma de columna\n",
    "\n",
    "# Comprobamos que se haya realizado con exito:\n",
    "\n",
    "X.head()"
   ]
  },
  {
   "cell_type": "markdown",
   "id": "ab1cc3bf",
   "metadata": {},
   "source": [
    "### Procesado y transformación de datos\n",
    "<10%> ¿Qué transformaciones debería aplicar? Especifique y justifique por grupo de columnas.\n",
    "\n",
    "Por ejemplo: columna A, B y C aplicaría transformación X porque ...\n",
    "\n",
    "Escriba los nombres de las columna en una lista por cada grupo:"
   ]
  },
  {
   "cell_type": "code",
   "execution_count": 622,
   "id": "7bc19c91",
   "metadata": {},
   "outputs": [
    {
     "data": {
      "text/html": [
       "<div>\n",
       "<style scoped>\n",
       "    .dataframe tbody tr th:only-of-type {\n",
       "        vertical-align: middle;\n",
       "    }\n",
       "\n",
       "    .dataframe tbody tr th {\n",
       "        vertical-align: top;\n",
       "    }\n",
       "\n",
       "    .dataframe thead th {\n",
       "        text-align: right;\n",
       "    }\n",
       "</style>\n",
       "<table border=\"1\" class=\"dataframe\">\n",
       "  <thead>\n",
       "    <tr style=\"text-align: right;\">\n",
       "      <th></th>\n",
       "      <th>CreditScore</th>\n",
       "      <th>Age</th>\n",
       "      <th>Tenure</th>\n",
       "      <th>Balance</th>\n",
       "      <th>NumOfProducts</th>\n",
       "      <th>HasCrCard</th>\n",
       "      <th>IsActiveMember</th>\n",
       "      <th>EstimatedSalary</th>\n",
       "      <th>Geography_France</th>\n",
       "      <th>Geography_Germany</th>\n",
       "      <th>Geography_Spain</th>\n",
       "      <th>Gender_Female</th>\n",
       "      <th>Gender_Male</th>\n",
       "    </tr>\n",
       "  </thead>\n",
       "  <tbody>\n",
       "    <tr>\n",
       "      <th>0</th>\n",
       "      <td>-0.326221</td>\n",
       "      <td>0.293517</td>\n",
       "      <td>-1.041760</td>\n",
       "      <td>-1.225848</td>\n",
       "      <td>-0.911583</td>\n",
       "      <td>0.646092</td>\n",
       "      <td>0.970243</td>\n",
       "      <td>0.021886</td>\n",
       "      <td>0.997204</td>\n",
       "      <td>-0.578736</td>\n",
       "      <td>-0.573809</td>\n",
       "      <td>1.095988</td>\n",
       "      <td>-1.095988</td>\n",
       "    </tr>\n",
       "    <tr>\n",
       "      <th>1</th>\n",
       "      <td>-0.440036</td>\n",
       "      <td>0.198164</td>\n",
       "      <td>-1.387538</td>\n",
       "      <td>0.117350</td>\n",
       "      <td>-0.911583</td>\n",
       "      <td>-1.547768</td>\n",
       "      <td>0.970243</td>\n",
       "      <td>0.216534</td>\n",
       "      <td>-1.002804</td>\n",
       "      <td>-0.578736</td>\n",
       "      <td>1.742740</td>\n",
       "      <td>1.095988</td>\n",
       "      <td>-1.095988</td>\n",
       "    </tr>\n",
       "    <tr>\n",
       "      <th>2</th>\n",
       "      <td>-1.536794</td>\n",
       "      <td>0.293517</td>\n",
       "      <td>1.032908</td>\n",
       "      <td>1.333053</td>\n",
       "      <td>2.527057</td>\n",
       "      <td>0.646092</td>\n",
       "      <td>-1.030670</td>\n",
       "      <td>0.240687</td>\n",
       "      <td>0.997204</td>\n",
       "      <td>-0.578736</td>\n",
       "      <td>-0.573809</td>\n",
       "      <td>1.095988</td>\n",
       "      <td>-1.095988</td>\n",
       "    </tr>\n",
       "    <tr>\n",
       "      <th>3</th>\n",
       "      <td>0.501521</td>\n",
       "      <td>0.007457</td>\n",
       "      <td>-1.387538</td>\n",
       "      <td>-1.225848</td>\n",
       "      <td>0.807737</td>\n",
       "      <td>-1.547768</td>\n",
       "      <td>-1.030670</td>\n",
       "      <td>-0.108918</td>\n",
       "      <td>0.997204</td>\n",
       "      <td>-0.578736</td>\n",
       "      <td>-0.573809</td>\n",
       "      <td>1.095988</td>\n",
       "      <td>-1.095988</td>\n",
       "    </tr>\n",
       "    <tr>\n",
       "      <th>4</th>\n",
       "      <td>2.063884</td>\n",
       "      <td>0.388871</td>\n",
       "      <td>-1.041760</td>\n",
       "      <td>0.785728</td>\n",
       "      <td>-0.911583</td>\n",
       "      <td>0.646092</td>\n",
       "      <td>0.970243</td>\n",
       "      <td>-0.365276</td>\n",
       "      <td>-1.002804</td>\n",
       "      <td>-0.578736</td>\n",
       "      <td>1.742740</td>\n",
       "      <td>1.095988</td>\n",
       "      <td>-1.095988</td>\n",
       "    </tr>\n",
       "  </tbody>\n",
       "</table>\n",
       "</div>"
      ],
      "text/plain": [
       "   CreditScore       Age    Tenure   Balance  NumOfProducts  HasCrCard   \n",
       "0    -0.326221  0.293517 -1.041760 -1.225848      -0.911583   0.646092  \\\n",
       "1    -0.440036  0.198164 -1.387538  0.117350      -0.911583  -1.547768   \n",
       "2    -1.536794  0.293517  1.032908  1.333053       2.527057   0.646092   \n",
       "3     0.501521  0.007457 -1.387538 -1.225848       0.807737  -1.547768   \n",
       "4     2.063884  0.388871 -1.041760  0.785728      -0.911583   0.646092   \n",
       "\n",
       "   IsActiveMember  EstimatedSalary  Geography_France  Geography_Germany   \n",
       "0        0.970243         0.021886          0.997204          -0.578736  \\\n",
       "1        0.970243         0.216534         -1.002804          -0.578736   \n",
       "2       -1.030670         0.240687          0.997204          -0.578736   \n",
       "3       -1.030670        -0.108918          0.997204          -0.578736   \n",
       "4        0.970243        -0.365276         -1.002804          -0.578736   \n",
       "\n",
       "   Geography_Spain  Gender_Female  Gender_Male  \n",
       "0        -0.573809       1.095988    -1.095988  \n",
       "1         1.742740       1.095988    -1.095988  \n",
       "2        -0.573809       1.095988    -1.095988  \n",
       "3        -0.573809       1.095988    -1.095988  \n",
       "4         1.742740       1.095988    -1.095988  "
      ]
     },
     "execution_count": 622,
     "metadata": {},
     "output_type": "execute_result"
    }
   ],
   "source": [
    "# Variables irrelevantes: ['RowNumber', 'CustomerId', 'Surname']\n",
    "\n",
    "# 'RowNumber' ya que solo indica el numero de la columna del dataset\n",
    "# 'CustomerId' ya que sirve para identificar univocamente al cliente\n",
    "# 'Surname' ya que el apellido del cliente no va a tener ninguna relación con nuestro modelo de clasificacion\n",
    "\n",
    "# Para eliminarlas usamos el metodo .drop():\n",
    "\n",
    "X = X.drop(['RowNumber', 'CustomerId', 'Surname'], axis=1)\n",
    "\n",
    "# Variables categoricas: ['Geography', 'Gender']\n",
    "\n",
    "# Para estas variables categoricas podemos codificarlos usando por ejemplo 'OneHotEncoder' u 'OrdinalEncoder' para poder\n",
    "# transformar las variables categoricas en variables numericas.\n",
    "\n",
    "# En este caso lo vamos a hacer con el metodo 'get_dummies()' de pandas que simplifica la implementacion y lo que hace es:\n",
    "# reemplaza las variables categoricas por True o False:\n",
    "\n",
    "X = pd.get_dummies(X, columns= ['Geography', 'Gender'])\n",
    "\n",
    "# Usamos el 'StandardScaler' para escalar nuestras variables numericas:\n",
    "\n",
    "# importamos el 'StandardScaler'\n",
    "from sklearn.preprocessing import StandardScaler\n",
    "\n",
    "# creamos el scaler\n",
    "StandardScaler()\n",
    "scaler = StandardScaler() # esto basicamente lo que hace es remover la media y lo escala a su varianza unitaria (z = (x - u) / s)\n",
    "# se lo aplicamos a nuestro input\n",
    "X_scaled = scaler.fit_transform(X)\n",
    "\n",
    "# Al aplicar el scaler se convirtio en dato de tipo 'numpy.ndarray' para convertirlo de nuevo en dataframe hacemos:\n",
    "X = pd.DataFrame(X_scaled, columns=X.columns)\n",
    "\n",
    "# Verificamos:\n",
    "\n",
    "X.head()\n",
    "\n"
   ]
  },
  {
   "cell_type": "code",
   "execution_count": 623,
   "id": "fc5d0c04",
   "metadata": {},
   "outputs": [
    {
     "data": {
      "text/plain": [
       "9254    0\n",
       "1561    0\n",
       "1670    1\n",
       "6087    1\n",
       "6669    1\n",
       "Name: Exited, dtype: int64"
      ]
     },
     "execution_count": 623,
     "metadata": {},
     "output_type": "execute_result"
    }
   ],
   "source": [
    "# Ahora procedemos a hacer el test y el train set, es decir generar nuestro dataset de prueba y el de entrenamiento de nuestro modelo.\n",
    "# Es decir un fragmento del dataset lo vamos a dedicar a el entrenamiento de nuestro modelo de predicción y el resto para luego validar\n",
    "# las predicciones que nuestro modelo arroja y asi evaluar su eficacia.\n",
    "\n",
    "# Para esto primero importamos 'test_train_split' de scikit que basicamente nos realiza lo que se menciona arriba:\n",
    "\n",
    "from sklearn.model_selection import train_test_split\n",
    "\n",
    "# Lo dividimos de la siguiente manera: usamos el parametro 'test_size' para indicarle que vamos a usar un 80% de nuestro dataset\n",
    "# para entrenamiento y un 20% para prueba, y utilizamos la seed '42' para la generación de la misma (random_state)\n",
    "X_train, X_test, y_train, y_test = train_test_split(X, y, test_size=0.2, random_state=42)\n",
    "\n",
    "# Comprobamos que haya funcionado\n",
    "X_train.head()\n",
    "\n",
    "y_train.head()"
   ]
  },
  {
   "cell_type": "markdown",
   "id": "af6cc0c0",
   "metadata": {},
   "source": [
    "<15%> A continuación escriba el código para realizar las transformaciones transformaciones"
   ]
  },
  {
   "cell_type": "code",
   "execution_count": 624,
   "id": "4a623b1f",
   "metadata": {},
   "outputs": [],
   "source": [
    "# ACLARACIÓN: Se realizo en la seccion anterior"
   ]
  },
  {
   "cell_type": "markdown",
   "id": "76693b97",
   "metadata": {},
   "source": [
    "### Selección de modelo y entrenamiento\n",
    " \n"
   ]
  },
  {
   "cell_type": "code",
   "execution_count": 625,
   "id": "8a371dfd",
   "metadata": {},
   "outputs": [],
   "source": [
    "from sklearn.linear_model import LogisticRegression\n",
    "from sklearn.ensemble import RandomForestClassifier\n",
    "cla_log = LogisticRegression()\n",
    "cla_rf = RandomForestClassifier()\n",
    "\n",
    "# Entrenamos el modelo para regresion logistica:\n",
    "cla_log.fit(X_train, y_train)\n",
    "\n",
    "# Hacemos predicciones en el set de prueba\n",
    "log_y_pred = cla_log.decision_function(X_test)\n",
    "\n",
    "# Entrenamos el modelo para usar Random Forest\n",
    "cla_rf.fit(X_train, y_train)\n",
    "\n",
    "rf_y_pred = cla_rf.predict_proba(X_test)"
   ]
  },
  {
   "cell_type": "markdown",
   "id": "63386e19",
   "metadata": {},
   "source": [
    "<15%>Utilice validación cruzada para evaluar los modelos que se importaron. Utilice el de area bajo la curva roc mas alto.\n",
    "Utilizar el metodo \"cross_val_predict\", tenga en cuenta que la variable, \"method\" para el LogisticRegression es \"decision_function\" y para RandomForestClassifier es \"predict_proba\" (ver clase o libro)\n",
    "\n",
    "<10%>¿Por qué lo eligiria el modelo por el area bajo la curva roc?"
   ]
  },
  {
   "cell_type": "code",
   "execution_count": 626,
   "id": "fb6f26ee",
   "metadata": {},
   "outputs": [
    {
     "data": {
      "text/plain": [
       "array([0.75220976, 0.7688553 , 0.76147274])"
      ]
     },
     "execution_count": 626,
     "metadata": {},
     "output_type": "execute_result"
    }
   ],
   "source": [
    "# Realizamos validación cruzada comenzando por el modelo de regresión logistica:\n",
    "\n",
    "# Importamos el modulo para hacer validacion cruzada\n",
    "from sklearn.model_selection import cross_val_score\n",
    "\n",
    "# para usar el area bajo la curva roc mas alto le tenemos que pasar como parametro a 'scoring' 'roc_auc'\n",
    "cross_val_score(cla_log, X_train, y_train, cv=3, scoring = \"roc_auc\")"
   ]
  },
  {
   "cell_type": "code",
   "execution_count": 627,
   "id": "36a28c4d",
   "metadata": {},
   "outputs": [
    {
     "data": {
      "text/plain": [
       "array([-3.41152315, -1.39246047, -2.27564601, ..., -1.41058621,\n",
       "       -0.94749821, -0.77082859])"
      ]
     },
     "execution_count": 627,
     "metadata": {},
     "output_type": "execute_result"
    }
   ],
   "source": [
    "# Hacemos el cross validation predict para el modelo de regresion logistica\n",
    "from sklearn.model_selection import cross_val_predict\n",
    "\n",
    "cross_val_predict(cla_log, X_train, y_train, cv=3, method=\"decision_function\")"
   ]
  },
  {
   "cell_type": "code",
   "execution_count": 628,
   "id": "1df53578",
   "metadata": {},
   "outputs": [
    {
     "data": {
      "text/plain": [
       "array([0.84091535, 0.85373257, 0.84489827])"
      ]
     },
     "execution_count": 628,
     "metadata": {},
     "output_type": "execute_result"
    }
   ],
   "source": [
    "# para usar el area bajo la curva roc mas alto le tenemos que pasar como parametro a 'scoring' 'roc_auc'\n",
    "cross_val_score(cla_rf, X_train, y_train, cv=3, scoring = \"roc_auc\")"
   ]
  },
  {
   "cell_type": "code",
   "execution_count": 629,
   "id": "c764fbe0",
   "metadata": {},
   "outputs": [
    {
     "data": {
      "text/plain": [
       "array([[0.96806273, 0.03193727],\n",
       "       [0.80098475, 0.19901525],\n",
       "       [0.90683987, 0.09316013],\n",
       "       ...,\n",
       "       [0.80385839, 0.19614161],\n",
       "       [0.72061177, 0.27938823],\n",
       "       [0.68370011, 0.31629989]])"
      ]
     },
     "execution_count": 629,
     "metadata": {},
     "output_type": "execute_result"
    }
   ],
   "source": [
    "# Hacemos el cross validation predict para el modelo de decision forest\n",
    "cross_val_predict(cla_log, X_train, y_train, cv=3, method=\"predict_proba\")"
   ]
  },
  {
   "cell_type": "code",
   "execution_count": 630,
   "id": "3fb0f301",
   "metadata": {},
   "outputs": [],
   "source": [
    "# ROC es una metrica que se usa comunmente para medir la calidad de nuestros modelos de clasificacion donde basicamente lo que nos indica es\n",
    "# la capacidad de nuestro modelo de distinguir entre clases positivas y negativas.\n",
    "\n",
    "# Entonces si elegimos un modelo con el area bajo la curva roc mas alta quiere decir que este tiene mayor capacidad para distinguir entre las clases positiva y negativa\n",
    "#Por lo tanto, elegir el modelo con el área bajo la curva ROC más alta indica que ese modelo tiene la capacidad más alta de distinguir entre las clases positiva y negativa.\n",
    "\n",
    "# En resumen nos va a asegurar una mayor calidad de predicción de nuestra clase positiva.\n",
    "\n",
    "# Por lo que nos vamos a inclinar por el RandomForest"
   ]
  },
  {
   "cell_type": "markdown",
   "id": "13659879",
   "metadata": {},
   "source": [
    "<15>Utilice el metodo grid search sobre el modelo elegido  \n",
    "en caso de ser LogisticRegression\n",
    "```\n",
    "param_grid = [\n",
    "{'C': [0.1, 1, 10], 'penalty': ['elasticnet'], 'l1_ratio': [0.,0.2,0.4]}\n",
    "]\n",
    "```\n",
    "en caso de ser RandomForest utilize:\n",
    "```\n",
    "param_grid = [\n",
    "{'n_estimators': [30, 100], 'max_features': [2, 4, 6, 8]}\n",
    "]\n",
    "```\n",
    "¿Cuál es el sentido de hacer esto?"
   ]
  },
  {
   "cell_type": "code",
   "execution_count": 631,
   "id": "3229a234",
   "metadata": {},
   "outputs": [
    {
     "data": {
      "text/html": [
       "<style>#sk-container-id-10 {color: black;background-color: white;}#sk-container-id-10 pre{padding: 0;}#sk-container-id-10 div.sk-toggleable {background-color: white;}#sk-container-id-10 label.sk-toggleable__label {cursor: pointer;display: block;width: 100%;margin-bottom: 0;padding: 0.3em;box-sizing: border-box;text-align: center;}#sk-container-id-10 label.sk-toggleable__label-arrow:before {content: \"▸\";float: left;margin-right: 0.25em;color: #696969;}#sk-container-id-10 label.sk-toggleable__label-arrow:hover:before {color: black;}#sk-container-id-10 div.sk-estimator:hover label.sk-toggleable__label-arrow:before {color: black;}#sk-container-id-10 div.sk-toggleable__content {max-height: 0;max-width: 0;overflow: hidden;text-align: left;background-color: #f0f8ff;}#sk-container-id-10 div.sk-toggleable__content pre {margin: 0.2em;color: black;border-radius: 0.25em;background-color: #f0f8ff;}#sk-container-id-10 input.sk-toggleable__control:checked~div.sk-toggleable__content {max-height: 200px;max-width: 100%;overflow: auto;}#sk-container-id-10 input.sk-toggleable__control:checked~label.sk-toggleable__label-arrow:before {content: \"▾\";}#sk-container-id-10 div.sk-estimator input.sk-toggleable__control:checked~label.sk-toggleable__label {background-color: #d4ebff;}#sk-container-id-10 div.sk-label input.sk-toggleable__control:checked~label.sk-toggleable__label {background-color: #d4ebff;}#sk-container-id-10 input.sk-hidden--visually {border: 0;clip: rect(1px 1px 1px 1px);clip: rect(1px, 1px, 1px, 1px);height: 1px;margin: -1px;overflow: hidden;padding: 0;position: absolute;width: 1px;}#sk-container-id-10 div.sk-estimator {font-family: monospace;background-color: #f0f8ff;border: 1px dotted black;border-radius: 0.25em;box-sizing: border-box;margin-bottom: 0.5em;}#sk-container-id-10 div.sk-estimator:hover {background-color: #d4ebff;}#sk-container-id-10 div.sk-parallel-item::after {content: \"\";width: 100%;border-bottom: 1px solid gray;flex-grow: 1;}#sk-container-id-10 div.sk-label:hover label.sk-toggleable__label {background-color: #d4ebff;}#sk-container-id-10 div.sk-serial::before {content: \"\";position: absolute;border-left: 1px solid gray;box-sizing: border-box;top: 0;bottom: 0;left: 50%;z-index: 0;}#sk-container-id-10 div.sk-serial {display: flex;flex-direction: column;align-items: center;background-color: white;padding-right: 0.2em;padding-left: 0.2em;position: relative;}#sk-container-id-10 div.sk-item {position: relative;z-index: 1;}#sk-container-id-10 div.sk-parallel {display: flex;align-items: stretch;justify-content: center;background-color: white;position: relative;}#sk-container-id-10 div.sk-item::before, #sk-container-id-10 div.sk-parallel-item::before {content: \"\";position: absolute;border-left: 1px solid gray;box-sizing: border-box;top: 0;bottom: 0;left: 50%;z-index: -1;}#sk-container-id-10 div.sk-parallel-item {display: flex;flex-direction: column;z-index: 1;position: relative;background-color: white;}#sk-container-id-10 div.sk-parallel-item:first-child::after {align-self: flex-end;width: 50%;}#sk-container-id-10 div.sk-parallel-item:last-child::after {align-self: flex-start;width: 50%;}#sk-container-id-10 div.sk-parallel-item:only-child::after {width: 0;}#sk-container-id-10 div.sk-dashed-wrapped {border: 1px dashed gray;margin: 0 0.4em 0.5em 0.4em;box-sizing: border-box;padding-bottom: 0.4em;background-color: white;}#sk-container-id-10 div.sk-label label {font-family: monospace;font-weight: bold;display: inline-block;line-height: 1.2em;}#sk-container-id-10 div.sk-label-container {text-align: center;}#sk-container-id-10 div.sk-container {/* jupyter's `normalize.less` sets `[hidden] { display: none; }` but bootstrap.min.css set `[hidden] { display: none !important; }` so we also need the `!important` here to be able to override the default hidden behavior on the sphinx rendered scikit-learn.org. See: https://github.com/scikit-learn/scikit-learn/issues/21755 */display: inline-block !important;position: relative;}#sk-container-id-10 div.sk-text-repr-fallback {display: none;}</style><div id=\"sk-container-id-10\" class=\"sk-top-container\"><div class=\"sk-text-repr-fallback\"><pre>GridSearchCV(cv=3, estimator=RandomForestClassifier(),\n",
       "             param_grid=[{&#x27;max_features&#x27;: [2, 4, 6, 8],\n",
       "                          &#x27;n_estimators&#x27;: [30, 100]}])</pre><b>In a Jupyter environment, please rerun this cell to show the HTML representation or trust the notebook. <br />On GitHub, the HTML representation is unable to render, please try loading this page with nbviewer.org.</b></div><div class=\"sk-container\" hidden><div class=\"sk-item sk-dashed-wrapped\"><div class=\"sk-label-container\"><div class=\"sk-label sk-toggleable\"><input class=\"sk-toggleable__control sk-hidden--visually\" id=\"sk-estimator-id-28\" type=\"checkbox\" ><label for=\"sk-estimator-id-28\" class=\"sk-toggleable__label sk-toggleable__label-arrow\">GridSearchCV</label><div class=\"sk-toggleable__content\"><pre>GridSearchCV(cv=3, estimator=RandomForestClassifier(),\n",
       "             param_grid=[{&#x27;max_features&#x27;: [2, 4, 6, 8],\n",
       "                          &#x27;n_estimators&#x27;: [30, 100]}])</pre></div></div></div><div class=\"sk-parallel\"><div class=\"sk-parallel-item\"><div class=\"sk-item\"><div class=\"sk-label-container\"><div class=\"sk-label sk-toggleable\"><input class=\"sk-toggleable__control sk-hidden--visually\" id=\"sk-estimator-id-29\" type=\"checkbox\" ><label for=\"sk-estimator-id-29\" class=\"sk-toggleable__label sk-toggleable__label-arrow\">estimator: RandomForestClassifier</label><div class=\"sk-toggleable__content\"><pre>RandomForestClassifier()</pre></div></div></div><div class=\"sk-serial\"><div class=\"sk-item\"><div class=\"sk-estimator sk-toggleable\"><input class=\"sk-toggleable__control sk-hidden--visually\" id=\"sk-estimator-id-30\" type=\"checkbox\" ><label for=\"sk-estimator-id-30\" class=\"sk-toggleable__label sk-toggleable__label-arrow\">RandomForestClassifier</label><div class=\"sk-toggleable__content\"><pre>RandomForestClassifier()</pre></div></div></div></div></div></div></div></div></div></div>"
      ],
      "text/plain": [
       "GridSearchCV(cv=3, estimator=RandomForestClassifier(),\n",
       "             param_grid=[{'max_features': [2, 4, 6, 8],\n",
       "                          'n_estimators': [30, 100]}])"
      ]
     },
     "execution_count": 631,
     "metadata": {},
     "output_type": "execute_result"
    }
   ],
   "source": [
    "# Comenzamos usando grid search sobre el modelo elegido, en este\n",
    "\n",
    "# importamos GridSearch\n",
    "\n",
    "from sklearn.model_selection import GridSearchCV\n",
    "\n",
    "# Definimos los parametros que le vamos a pasar, en este\n",
    "param_grid = [\n",
    "{'n_estimators': [30, 100], 'max_features': [2, 4, 6, 8]}\n",
    "]\n",
    "\n",
    "# Llevamos a cabo el grid search para encontrar la mejor combinacion de  hiperparametros:\n",
    "gridsearch = GridSearchCV(cla_rf, param_grid, cv= 3)\n",
    "\n",
    "gridsearch.fit(X_train, y_train)"
   ]
  },
  {
   "cell_type": "code",
   "execution_count": 632,
   "id": "f55afaa3",
   "metadata": {},
   "outputs": [],
   "source": [
    "# El proposito de esto es para poder encontrar la mejor combinacion de hiperparametros para nuestro modelo dandonos un modelo mas preciso."
   ]
  },
  {
   "cell_type": "markdown",
   "id": "74e145bf",
   "metadata": {},
   "source": [
    "<5%>Imprima el valor de accuracy, recall, precision, f1 y auc_roc, en las regiones de validación"
   ]
  },
  {
   "cell_type": "code",
   "execution_count": 633,
   "id": "6a05fc0a",
   "metadata": {},
   "outputs": [],
   "source": [
    "# Hacemos las predicciones en las regiones de validacion\n",
    "gridsearch_y_pred = gridsearch.predict(X_train)"
   ]
  },
  {
   "cell_type": "code",
   "execution_count": 634,
   "id": "23380394",
   "metadata": {},
   "outputs": [
    {
     "name": "stdout",
     "output_type": "stream",
     "text": [
      "Accuracy: 0.999875\n"
     ]
    }
   ],
   "source": [
    "# Calculamos el accuracy\n",
    "\n",
    "accuracy = accuracy_score(y_train, gridsearch_y_pred)\n",
    "print('Accuracy:', accuracy)"
   ]
  },
  {
   "cell_type": "code",
   "execution_count": 635,
   "id": "36a193b2",
   "metadata": {},
   "outputs": [
    {
     "name": "stdout",
     "output_type": "stream",
     "text": [
      "0.9993917274939172\n"
     ]
    }
   ],
   "source": [
    "# Calculamos el recall\n",
    "from sklearn.metrics import recall_score\n",
    "\n",
    "recall = recall_score(y_train, gridsearch_y_pred)\n",
    "\n",
    "print(recall)\n",
    "\n",
    "# Arrojando un 1 indica que clasifico en un 100% los verdaderos positivos"
   ]
  },
  {
   "cell_type": "code",
   "execution_count": 636,
   "id": "1e320c4e",
   "metadata": {},
   "outputs": [
    {
     "name": "stdout",
     "output_type": "stream",
     "text": [
      "0.9996957712199573\n"
     ]
    }
   ],
   "source": [
    "# Calculamos el recall\n",
    "from sklearn.metrics import f1_score\n",
    "\n",
    "f1 = f1_score(y_train, gridsearch_y_pred)\n",
    "\n",
    "print(f1)\n",
    "\n",
    "# el f1 score combina el accuracy score con el recall. Arrojando un valor de 1 indica que el modelo es perfecto prediciendo en datos de entrenamiento"
   ]
  },
  {
   "cell_type": "code",
   "execution_count": 637,
   "id": "fc7e4446",
   "metadata": {},
   "outputs": [
    {
     "name": "stdout",
     "output_type": "stream",
     "text": [
      "0.9996958637469586\n"
     ]
    }
   ],
   "source": [
    "# Calculamos el roc_auc score\n",
    "from sklearn.metrics import roc_auc_score\n",
    "\n",
    "roc_auc = roc_auc_score(y_train, gridsearch_y_pred)\n",
    "\n",
    "print(roc_auc)\n",
    "\n",
    "# Este score mide la capacidad que tiene el modelo de distinguir entre la clase positiva y negativa, en este caso indicando que es perfectamente preciso\n",
    "# para datos de entrenamiento"
   ]
  },
  {
   "cell_type": "markdown",
   "id": "d1c88337",
   "metadata": {},
   "source": [
    "<5%>Imprima el valor de accuracy, recall, precision, f1 y auc_roc, en las regiones de test, \n",
    "¿Los números son parecido a lo obtenido en las regiones de validación? ¿A qué puede deberse?"
   ]
  },
  {
   "cell_type": "code",
   "execution_count": 638,
   "id": "733a2f15",
   "metadata": {},
   "outputs": [],
   "source": [
    "# Hacemos las predicciones en las regiones de prueba\n",
    "gridsearch_y_pred_test = gridsearch.predict(X_test)"
   ]
  },
  {
   "cell_type": "code",
   "execution_count": 639,
   "id": "961b39eb",
   "metadata": {},
   "outputs": [
    {
     "name": "stdout",
     "output_type": "stream",
     "text": [
      "Accuracy: 0.866\n"
     ]
    }
   ],
   "source": [
    "# Calculamos el accuracy\n",
    "\n",
    "accuracy = accuracy_score(y_test, gridsearch_y_pred_test)\n",
    "print('Accuracy:', accuracy)"
   ]
  },
  {
   "cell_type": "code",
   "execution_count": 640,
   "id": "06ac1e59",
   "metadata": {},
   "outputs": [
    {
     "name": "stdout",
     "output_type": "stream",
     "text": [
      "0.49872773536895676\n"
     ]
    }
   ],
   "source": [
    "# Calculamos el recall\n",
    "from sklearn.metrics import recall_score\n",
    "\n",
    "recall = recall_score(y_test, gridsearch_y_pred_test)\n",
    "\n",
    "print(recall)\n",
    "\n",
    "# Arrojando un 0.48 indica que clasifico en un 48% los verdaderos positivos"
   ]
  },
  {
   "cell_type": "code",
   "execution_count": 641,
   "id": "1734af02",
   "metadata": {},
   "outputs": [
    {
     "name": "stdout",
     "output_type": "stream",
     "text": [
      "0.593939393939394\n"
     ]
    }
   ],
   "source": [
    "# Calculamos el recall\n",
    "from sklearn.metrics import f1_score\n",
    "\n",
    "f1 = f1_score(y_test, gridsearch_y_pred_test)\n",
    "\n",
    "print(f1)\n",
    "\n",
    "# Se continua viendo como el score para el set de prueba no arroja un score cercano a cuando lo hicimos para el set de entrenamiento,\n",
    "# la posible razon de esto se explica al final."
   ]
  },
  {
   "cell_type": "code",
   "execution_count": 642,
   "id": "495c7341",
   "metadata": {},
   "outputs": [
    {
     "name": "stdout",
     "output_type": "stream",
     "text": [
      "0.7272730151642544\n"
     ]
    }
   ],
   "source": [
    "# Calculamos el roc_auc score\n",
    "from sklearn.metrics import roc_auc_score\n",
    "\n",
    "roc_auc = roc_auc_score(y_test, gridsearch_y_pred_test)\n",
    "\n",
    "print(roc_auc)\n",
    "\n",
    "# Se continuan viendo scores mas bajos para el set de prueba a diferencia del set de entrenamiento"
   ]
  },
  {
   "cell_type": "code",
   "execution_count": 643,
   "metadata": {},
   "outputs": [],
   "source": [
    "# La diferencia significativa entre estos es que puede ser que este ocurriendo lo que se denomina 'overfitting'. Esto pasa cuando el modelo se ajusta demasiado bien a los\n",
    "# datos de entrenamiento pero no tiene el mismo rendimiento en la prueba"
   ]
  }
 ],
 "metadata": {
  "kernelspec": {
   "display_name": "Python 3 (ipykernel)",
   "language": "python",
   "name": "python3"
  },
  "language_info": {
   "codemirror_mode": {
    "name": "ipython",
    "version": 3
   },
   "file_extension": ".py",
   "mimetype": "text/x-python",
   "name": "python",
   "nbconvert_exporter": "python",
   "pygments_lexer": "ipython3",
   "version": "3.9.6"
  }
 },
 "nbformat": 4,
 "nbformat_minor": 5
}
