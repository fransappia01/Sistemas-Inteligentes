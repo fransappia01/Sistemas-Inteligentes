{
 "cells": [
  {
   "cell_type": "markdown",
   "id": "08d81568",
   "metadata": {},
   "source": [
    "# 1er TP de sistemas inteligentes\n",
    "\n",
    "Nombre:\n",
    "\n",
    "Este trabajo práctico se aprueba completando más del 70% del mismo. Una vez completado el notebook y reenvielo al email 2329034@ucc.edu.ar. Importante: Asegurese que su correo haya llegado."
   ]
  },
  {
   "attachments": {},
   "cell_type": "markdown",
   "id": "327c0583",
   "metadata": {},
   "source": [
    "### Entender el problema\n",
    "\n",
    "Este conjunto de datos describe los hongos en términos de sus características físicas. Se clasifican como venenosos o comestibles.\n",
    "\n",
    "Este conjunto de datos incluye descripciones de muestras hipotéticas correspondientes a 23 especies de hongos de láminas en las familias Agaricus y Lepiota. Cada especie se identifica como definitivamente comestible, definitivamente venenosa o de comestibilidad desconocida y no recomendada. Esta última clase se combinó con la venenosa. La guía establece claramente que no hay una regla simple para determinar la comestibilidad de un hongo. Con esa informacion:\n",
    "\n",
    "Siendo la clase positiva la indicación que el hongo es venenoso ¿Qué le estaría pidiendo a mi clasificador qué tenga en cuenta si le pido un puntaje de recall alto"
   ]
  },
  {
   "cell_type": "markdown",
   "id": "2dbe88e8",
   "metadata": {},
   "source": [
    "<10%>\n",
    "Respuesta:"
   ]
  },
  {
   "cell_type": "code",
   "execution_count": 1,
   "id": "123d6957",
   "metadata": {
    "vscode": {
     "languageId": "python"
    }
   },
   "outputs": [],
   "source": [
    "# Significa que estás pidiendo que tenga en cuenta la capacidad de identificar\n",
    "# correctamente la clase positiva (hongos venenosos) en relación con el total de \n",
    "# muestras de esa clase en tus datos de prueba. Es decir, le estamos pidiendo al \n",
    "# clasificador que sea muy sensible a la clase positiva, que pueda detectar la mayor \n",
    "# cantidad de hongos venenosos posibles, incluso si esto significa identificar \n",
    "# algunos hongos como venenosos cuando en realidad no lo son.\n",
    "\n",
    "# Esto puede ser importante en aplicaciones donde la detección de hongos venenosos es \n",
    "# crítica, ya que un falso negativo podría tener consecuencias graves para la salud. "
   ]
  },
  {
   "cell_type": "markdown",
   "id": "2cce0937",
   "metadata": {},
   "source": [
    "### Obtención de datos\n",
    "Importe las librerías a utilizar:"
   ]
  },
  {
   "cell_type": "code",
   "execution_count": 2,
   "id": "09c7afae",
   "metadata": {
    "vscode": {
     "languageId": "python"
    }
   },
   "outputs": [],
   "source": [
    "import pandas as pd"
   ]
  },
  {
   "cell_type": "markdown",
   "id": "8904aa72",
   "metadata": {},
   "source": [
    "Importe los datos:"
   ]
  },
  {
   "cell_type": "code",
   "execution_count": 3,
   "id": "0910c962",
   "metadata": {
    "vscode": {
     "languageId": "python"
    }
   },
   "outputs": [
    {
     "data": {
      "text/html": [
       "<div>\n",
       "<style scoped>\n",
       "    .dataframe tbody tr th:only-of-type {\n",
       "        vertical-align: middle;\n",
       "    }\n",
       "\n",
       "    .dataframe tbody tr th {\n",
       "        vertical-align: top;\n",
       "    }\n",
       "\n",
       "    .dataframe thead th {\n",
       "        text-align: right;\n",
       "    }\n",
       "</style>\n",
       "<table border=\"1\" class=\"dataframe\">\n",
       "  <thead>\n",
       "    <tr style=\"text-align: right;\">\n",
       "      <th></th>\n",
       "      <th>cap-shape</th>\n",
       "      <th>cap-surface</th>\n",
       "      <th>cap-color</th>\n",
       "      <th>bruises%3F</th>\n",
       "      <th>odor</th>\n",
       "      <th>gill-attachment</th>\n",
       "      <th>gill-spacing</th>\n",
       "      <th>gill-size</th>\n",
       "      <th>gill-color</th>\n",
       "      <th>stalk-shape</th>\n",
       "      <th>...</th>\n",
       "      <th>stalk-color-above-ring</th>\n",
       "      <th>stalk-color-below-ring</th>\n",
       "      <th>veil-type</th>\n",
       "      <th>veil-color</th>\n",
       "      <th>ring-number</th>\n",
       "      <th>ring-type</th>\n",
       "      <th>spore-print-color</th>\n",
       "      <th>population</th>\n",
       "      <th>habitat</th>\n",
       "      <th>class</th>\n",
       "    </tr>\n",
       "  </thead>\n",
       "  <tbody>\n",
       "    <tr>\n",
       "      <th>0</th>\n",
       "      <td>x</td>\n",
       "      <td>s</td>\n",
       "      <td>n</td>\n",
       "      <td>t</td>\n",
       "      <td>p</td>\n",
       "      <td>f</td>\n",
       "      <td>c</td>\n",
       "      <td>n</td>\n",
       "      <td>k</td>\n",
       "      <td>e</td>\n",
       "      <td>...</td>\n",
       "      <td>w</td>\n",
       "      <td>w</td>\n",
       "      <td>p</td>\n",
       "      <td>w</td>\n",
       "      <td>o</td>\n",
       "      <td>p</td>\n",
       "      <td>k</td>\n",
       "      <td>s</td>\n",
       "      <td>u</td>\n",
       "      <td>p</td>\n",
       "    </tr>\n",
       "    <tr>\n",
       "      <th>1</th>\n",
       "      <td>x</td>\n",
       "      <td>s</td>\n",
       "      <td>y</td>\n",
       "      <td>t</td>\n",
       "      <td>a</td>\n",
       "      <td>f</td>\n",
       "      <td>c</td>\n",
       "      <td>b</td>\n",
       "      <td>k</td>\n",
       "      <td>e</td>\n",
       "      <td>...</td>\n",
       "      <td>w</td>\n",
       "      <td>w</td>\n",
       "      <td>p</td>\n",
       "      <td>w</td>\n",
       "      <td>o</td>\n",
       "      <td>p</td>\n",
       "      <td>n</td>\n",
       "      <td>n</td>\n",
       "      <td>g</td>\n",
       "      <td>e</td>\n",
       "    </tr>\n",
       "    <tr>\n",
       "      <th>2</th>\n",
       "      <td>b</td>\n",
       "      <td>s</td>\n",
       "      <td>w</td>\n",
       "      <td>t</td>\n",
       "      <td>l</td>\n",
       "      <td>f</td>\n",
       "      <td>c</td>\n",
       "      <td>b</td>\n",
       "      <td>n</td>\n",
       "      <td>e</td>\n",
       "      <td>...</td>\n",
       "      <td>w</td>\n",
       "      <td>w</td>\n",
       "      <td>p</td>\n",
       "      <td>w</td>\n",
       "      <td>o</td>\n",
       "      <td>p</td>\n",
       "      <td>n</td>\n",
       "      <td>n</td>\n",
       "      <td>m</td>\n",
       "      <td>e</td>\n",
       "    </tr>\n",
       "    <tr>\n",
       "      <th>3</th>\n",
       "      <td>x</td>\n",
       "      <td>y</td>\n",
       "      <td>w</td>\n",
       "      <td>t</td>\n",
       "      <td>p</td>\n",
       "      <td>f</td>\n",
       "      <td>c</td>\n",
       "      <td>n</td>\n",
       "      <td>n</td>\n",
       "      <td>e</td>\n",
       "      <td>...</td>\n",
       "      <td>w</td>\n",
       "      <td>w</td>\n",
       "      <td>p</td>\n",
       "      <td>w</td>\n",
       "      <td>o</td>\n",
       "      <td>p</td>\n",
       "      <td>k</td>\n",
       "      <td>s</td>\n",
       "      <td>u</td>\n",
       "      <td>p</td>\n",
       "    </tr>\n",
       "    <tr>\n",
       "      <th>4</th>\n",
       "      <td>x</td>\n",
       "      <td>s</td>\n",
       "      <td>g</td>\n",
       "      <td>f</td>\n",
       "      <td>n</td>\n",
       "      <td>f</td>\n",
       "      <td>w</td>\n",
       "      <td>b</td>\n",
       "      <td>k</td>\n",
       "      <td>t</td>\n",
       "      <td>...</td>\n",
       "      <td>w</td>\n",
       "      <td>w</td>\n",
       "      <td>p</td>\n",
       "      <td>w</td>\n",
       "      <td>o</td>\n",
       "      <td>e</td>\n",
       "      <td>n</td>\n",
       "      <td>a</td>\n",
       "      <td>g</td>\n",
       "      <td>e</td>\n",
       "    </tr>\n",
       "    <tr>\n",
       "      <th>...</th>\n",
       "      <td>...</td>\n",
       "      <td>...</td>\n",
       "      <td>...</td>\n",
       "      <td>...</td>\n",
       "      <td>...</td>\n",
       "      <td>...</td>\n",
       "      <td>...</td>\n",
       "      <td>...</td>\n",
       "      <td>...</td>\n",
       "      <td>...</td>\n",
       "      <td>...</td>\n",
       "      <td>...</td>\n",
       "      <td>...</td>\n",
       "      <td>...</td>\n",
       "      <td>...</td>\n",
       "      <td>...</td>\n",
       "      <td>...</td>\n",
       "      <td>...</td>\n",
       "      <td>...</td>\n",
       "      <td>...</td>\n",
       "      <td>...</td>\n",
       "    </tr>\n",
       "    <tr>\n",
       "      <th>8119</th>\n",
       "      <td>k</td>\n",
       "      <td>s</td>\n",
       "      <td>n</td>\n",
       "      <td>f</td>\n",
       "      <td>n</td>\n",
       "      <td>a</td>\n",
       "      <td>c</td>\n",
       "      <td>b</td>\n",
       "      <td>y</td>\n",
       "      <td>e</td>\n",
       "      <td>...</td>\n",
       "      <td>o</td>\n",
       "      <td>o</td>\n",
       "      <td>p</td>\n",
       "      <td>o</td>\n",
       "      <td>o</td>\n",
       "      <td>p</td>\n",
       "      <td>b</td>\n",
       "      <td>c</td>\n",
       "      <td>l</td>\n",
       "      <td>e</td>\n",
       "    </tr>\n",
       "    <tr>\n",
       "      <th>8120</th>\n",
       "      <td>x</td>\n",
       "      <td>s</td>\n",
       "      <td>n</td>\n",
       "      <td>f</td>\n",
       "      <td>n</td>\n",
       "      <td>a</td>\n",
       "      <td>c</td>\n",
       "      <td>b</td>\n",
       "      <td>y</td>\n",
       "      <td>e</td>\n",
       "      <td>...</td>\n",
       "      <td>o</td>\n",
       "      <td>o</td>\n",
       "      <td>p</td>\n",
       "      <td>n</td>\n",
       "      <td>o</td>\n",
       "      <td>p</td>\n",
       "      <td>b</td>\n",
       "      <td>v</td>\n",
       "      <td>l</td>\n",
       "      <td>e</td>\n",
       "    </tr>\n",
       "    <tr>\n",
       "      <th>8121</th>\n",
       "      <td>f</td>\n",
       "      <td>s</td>\n",
       "      <td>n</td>\n",
       "      <td>f</td>\n",
       "      <td>n</td>\n",
       "      <td>a</td>\n",
       "      <td>c</td>\n",
       "      <td>b</td>\n",
       "      <td>n</td>\n",
       "      <td>e</td>\n",
       "      <td>...</td>\n",
       "      <td>o</td>\n",
       "      <td>o</td>\n",
       "      <td>p</td>\n",
       "      <td>o</td>\n",
       "      <td>o</td>\n",
       "      <td>p</td>\n",
       "      <td>b</td>\n",
       "      <td>c</td>\n",
       "      <td>l</td>\n",
       "      <td>e</td>\n",
       "    </tr>\n",
       "    <tr>\n",
       "      <th>8122</th>\n",
       "      <td>k</td>\n",
       "      <td>y</td>\n",
       "      <td>n</td>\n",
       "      <td>f</td>\n",
       "      <td>y</td>\n",
       "      <td>f</td>\n",
       "      <td>c</td>\n",
       "      <td>n</td>\n",
       "      <td>b</td>\n",
       "      <td>t</td>\n",
       "      <td>...</td>\n",
       "      <td>w</td>\n",
       "      <td>w</td>\n",
       "      <td>p</td>\n",
       "      <td>w</td>\n",
       "      <td>o</td>\n",
       "      <td>e</td>\n",
       "      <td>w</td>\n",
       "      <td>v</td>\n",
       "      <td>l</td>\n",
       "      <td>p</td>\n",
       "    </tr>\n",
       "    <tr>\n",
       "      <th>8123</th>\n",
       "      <td>x</td>\n",
       "      <td>s</td>\n",
       "      <td>n</td>\n",
       "      <td>f</td>\n",
       "      <td>n</td>\n",
       "      <td>a</td>\n",
       "      <td>c</td>\n",
       "      <td>b</td>\n",
       "      <td>y</td>\n",
       "      <td>e</td>\n",
       "      <td>...</td>\n",
       "      <td>o</td>\n",
       "      <td>o</td>\n",
       "      <td>p</td>\n",
       "      <td>o</td>\n",
       "      <td>o</td>\n",
       "      <td>p</td>\n",
       "      <td>o</td>\n",
       "      <td>c</td>\n",
       "      <td>l</td>\n",
       "      <td>e</td>\n",
       "    </tr>\n",
       "  </tbody>\n",
       "</table>\n",
       "<p>8124 rows × 23 columns</p>\n",
       "</div>"
      ],
      "text/plain": [
       "     cap-shape cap-surface cap-color bruises%3F odor gill-attachment   \n",
       "0            x           s         n          t    p               f  \\\n",
       "1            x           s         y          t    a               f   \n",
       "2            b           s         w          t    l               f   \n",
       "3            x           y         w          t    p               f   \n",
       "4            x           s         g          f    n               f   \n",
       "...        ...         ...       ...        ...  ...             ...   \n",
       "8119         k           s         n          f    n               a   \n",
       "8120         x           s         n          f    n               a   \n",
       "8121         f           s         n          f    n               a   \n",
       "8122         k           y         n          f    y               f   \n",
       "8123         x           s         n          f    n               a   \n",
       "\n",
       "     gill-spacing gill-size gill-color stalk-shape  ...   \n",
       "0               c         n          k           e  ...  \\\n",
       "1               c         b          k           e  ...   \n",
       "2               c         b          n           e  ...   \n",
       "3               c         n          n           e  ...   \n",
       "4               w         b          k           t  ...   \n",
       "...           ...       ...        ...         ...  ...   \n",
       "8119            c         b          y           e  ...   \n",
       "8120            c         b          y           e  ...   \n",
       "8121            c         b          n           e  ...   \n",
       "8122            c         n          b           t  ...   \n",
       "8123            c         b          y           e  ...   \n",
       "\n",
       "     stalk-color-above-ring stalk-color-below-ring veil-type veil-color   \n",
       "0                         w                      w         p          w  \\\n",
       "1                         w                      w         p          w   \n",
       "2                         w                      w         p          w   \n",
       "3                         w                      w         p          w   \n",
       "4                         w                      w         p          w   \n",
       "...                     ...                    ...       ...        ...   \n",
       "8119                      o                      o         p          o   \n",
       "8120                      o                      o         p          n   \n",
       "8121                      o                      o         p          o   \n",
       "8122                      w                      w         p          w   \n",
       "8123                      o                      o         p          o   \n",
       "\n",
       "     ring-number ring-type spore-print-color population habitat class  \n",
       "0              o         p                 k          s       u     p  \n",
       "1              o         p                 n          n       g     e  \n",
       "2              o         p                 n          n       m     e  \n",
       "3              o         p                 k          s       u     p  \n",
       "4              o         e                 n          a       g     e  \n",
       "...          ...       ...               ...        ...     ...   ...  \n",
       "8119           o         p                 b          c       l     e  \n",
       "8120           o         p                 b          v       l     e  \n",
       "8121           o         p                 b          c       l     e  \n",
       "8122           o         e                 w          v       l     p  \n",
       "8123           o         p                 o          c       l     e  \n",
       "\n",
       "[8124 rows x 23 columns]"
      ]
     },
     "metadata": {},
     "output_type": "display_data"
    }
   ],
   "source": [
    "import re\n",
    "\n",
    "url = \"https://gitlab.com/francisco.arduh/datasets/-/raw/main/mushroom.csv\"\n",
    "df = pd.read_csv(url)\n",
    "\n",
    "\n",
    "# A traves de este codigo convierto las variables del DF en valores simples.\n",
    "# Los valores se veian asi: b'x' y ahora se ven asi: x\n",
    "for col in df.columns:\n",
    "    df[col] = df[col].str.replace(\"^b'b'$\", \"b\", regex=True)\n",
    "\n",
    "df = df.applymap(lambda x: str(x).replace(\"b'\", \"'\").replace('b\"', '\"'))\n",
    "df[col] = df[col].apply(lambda x: re.sub(r'^\\'(.+)\\'$', r'\\1', str(x)) if len(str(x)) >= 2 else x)\n",
    "df = df.applymap(lambda x: x.replace(\"'\", \"\") if len(str(x)) > 1 else x)\n",
    "\n",
    "\n",
    "display(df)"
   ]
  },
  {
   "cell_type": "code",
   "execution_count": 4,
   "id": "1e06bcdc",
   "metadata": {
    "vscode": {
     "languageId": "python"
    }
   },
   "outputs": [],
   "source": [
    "# Viendo los datos nosotros tenemos que enfocarnos en la columna 'class' \n",
    "# donde hongo comestible = b'e' y hongo venenoso = b'p'"
   ]
  },
  {
   "cell_type": "markdown",
   "id": "ed9ec84a",
   "metadata": {},
   "source": [
    "<10%> Realice una exploración de los datos, compruebe si existe faltante de datos en alguna columna, que tipo de distribución tienen los datos, si alguna columna tiene muchos datos únicos."
   ]
  },
  {
   "cell_type": "code",
   "execution_count": 5,
   "id": "7b115e26",
   "metadata": {
    "vscode": {
     "languageId": "python"
    }
   },
   "outputs": [
    {
     "name": "stdout",
     "output_type": "stream",
     "text": [
      "cap-shape                   0\n",
      "cap-surface                 0\n",
      "cap-color                   0\n",
      "bruises%3F                  0\n",
      "odor                        0\n",
      "gill-attachment             0\n",
      "gill-spacing                0\n",
      "gill-size                   0\n",
      "gill-color                  0\n",
      "stalk-shape                 0\n",
      "stalk-root                  0\n",
      "stalk-surface-above-ring    0\n",
      "stalk-surface-below-ring    0\n",
      "stalk-color-above-ring      0\n",
      "stalk-color-below-ring      0\n",
      "veil-type                   0\n",
      "veil-color                  0\n",
      "ring-number                 0\n",
      "ring-type                   0\n",
      "spore-print-color           0\n",
      "population                  0\n",
      "habitat                     0\n",
      "class                       0\n",
      "dtype: int64\n"
     ]
    }
   ],
   "source": [
    "# Nos fijamos que no haya datos nulos\n",
    "\n",
    "print(df.isnull().sum())"
   ]
  },
  {
   "cell_type": "code",
   "execution_count": 6,
   "id": "60b40627",
   "metadata": {
    "vscode": {
     "languageId": "python"
    }
   },
   "outputs": [
    {
     "name": "stdout",
     "output_type": "stream",
     "text": [
      "cap-shape                    6\n",
      "cap-surface                  4\n",
      "cap-color                   10\n",
      "bruises%3F                   2\n",
      "odor                         9\n",
      "gill-attachment              2\n",
      "gill-spacing                 2\n",
      "gill-size                    2\n",
      "gill-color                  12\n",
      "stalk-shape                  2\n",
      "stalk-root                   5\n",
      "stalk-surface-above-ring     4\n",
      "stalk-surface-below-ring     4\n",
      "stalk-color-above-ring       9\n",
      "stalk-color-below-ring       9\n",
      "veil-type                    1\n",
      "veil-color                   4\n",
      "ring-number                  3\n",
      "ring-type                    5\n",
      "spore-print-color            9\n",
      "population                   6\n",
      "habitat                      7\n",
      "class                        2\n",
      "dtype: int64\n"
     ]
    }
   ],
   "source": [
    "# Corroboramos si hay columnas con muchos datos únicos\n",
    "unique_counts = df.nunique()\n",
    "\n",
    "print(unique_counts)\n",
    "\n",
    "# Vemos que la columna \"veil-type\" podría eliminarse ya que solo tiene un valor único y no proporciona ninguna información útil para el modelo."
   ]
  },
  {
   "cell_type": "code",
   "execution_count": 7,
   "id": "910e5134",
   "metadata": {
    "vscode": {
     "languageId": "python"
    }
   },
   "outputs": [
    {
     "name": "stdout",
     "output_type": "stream",
     "text": [
      "<class 'pandas.core.frame.DataFrame'>\n",
      "RangeIndex: 8124 entries, 0 to 8123\n",
      "Data columns (total 23 columns):\n",
      " #   Column                    Non-Null Count  Dtype \n",
      "---  ------                    --------------  ----- \n",
      " 0   cap-shape                 8124 non-null   object\n",
      " 1   cap-surface               8124 non-null   object\n",
      " 2   cap-color                 8124 non-null   object\n",
      " 3   bruises%3F                8124 non-null   object\n",
      " 4   odor                      8124 non-null   object\n",
      " 5   gill-attachment           8124 non-null   object\n",
      " 6   gill-spacing              8124 non-null   object\n",
      " 7   gill-size                 8124 non-null   object\n",
      " 8   gill-color                8124 non-null   object\n",
      " 9   stalk-shape               8124 non-null   object\n",
      " 10  stalk-root                8124 non-null   object\n",
      " 11  stalk-surface-above-ring  8124 non-null   object\n",
      " 12  stalk-surface-below-ring  8124 non-null   object\n",
      " 13  stalk-color-above-ring    8124 non-null   object\n",
      " 14  stalk-color-below-ring    8124 non-null   object\n",
      " 15  veil-type                 8124 non-null   object\n",
      " 16  veil-color                8124 non-null   object\n",
      " 17  ring-number               8124 non-null   object\n",
      " 18  ring-type                 8124 non-null   object\n",
      " 19  spore-print-color         8124 non-null   object\n",
      " 20  population                8124 non-null   object\n",
      " 21  habitat                   8124 non-null   object\n",
      " 22  class                     8124 non-null   object\n",
      "dtypes: object(23)\n",
      "memory usage: 1.4+ MB\n"
     ]
    }
   ],
   "source": [
    "# Vemos informacion del dataset\n",
    "\n",
    "df.info()"
   ]
  },
  {
   "cell_type": "code",
   "execution_count": 8,
   "id": "6ef76033",
   "metadata": {
    "vscode": {
     "languageId": "python"
    }
   },
   "outputs": [
    {
     "data": {
      "text/html": [
       "<div>\n",
       "<style scoped>\n",
       "    .dataframe tbody tr th:only-of-type {\n",
       "        vertical-align: middle;\n",
       "    }\n",
       "\n",
       "    .dataframe tbody tr th {\n",
       "        vertical-align: top;\n",
       "    }\n",
       "\n",
       "    .dataframe thead th {\n",
       "        text-align: right;\n",
       "    }\n",
       "</style>\n",
       "<table border=\"1\" class=\"dataframe\">\n",
       "  <thead>\n",
       "    <tr style=\"text-align: right;\">\n",
       "      <th></th>\n",
       "      <th>cap-shape</th>\n",
       "      <th>cap-surface</th>\n",
       "      <th>cap-color</th>\n",
       "      <th>bruises%3F</th>\n",
       "      <th>odor</th>\n",
       "      <th>gill-attachment</th>\n",
       "      <th>gill-spacing</th>\n",
       "      <th>gill-size</th>\n",
       "      <th>gill-color</th>\n",
       "      <th>stalk-shape</th>\n",
       "      <th>...</th>\n",
       "      <th>stalk-color-above-ring</th>\n",
       "      <th>stalk-color-below-ring</th>\n",
       "      <th>veil-type</th>\n",
       "      <th>veil-color</th>\n",
       "      <th>ring-number</th>\n",
       "      <th>ring-type</th>\n",
       "      <th>spore-print-color</th>\n",
       "      <th>population</th>\n",
       "      <th>habitat</th>\n",
       "      <th>class</th>\n",
       "    </tr>\n",
       "  </thead>\n",
       "  <tbody>\n",
       "    <tr>\n",
       "      <th>count</th>\n",
       "      <td>8124</td>\n",
       "      <td>8124</td>\n",
       "      <td>8124</td>\n",
       "      <td>8124</td>\n",
       "      <td>8124</td>\n",
       "      <td>8124</td>\n",
       "      <td>8124</td>\n",
       "      <td>8124</td>\n",
       "      <td>8124</td>\n",
       "      <td>8124</td>\n",
       "      <td>...</td>\n",
       "      <td>8124</td>\n",
       "      <td>8124</td>\n",
       "      <td>8124</td>\n",
       "      <td>8124</td>\n",
       "      <td>8124</td>\n",
       "      <td>8124</td>\n",
       "      <td>8124</td>\n",
       "      <td>8124</td>\n",
       "      <td>8124</td>\n",
       "      <td>8124</td>\n",
       "    </tr>\n",
       "    <tr>\n",
       "      <th>unique</th>\n",
       "      <td>6</td>\n",
       "      <td>4</td>\n",
       "      <td>10</td>\n",
       "      <td>2</td>\n",
       "      <td>9</td>\n",
       "      <td>2</td>\n",
       "      <td>2</td>\n",
       "      <td>2</td>\n",
       "      <td>12</td>\n",
       "      <td>2</td>\n",
       "      <td>...</td>\n",
       "      <td>9</td>\n",
       "      <td>9</td>\n",
       "      <td>1</td>\n",
       "      <td>4</td>\n",
       "      <td>3</td>\n",
       "      <td>5</td>\n",
       "      <td>9</td>\n",
       "      <td>6</td>\n",
       "      <td>7</td>\n",
       "      <td>2</td>\n",
       "    </tr>\n",
       "    <tr>\n",
       "      <th>top</th>\n",
       "      <td>x</td>\n",
       "      <td>y</td>\n",
       "      <td>n</td>\n",
       "      <td>f</td>\n",
       "      <td>n</td>\n",
       "      <td>f</td>\n",
       "      <td>c</td>\n",
       "      <td>b</td>\n",
       "      <td>b</td>\n",
       "      <td>t</td>\n",
       "      <td>...</td>\n",
       "      <td>w</td>\n",
       "      <td>w</td>\n",
       "      <td>p</td>\n",
       "      <td>w</td>\n",
       "      <td>o</td>\n",
       "      <td>p</td>\n",
       "      <td>w</td>\n",
       "      <td>v</td>\n",
       "      <td>d</td>\n",
       "      <td>e</td>\n",
       "    </tr>\n",
       "    <tr>\n",
       "      <th>freq</th>\n",
       "      <td>3656</td>\n",
       "      <td>3244</td>\n",
       "      <td>2284</td>\n",
       "      <td>4748</td>\n",
       "      <td>3528</td>\n",
       "      <td>7914</td>\n",
       "      <td>6812</td>\n",
       "      <td>5612</td>\n",
       "      <td>1728</td>\n",
       "      <td>4608</td>\n",
       "      <td>...</td>\n",
       "      <td>4464</td>\n",
       "      <td>4384</td>\n",
       "      <td>8124</td>\n",
       "      <td>7924</td>\n",
       "      <td>7488</td>\n",
       "      <td>3968</td>\n",
       "      <td>2388</td>\n",
       "      <td>4040</td>\n",
       "      <td>3148</td>\n",
       "      <td>4208</td>\n",
       "    </tr>\n",
       "  </tbody>\n",
       "</table>\n",
       "<p>4 rows × 23 columns</p>\n",
       "</div>"
      ],
      "text/plain": [
       "       cap-shape cap-surface cap-color bruises%3F  odor gill-attachment   \n",
       "count       8124        8124      8124       8124  8124            8124  \\\n",
       "unique         6           4        10          2     9               2   \n",
       "top            x           y         n          f     n               f   \n",
       "freq        3656        3244      2284       4748  3528            7914   \n",
       "\n",
       "       gill-spacing gill-size gill-color stalk-shape  ...   \n",
       "count          8124      8124       8124        8124  ...  \\\n",
       "unique            2         2         12           2  ...   \n",
       "top               c         b          b           t  ...   \n",
       "freq           6812      5612       1728        4608  ...   \n",
       "\n",
       "       stalk-color-above-ring stalk-color-below-ring veil-type veil-color   \n",
       "count                    8124                   8124      8124       8124  \\\n",
       "unique                      9                      9         1          4   \n",
       "top                         w                      w         p          w   \n",
       "freq                     4464                   4384      8124       7924   \n",
       "\n",
       "       ring-number ring-type spore-print-color population habitat class  \n",
       "count         8124      8124              8124       8124    8124  8124  \n",
       "unique           3         5                 9          6       7     2  \n",
       "top              o         p                 w          v       d     e  \n",
       "freq          7488      3968              2388       4040    3148  4208  \n",
       "\n",
       "[4 rows x 23 columns]"
      ]
     },
     "execution_count": 8,
     "metadata": {},
     "output_type": "execute_result"
    }
   ],
   "source": [
    "# Utilizamos describe para ver otras estadisticas del dataframe\n",
    "\n",
    "df.describe()"
   ]
  },
  {
   "cell_type": "code",
   "execution_count": 9,
   "id": "7e7a96f6",
   "metadata": {
    "vscode": {
     "languageId": "python"
    }
   },
   "outputs": [],
   "source": [
    "import matplotlib.pyplot as plt\n",
    "import numpy as np\n",
    "\n",
    "# Hago histograma para cada columna, ESTA COMENTADO SOLO PORQUE QUEDA MUY EXTENSO\n",
    "\n",
    "# Crear un histograma para cada característica\n",
    "#for feature in df.columns:\n",
    "#    fig, ax = plt.subplots(figsize=(3, 3))\n",
    "#    ax.hist(df[feature])\n",
    "#    ax.set_title(feature)\n",
    "#    plt.show()"
   ]
  },
  {
   "cell_type": "code",
   "execution_count": 10,
   "id": "ed2c38b5",
   "metadata": {
    "vscode": {
     "languageId": "python"
    }
   },
   "outputs": [
    {
     "data": {
      "text/plain": [
       "class\n",
       "e    4208\n",
       "p    3916\n",
       "Name: count, dtype: int64"
      ]
     },
     "execution_count": 10,
     "metadata": {},
     "output_type": "execute_result"
    }
   ],
   "source": [
    "# Vemos los valores de nuestra variable objetivo Class\n",
    "df[\"class\"].value_counts()"
   ]
  },
  {
   "cell_type": "code",
   "execution_count": 11,
   "id": "1808c7c3",
   "metadata": {
    "vscode": {
     "languageId": "python"
    }
   },
   "outputs": [
    {
     "data": {
      "text/plain": [
       "<Axes: title={'center': 'Comestible vs. Venenoso'}, xlabel='class'>"
      ]
     },
     "execution_count": 11,
     "metadata": {},
     "output_type": "execute_result"
    },
    {
     "data": {
      "image/png": "[encoded data removed]",
      "text/plain": [
       "<Figure size 640x480 with 1 Axes>"
      ]
     },
     "metadata": {},
     "output_type": "display_data"
    }
   ],
   "source": [
    "# Lo graficamos para verlo mejor\n",
    "\n",
    "df[\"class\"].value_counts().plot(kind=\"bar\",color=[\"lightblue\", \"red\"], title=\"Comestible vs. Venenoso\")"
   ]
  },
  {
   "cell_type": "code",
   "execution_count": 12,
   "id": "d0e4cbd9",
   "metadata": {
    "vscode": {
     "languageId": "python"
    }
   },
   "outputs": [
    {
     "data": {
      "text/html": [
       "<div>\n",
       "<style scoped>\n",
       "    .dataframe tbody tr th:only-of-type {\n",
       "        vertical-align: middle;\n",
       "    }\n",
       "\n",
       "    .dataframe tbody tr th {\n",
       "        vertical-align: top;\n",
       "    }\n",
       "\n",
       "    .dataframe thead th {\n",
       "        text-align: right;\n",
       "    }\n",
       "</style>\n",
       "<table border=\"1\" class=\"dataframe\">\n",
       "  <thead>\n",
       "    <tr style=\"text-align: right;\">\n",
       "      <th></th>\n",
       "      <th>cap-shape</th>\n",
       "      <th>cap-surface</th>\n",
       "      <th>cap-color</th>\n",
       "      <th>bruises%3F</th>\n",
       "      <th>odor</th>\n",
       "      <th>gill-attachment</th>\n",
       "      <th>gill-spacing</th>\n",
       "      <th>gill-size</th>\n",
       "      <th>gill-color</th>\n",
       "      <th>stalk-shape</th>\n",
       "      <th>...</th>\n",
       "      <th>stalk-color-above-ring</th>\n",
       "      <th>stalk-color-below-ring</th>\n",
       "      <th>veil-type</th>\n",
       "      <th>veil-color</th>\n",
       "      <th>ring-number</th>\n",
       "      <th>ring-type</th>\n",
       "      <th>spore-print-color</th>\n",
       "      <th>population</th>\n",
       "      <th>habitat</th>\n",
       "      <th>class</th>\n",
       "    </tr>\n",
       "  </thead>\n",
       "  <tbody>\n",
       "    <tr>\n",
       "      <th>0</th>\n",
       "      <td>x</td>\n",
       "      <td>s</td>\n",
       "      <td>n</td>\n",
       "      <td>t</td>\n",
       "      <td>p</td>\n",
       "      <td>f</td>\n",
       "      <td>c</td>\n",
       "      <td>n</td>\n",
       "      <td>k</td>\n",
       "      <td>e</td>\n",
       "      <td>...</td>\n",
       "      <td>w</td>\n",
       "      <td>w</td>\n",
       "      <td>p</td>\n",
       "      <td>w</td>\n",
       "      <td>o</td>\n",
       "      <td>p</td>\n",
       "      <td>k</td>\n",
       "      <td>s</td>\n",
       "      <td>u</td>\n",
       "      <td>1</td>\n",
       "    </tr>\n",
       "    <tr>\n",
       "      <th>1</th>\n",
       "      <td>x</td>\n",
       "      <td>s</td>\n",
       "      <td>y</td>\n",
       "      <td>t</td>\n",
       "      <td>a</td>\n",
       "      <td>f</td>\n",
       "      <td>c</td>\n",
       "      <td>b</td>\n",
       "      <td>k</td>\n",
       "      <td>e</td>\n",
       "      <td>...</td>\n",
       "      <td>w</td>\n",
       "      <td>w</td>\n",
       "      <td>p</td>\n",
       "      <td>w</td>\n",
       "      <td>o</td>\n",
       "      <td>p</td>\n",
       "      <td>n</td>\n",
       "      <td>n</td>\n",
       "      <td>g</td>\n",
       "      <td>0</td>\n",
       "    </tr>\n",
       "    <tr>\n",
       "      <th>2</th>\n",
       "      <td>b</td>\n",
       "      <td>s</td>\n",
       "      <td>w</td>\n",
       "      <td>t</td>\n",
       "      <td>l</td>\n",
       "      <td>f</td>\n",
       "      <td>c</td>\n",
       "      <td>b</td>\n",
       "      <td>n</td>\n",
       "      <td>e</td>\n",
       "      <td>...</td>\n",
       "      <td>w</td>\n",
       "      <td>w</td>\n",
       "      <td>p</td>\n",
       "      <td>w</td>\n",
       "      <td>o</td>\n",
       "      <td>p</td>\n",
       "      <td>n</td>\n",
       "      <td>n</td>\n",
       "      <td>m</td>\n",
       "      <td>0</td>\n",
       "    </tr>\n",
       "    <tr>\n",
       "      <th>3</th>\n",
       "      <td>x</td>\n",
       "      <td>y</td>\n",
       "      <td>w</td>\n",
       "      <td>t</td>\n",
       "      <td>p</td>\n",
       "      <td>f</td>\n",
       "      <td>c</td>\n",
       "      <td>n</td>\n",
       "      <td>n</td>\n",
       "      <td>e</td>\n",
       "      <td>...</td>\n",
       "      <td>w</td>\n",
       "      <td>w</td>\n",
       "      <td>p</td>\n",
       "      <td>w</td>\n",
       "      <td>o</td>\n",
       "      <td>p</td>\n",
       "      <td>k</td>\n",
       "      <td>s</td>\n",
       "      <td>u</td>\n",
       "      <td>1</td>\n",
       "    </tr>\n",
       "    <tr>\n",
       "      <th>4</th>\n",
       "      <td>x</td>\n",
       "      <td>s</td>\n",
       "      <td>g</td>\n",
       "      <td>f</td>\n",
       "      <td>n</td>\n",
       "      <td>f</td>\n",
       "      <td>w</td>\n",
       "      <td>b</td>\n",
       "      <td>k</td>\n",
       "      <td>t</td>\n",
       "      <td>...</td>\n",
       "      <td>w</td>\n",
       "      <td>w</td>\n",
       "      <td>p</td>\n",
       "      <td>w</td>\n",
       "      <td>o</td>\n",
       "      <td>e</td>\n",
       "      <td>n</td>\n",
       "      <td>a</td>\n",
       "      <td>g</td>\n",
       "      <td>0</td>\n",
       "    </tr>\n",
       "    <tr>\n",
       "      <th>...</th>\n",
       "      <td>...</td>\n",
       "      <td>...</td>\n",
       "      <td>...</td>\n",
       "      <td>...</td>\n",
       "      <td>...</td>\n",
       "      <td>...</td>\n",
       "      <td>...</td>\n",
       "      <td>...</td>\n",
       "      <td>...</td>\n",
       "      <td>...</td>\n",
       "      <td>...</td>\n",
       "      <td>...</td>\n",
       "      <td>...</td>\n",
       "      <td>...</td>\n",
       "      <td>...</td>\n",
       "      <td>...</td>\n",
       "      <td>...</td>\n",
       "      <td>...</td>\n",
       "      <td>...</td>\n",
       "      <td>...</td>\n",
       "      <td>...</td>\n",
       "    </tr>\n",
       "    <tr>\n",
       "      <th>8119</th>\n",
       "      <td>k</td>\n",
       "      <td>s</td>\n",
       "      <td>n</td>\n",
       "      <td>f</td>\n",
       "      <td>n</td>\n",
       "      <td>a</td>\n",
       "      <td>c</td>\n",
       "      <td>b</td>\n",
       "      <td>y</td>\n",
       "      <td>e</td>\n",
       "      <td>...</td>\n",
       "      <td>o</td>\n",
       "      <td>o</td>\n",
       "      <td>p</td>\n",
       "      <td>o</td>\n",
       "      <td>o</td>\n",
       "      <td>p</td>\n",
       "      <td>b</td>\n",
       "      <td>c</td>\n",
       "      <td>l</td>\n",
       "      <td>0</td>\n",
       "    </tr>\n",
       "    <tr>\n",
       "      <th>8120</th>\n",
       "      <td>x</td>\n",
       "      <td>s</td>\n",
       "      <td>n</td>\n",
       "      <td>f</td>\n",
       "      <td>n</td>\n",
       "      <td>a</td>\n",
       "      <td>c</td>\n",
       "      <td>b</td>\n",
       "      <td>y</td>\n",
       "      <td>e</td>\n",
       "      <td>...</td>\n",
       "      <td>o</td>\n",
       "      <td>o</td>\n",
       "      <td>p</td>\n",
       "      <td>n</td>\n",
       "      <td>o</td>\n",
       "      <td>p</td>\n",
       "      <td>b</td>\n",
       "      <td>v</td>\n",
       "      <td>l</td>\n",
       "      <td>0</td>\n",
       "    </tr>\n",
       "    <tr>\n",
       "      <th>8121</th>\n",
       "      <td>f</td>\n",
       "      <td>s</td>\n",
       "      <td>n</td>\n",
       "      <td>f</td>\n",
       "      <td>n</td>\n",
       "      <td>a</td>\n",
       "      <td>c</td>\n",
       "      <td>b</td>\n",
       "      <td>n</td>\n",
       "      <td>e</td>\n",
       "      <td>...</td>\n",
       "      <td>o</td>\n",
       "      <td>o</td>\n",
       "      <td>p</td>\n",
       "      <td>o</td>\n",
       "      <td>o</td>\n",
       "      <td>p</td>\n",
       "      <td>b</td>\n",
       "      <td>c</td>\n",
       "      <td>l</td>\n",
       "      <td>0</td>\n",
       "    </tr>\n",
       "    <tr>\n",
       "      <th>8122</th>\n",
       "      <td>k</td>\n",
       "      <td>y</td>\n",
       "      <td>n</td>\n",
       "      <td>f</td>\n",
       "      <td>y</td>\n",
       "      <td>f</td>\n",
       "      <td>c</td>\n",
       "      <td>n</td>\n",
       "      <td>b</td>\n",
       "      <td>t</td>\n",
       "      <td>...</td>\n",
       "      <td>w</td>\n",
       "      <td>w</td>\n",
       "      <td>p</td>\n",
       "      <td>w</td>\n",
       "      <td>o</td>\n",
       "      <td>e</td>\n",
       "      <td>w</td>\n",
       "      <td>v</td>\n",
       "      <td>l</td>\n",
       "      <td>1</td>\n",
       "    </tr>\n",
       "    <tr>\n",
       "      <th>8123</th>\n",
       "      <td>x</td>\n",
       "      <td>s</td>\n",
       "      <td>n</td>\n",
       "      <td>f</td>\n",
       "      <td>n</td>\n",
       "      <td>a</td>\n",
       "      <td>c</td>\n",
       "      <td>b</td>\n",
       "      <td>y</td>\n",
       "      <td>e</td>\n",
       "      <td>...</td>\n",
       "      <td>o</td>\n",
       "      <td>o</td>\n",
       "      <td>p</td>\n",
       "      <td>o</td>\n",
       "      <td>o</td>\n",
       "      <td>p</td>\n",
       "      <td>o</td>\n",
       "      <td>c</td>\n",
       "      <td>l</td>\n",
       "      <td>0</td>\n",
       "    </tr>\n",
       "  </tbody>\n",
       "</table>\n",
       "<p>8124 rows × 23 columns</p>\n",
       "</div>"
      ],
      "text/plain": [
       "     cap-shape cap-surface cap-color bruises%3F odor gill-attachment   \n",
       "0            x           s         n          t    p               f  \\\n",
       "1            x           s         y          t    a               f   \n",
       "2            b           s         w          t    l               f   \n",
       "3            x           y         w          t    p               f   \n",
       "4            x           s         g          f    n               f   \n",
       "...        ...         ...       ...        ...  ...             ...   \n",
       "8119         k           s         n          f    n               a   \n",
       "8120         x           s         n          f    n               a   \n",
       "8121         f           s         n          f    n               a   \n",
       "8122         k           y         n          f    y               f   \n",
       "8123         x           s         n          f    n               a   \n",
       "\n",
       "     gill-spacing gill-size gill-color stalk-shape  ...   \n",
       "0               c         n          k           e  ...  \\\n",
       "1               c         b          k           e  ...   \n",
       "2               c         b          n           e  ...   \n",
       "3               c         n          n           e  ...   \n",
       "4               w         b          k           t  ...   \n",
       "...           ...       ...        ...         ...  ...   \n",
       "8119            c         b          y           e  ...   \n",
       "8120            c         b          y           e  ...   \n",
       "8121            c         b          n           e  ...   \n",
       "8122            c         n          b           t  ...   \n",
       "8123            c         b          y           e  ...   \n",
       "\n",
       "     stalk-color-above-ring stalk-color-below-ring veil-type veil-color   \n",
       "0                         w                      w         p          w  \\\n",
       "1                         w                      w         p          w   \n",
       "2                         w                      w         p          w   \n",
       "3                         w                      w         p          w   \n",
       "4                         w                      w         p          w   \n",
       "...                     ...                    ...       ...        ...   \n",
       "8119                      o                      o         p          o   \n",
       "8120                      o                      o         p          n   \n",
       "8121                      o                      o         p          o   \n",
       "8122                      w                      w         p          w   \n",
       "8123                      o                      o         p          o   \n",
       "\n",
       "     ring-number ring-type spore-print-color population habitat class  \n",
       "0              o         p                 k          s       u     1  \n",
       "1              o         p                 n          n       g     0  \n",
       "2              o         p                 n          n       m     0  \n",
       "3              o         p                 k          s       u     1  \n",
       "4              o         e                 n          a       g     0  \n",
       "...          ...       ...               ...        ...     ...   ...  \n",
       "8119           o         p                 b          c       l     0  \n",
       "8120           o         p                 b          v       l     0  \n",
       "8121           o         p                 b          c       l     0  \n",
       "8122           o         e                 w          v       l     1  \n",
       "8123           o         p                 o          c       l     0  \n",
       "\n",
       "[8124 rows x 23 columns]"
      ]
     },
     "metadata": {},
     "output_type": "display_data"
    }
   ],
   "source": [
    "# Definimos las variables de la columna \"Class\" como numericas\n",
    "\n",
    "# Creamos un diccionario que mapea los valores a reemplazar con sus correspondientes valores nuevos\n",
    "reemplazos = {\"e\": 0, \"p\": 1}\n",
    "\n",
    "# Utilizamos la función replace() para reemplazar los valores en la columna\n",
    "df['class'] = df['class'].replace(reemplazos)\n",
    "\n",
    "# Ahora tenemos: hongo venenoso = 1, y hongo comestible = 0\n",
    "display(df)"
   ]
  },
  {
   "cell_type": "code",
   "execution_count": 13,
   "id": "185d3d84",
   "metadata": {
    "vscode": {
     "languageId": "python"
    }
   },
   "outputs": [],
   "source": [
    "# Definimos X e y\n",
    "\n",
    "X = df.drop(['class', 'veil-type'], axis=1)\n",
    "y = df['class']"
   ]
  },
  {
   "cell_type": "code",
   "execution_count": 14,
   "id": "1a7a2f49",
   "metadata": {
    "vscode": {
     "languageId": "python"
    }
   },
   "outputs": [],
   "source": [
    "# Usamos LabelEncoder para convertir los datos categoricos en numericos\n",
    "from sklearn.preprocessing import LabelEncoder, StandardScaler\n",
    "\n",
    "encoder = LabelEncoder()\n",
    "\n",
    "for col in X.columns:\n",
    "    X[col] = encoder.fit_transform(X[col])"
   ]
  },
  {
   "cell_type": "code",
   "execution_count": 15,
   "id": "f01aaf73",
   "metadata": {
    "vscode": {
     "languageId": "python"
    }
   },
   "outputs": [],
   "source": [
    "# Escalamos los datos\n",
    "scaler = StandardScaler()\n",
    "X_scaled = scaler.fit_transform(X)"
   ]
  },
  {
   "cell_type": "markdown",
   "id": "857e6fb9",
   "metadata": {},
   "source": [
    "<5%> Separar X_train, y_train, X_test, y_test"
   ]
  },
  {
   "cell_type": "code",
   "execution_count": 16,
   "id": "67591b40",
   "metadata": {
    "vscode": {
     "languageId": "python"
    }
   },
   "outputs": [
    {
     "name": "stdout",
     "output_type": "stream",
     "text": [
      "      cap-shape  cap-surface  cap-color  bruises%3F  odor  gill-attachment   \n",
      "7873          3            2          2           0     7                1  \\\n",
      "6515          5            2          4           0     2                1   \n",
      "6141          2            3          2           0     8                1   \n",
      "2764          2            0          4           1     5                1   \n",
      "438           0            3          9           1     3                1   \n",
      "...         ...          ...        ...         ...   ...              ...   \n",
      "5226          5            3          4           0     2                1   \n",
      "5390          3            3          2           1     5                1   \n",
      "860           2            3          4           1     3                1   \n",
      "7603          3            2          2           0     2                1   \n",
      "7270          3            0          3           0     5                1   \n",
      "\n",
      "      gill-spacing  gill-size  gill-color  stalk-shape  ...   \n",
      "7873             0          1           0            1  ...  \\\n",
      "6515             0          1           0            1  ...   \n",
      "6141             0          1           0            1  ...   \n",
      "2764             0          0           9            1  ...   \n",
      "438              0          0           4            0  ...   \n",
      "...            ...        ...         ...          ...  ...   \n",
      "5226             0          1           0            1  ...   \n",
      "5390             0          0          10            0  ...   \n",
      "860              0          0          10            0  ...   \n",
      "7603             0          1           0            1  ...   \n",
      "7270             1          0           2            0  ...   \n",
      "\n",
      "      stalk-surface-above-ring  stalk-surface-below-ring   \n",
      "7873                         2                         1  \\\n",
      "6515                         1                         2   \n",
      "6141                         2                         2   \n",
      "2764                         2                         2   \n",
      "438                          2                         2   \n",
      "...                        ...                       ...   \n",
      "5226                         1                         2   \n",
      "5390                         2                         2   \n",
      "860                          2                         3   \n",
      "7603                         2                         2   \n",
      "7270                         2                         1   \n",
      "\n",
      "      stalk-color-above-ring  stalk-color-below-ring  veil-color  ring-number   \n",
      "7873                       6                       7           2            1  \\\n",
      "6515                       7                       7           2            1   \n",
      "6141                       6                       7           2            1   \n",
      "2764                       3                       6           2            1   \n",
      "438                        7                       7           2            1   \n",
      "...                      ...                     ...         ...          ...   \n",
      "5226                       6                       7           2            1   \n",
      "5390                       7                       2           2            2   \n",
      "860                        7                       7           2            1   \n",
      "7603                       6                       6           2            1   \n",
      "7270                       7                       7           2            2   \n",
      "\n",
      "      ring-type  spore-print-color  population  habitat  \n",
      "7873          0                  7           4        0  \n",
      "6515          0                  7           4        4  \n",
      "6141          0                  7           4        2  \n",
      "2764          4                  3           4        0  \n",
      "438           4                  3           2        3  \n",
      "...         ...                ...         ...      ...  \n",
      "5226          0                  7           4        4  \n",
      "5390          0                  7           1        6  \n",
      "860           4                  3           5        4  \n",
      "7603          0                  7           4        4  \n",
      "7270          4                  7           2        1  \n",
      "\n",
      "[6499 rows x 21 columns]       cap-shape  cap-surface  cap-color  bruises%3F  odor  gill-attachment   \n",
      "1971          2            0          4           0     5                1  \\\n",
      "6654          2            2          2           0     8                1   \n",
      "5606          5            3          4           0     2                1   \n",
      "3332          2            3          3           1     5                1   \n",
      "6988          2            2          2           0     7                1   \n",
      "...         ...          ...        ...         ...   ...              ...   \n",
      "7374          3            2          2           0     2                1   \n",
      "1149          2            2          4           0     5                1   \n",
      "4999          5            3          4           0     2                1   \n",
      "7497          3            3          4           0     8                1   \n",
      "3341          5            0          9           0     2                1   \n",
      "\n",
      "      gill-spacing  gill-size  gill-color  stalk-shape  ...   \n",
      "1971             1          0           3            1  ...  \\\n",
      "6654             0          1           0            1  ...   \n",
      "5606             0          1           0            1  ...   \n",
      "3332             0          0           5            1  ...   \n",
      "6988             0          1           0            1  ...   \n",
      "...            ...        ...         ...          ...  ...   \n",
      "7374             0          1           0            1  ...   \n",
      "1149             1          0           3            1  ...   \n",
      "4999             0          1           0            1  ...   \n",
      "7497             0          1           0            1  ...   \n",
      "3341             0          0           7            0  ...   \n",
      "\n",
      "      stalk-surface-above-ring  stalk-surface-below-ring   \n",
      "1971                         2                         0  \\\n",
      "6654                         2                         2   \n",
      "5606                         1                         2   \n",
      "3332                         2                         2   \n",
      "6988                         2                         2   \n",
      "...                        ...                       ...   \n",
      "7374                         1                         2   \n",
      "1149                         0                         2   \n",
      "4999                         1                         1   \n",
      "7497                         2                         1   \n",
      "3341                         1                         1   \n",
      "\n",
      "      stalk-color-above-ring  stalk-color-below-ring  veil-color  ring-number   \n",
      "1971                       7                       7           2            1  \\\n",
      "6654                       6                       6           2            1   \n",
      "5606                       7                       6           2            1   \n",
      "3332                       3                       6           2            1   \n",
      "6988                       6                       6           2            1   \n",
      "...                      ...                     ...         ...          ...   \n",
      "7374                       6                       7           2            1   \n",
      "1149                       7                       7           2            1   \n",
      "4999                       6                       6           2            1   \n",
      "7497                       6                       6           2            1   \n",
      "3341                       4                       4           2            1   \n",
      "\n",
      "      ring-type  spore-print-color  population  habitat  \n",
      "1971          0                  3           3        1  \n",
      "6654          0                  7           4        2  \n",
      "5606          0                  7           4        2  \n",
      "3332          4                  3           5        0  \n",
      "6988          0                  7           4        2  \n",
      "...         ...                ...         ...      ...  \n",
      "7374          0                  7           4        4  \n",
      "1149          0                  2           0        1  \n",
      "4999          0                  7           4        4  \n",
      "7497          0                  7           4        4  \n",
      "3341          2                  1           5        4  \n",
      "\n",
      "[1625 rows x 21 columns]\n"
     ]
    }
   ],
   "source": [
    "from sklearn.model_selection import train_test_split\n",
    "\n",
    "# Dividir los datos en conjuntos de entrenamiento y prueba\n",
    "X_train, X_test, y_train, y_test = train_test_split(X, y, test_size=0.2, random_state=42)\n",
    "print(X_train, X_test)\n"
   ]
  },
  {
   "cell_type": "markdown",
   "id": "ab1cc3bf",
   "metadata": {},
   "source": [
    "### Procesado y transformación de datos\n",
    "<10%> ¿Qué transformaciones debería aplicar? Especifique y justifique por grupo de columnas.\n",
    "\n",
    "Por ejemplo: columna A, B y C aplicaría transformación X porque ...\n",
    "\n",
    "Escriba los nombres de las columna en una lista por cada grupo:"
   ]
  },
  {
   "cell_type": "code",
   "execution_count": 17,
   "id": "9f38d95c",
   "metadata": {
    "vscode": {
     "languageId": "python"
    }
   },
   "outputs": [],
   "source": [
    "# Primero hacemos una copia como buena practica\n",
    "\n",
    "X_train = X_train.copy()\n",
    "X_test = X_test.copy()"
   ]
  },
  {
   "cell_type": "code",
   "execution_count": 18,
   "id": "7bc19c91",
   "metadata": {
    "vscode": {
     "languageId": "python"
    }
   },
   "outputs": [],
   "source": [
    "#Las transformaciones las hice mas arriba donde hice las siguientes modificaciones:\n",
    "\n",
    "# 1. Variables categóricas con más de un valor único: lo que hice con estas columnas\n",
    "# fue utilizar LabelEncoder para transformar cada valor único en una nueva columna binaria.\n",
    "# En un principio utilize OneHotEncoder pero me parecio mas dinamico y simple usar LabelEncoder para estos casos.\n",
    "\n",
    "# 2. Variables de identificación: La columna \"veil-type\" solo tenia un valor único y \n",
    "# no proporcionaba información útil para el modelado, por lo que la elimine.\n",
    "\n",
    "# 3. Variable objetivo: En la columna 'class' lo que hice fue reemplazar los valores de sus \n",
    "# variables por 0 y 1 transformandola en binaria."
   ]
  },
  {
   "cell_type": "markdown",
   "id": "af6cc0c0",
   "metadata": {},
   "source": [
    "<15%> A continuación escriba el código para realizar las transformaciones transformaciones"
   ]
  },
  {
   "cell_type": "code",
   "execution_count": 19,
   "id": "84c6363f",
   "metadata": {
    "vscode": {
     "languageId": "python"
    }
   },
   "outputs": [],
   "source": [
    "# OBSERVACION: Ya hecho arriba !"
   ]
  },
  {
   "cell_type": "markdown",
   "id": "76693b97",
   "metadata": {},
   "source": [
    "### Selección de modelo y entrenamiento\n",
    " \n"
   ]
  },
  {
   "cell_type": "code",
   "execution_count": 20,
   "id": "38504c64",
   "metadata": {
    "vscode": {
     "languageId": "python"
    }
   },
   "outputs": [
    {
     "data": {
      "text/html": [
       "<style>#sk-container-id-1 {color: black;background-color: white;}#sk-container-id-1 pre{padding: 0;}#sk-container-id-1 div.sk-toggleable {background-color: white;}#sk-container-id-1 label.sk-toggleable__label {cursor: pointer;display: block;width: 100%;margin-bottom: 0;padding: 0.3em;box-sizing: border-box;text-align: center;}#sk-container-id-1 label.sk-toggleable__label-arrow:before {content: \"▸\";float: left;margin-right: 0.25em;color: #696969;}#sk-container-id-1 label.sk-toggleable__label-arrow:hover:before {color: black;}#sk-container-id-1 div.sk-estimator:hover label.sk-toggleable__label-arrow:before {color: black;}#sk-container-id-1 div.sk-toggleable__content {max-height: 0;max-width: 0;overflow: hidden;text-align: left;background-color: #f0f8ff;}#sk-container-id-1 div.sk-toggleable__content pre {margin: 0.2em;color: black;border-radius: 0.25em;background-color: #f0f8ff;}#sk-container-id-1 input.sk-toggleable__control:checked~div.sk-toggleable__content {max-height: 200px;max-width: 100%;overflow: auto;}#sk-container-id-1 input.sk-toggleable__control:checked~label.sk-toggleable__label-arrow:before {content: \"▾\";}#sk-container-id-1 div.sk-estimator input.sk-toggleable__control:checked~label.sk-toggleable__label {background-color: #d4ebff;}#sk-container-id-1 div.sk-label input.sk-toggleable__control:checked~label.sk-toggleable__label {background-color: #d4ebff;}#sk-container-id-1 input.sk-hidden--visually {border: 0;clip: rect(1px 1px 1px 1px);clip: rect(1px, 1px, 1px, 1px);height: 1px;margin: -1px;overflow: hidden;padding: 0;position: absolute;width: 1px;}#sk-container-id-1 div.sk-estimator {font-family: monospace;background-color: #f0f8ff;border: 1px dotted black;border-radius: 0.25em;box-sizing: border-box;margin-bottom: 0.5em;}#sk-container-id-1 div.sk-estimator:hover {background-color: #d4ebff;}#sk-container-id-1 div.sk-parallel-item::after {content: \"\";width: 100%;border-bottom: 1px solid gray;flex-grow: 1;}#sk-container-id-1 div.sk-label:hover label.sk-toggleable__label {background-color: #d4ebff;}#sk-container-id-1 div.sk-serial::before {content: \"\";position: absolute;border-left: 1px solid gray;box-sizing: border-box;top: 0;bottom: 0;left: 50%;z-index: 0;}#sk-container-id-1 div.sk-serial {display: flex;flex-direction: column;align-items: center;background-color: white;padding-right: 0.2em;padding-left: 0.2em;position: relative;}#sk-container-id-1 div.sk-item {position: relative;z-index: 1;}#sk-container-id-1 div.sk-parallel {display: flex;align-items: stretch;justify-content: center;background-color: white;position: relative;}#sk-container-id-1 div.sk-item::before, #sk-container-id-1 div.sk-parallel-item::before {content: \"\";position: absolute;border-left: 1px solid gray;box-sizing: border-box;top: 0;bottom: 0;left: 50%;z-index: -1;}#sk-container-id-1 div.sk-parallel-item {display: flex;flex-direction: column;z-index: 1;position: relative;background-color: white;}#sk-container-id-1 div.sk-parallel-item:first-child::after {align-self: flex-end;width: 50%;}#sk-container-id-1 div.sk-parallel-item:last-child::after {align-self: flex-start;width: 50%;}#sk-container-id-1 div.sk-parallel-item:only-child::after {width: 0;}#sk-container-id-1 div.sk-dashed-wrapped {border: 1px dashed gray;margin: 0 0.4em 0.5em 0.4em;box-sizing: border-box;padding-bottom: 0.4em;background-color: white;}#sk-container-id-1 div.sk-label label {font-family: monospace;font-weight: bold;display: inline-block;line-height: 1.2em;}#sk-container-id-1 div.sk-label-container {text-align: center;}#sk-container-id-1 div.sk-container {/* jupyter's `normalize.less` sets `[hidden] { display: none; }` but bootstrap.min.css set `[hidden] { display: none !important; }` so we also need the `!important` here to be able to override the default hidden behavior on the sphinx rendered scikit-learn.org. See: https://github.com/scikit-learn/scikit-learn/issues/21755 */display: inline-block !important;position: relative;}#sk-container-id-1 div.sk-text-repr-fallback {display: none;}</style><div id=\"sk-container-id-1\" class=\"sk-top-container\"><div class=\"sk-text-repr-fallback\"><pre>SGDClassifier(random_state=42)</pre><b>In a Jupyter environment, please rerun this cell to show the HTML representation or trust the notebook. <br />On GitHub, the HTML representation is unable to render, please try loading this page with nbviewer.org.</b></div><div class=\"sk-container\" hidden><div class=\"sk-item\"><div class=\"sk-estimator sk-toggleable\"><input class=\"sk-toggleable__control sk-hidden--visually\" id=\"sk-estimator-id-1\" type=\"checkbox\" checked><label for=\"sk-estimator-id-1\" class=\"sk-toggleable__label sk-toggleable__label-arrow\">SGDClassifier</label><div class=\"sk-toggleable__content\"><pre>SGDClassifier(random_state=42)</pre></div></div></div></div></div>"
      ],
      "text/plain": [
       "SGDClassifier(random_state=42)"
      ]
     },
     "execution_count": 20,
     "metadata": {},
     "output_type": "execute_result"
    }
   ],
   "source": [
    "# Primero lo probe con el modelo SGD solo para ver como estaba funcionando\n",
    "from sklearn.linear_model import SGDClassifier \n",
    "\n",
    "sgd_clf = SGDClassifier(random_state=42)\n",
    "sgd_clf.fit(X_train, y_train)"
   ]
  },
  {
   "cell_type": "code",
   "execution_count": 21,
   "id": "74d85c3e",
   "metadata": {
    "vscode": {
     "languageId": "python"
    }
   },
   "outputs": [],
   "source": [
    "# Prediccion\n",
    "\n",
    "y_pred = sgd_clf.predict(X_test)"
   ]
  },
  {
   "cell_type": "code",
   "execution_count": 22,
   "id": "b3f6c120",
   "metadata": {
    "vscode": {
     "languageId": "python"
    }
   },
   "outputs": [
    {
     "name": "stdout",
     "output_type": "stream",
     "text": [
      "Accuracy: 0.9483076923076923\n"
     ]
    }
   ],
   "source": [
    "from sklearn.metrics import accuracy_score\n",
    "\n",
    "accuracy = accuracy_score(y_test, y_pred)\n",
    "\n",
    "print(\"Accuracy:\", accuracy)"
   ]
  },
  {
   "cell_type": "code",
   "execution_count": 23,
   "id": "211bfe41",
   "metadata": {
    "vscode": {
     "languageId": "python"
    }
   },
   "outputs": [],
   "source": [
    "# Pareciera funcionar correctamente, por lo tanto, pasamos a aplicar otros modelos."
   ]
  },
  {
   "cell_type": "code",
   "execution_count": 24,
   "id": "686ec5cd",
   "metadata": {
    "vscode": {
     "languageId": "python"
    }
   },
   "outputs": [],
   "source": [
    "from sklearn.linear_model import LogisticRegression\n",
    "from sklearn.ensemble import RandomForestClassifier\n",
    "cla_log = LogisticRegression(max_iter=10000)    # esto es para evitar los warnings\n",
    "cla_rf = RandomForestClassifier(random_state=42)"
   ]
  },
  {
   "cell_type": "code",
   "execution_count": 25,
   "id": "e5924b9d",
   "metadata": {
    "vscode": {
     "languageId": "python"
    }
   },
   "outputs": [
    {
     "name": "stdout",
     "output_type": "stream",
     "text": [
      "Valor en la region de prueba con Random Forest:  1.0\n",
      "Valor en la region de entrenamiento con Random Forest:  1.0\n",
      "Validacion cruzada:  [1. 1. 1.]\n"
     ]
    }
   ],
   "source": [
    "#Entrenamos el modelo Random Forest\n",
    "\n",
    "from sklearn.model_selection import cross_val_score\n",
    "\n",
    "model_train = cla_rf.fit(X_train, y_train)\n",
    "y_pred_rf = cla_rf.predict(X_test)\n",
    "\n",
    "accuracy_rf = accuracy_score(y_test, y_pred_rf)\n",
    "print(\"Valor en la region de prueba con Random Forest: \", accuracy_rf)\n",
    "\n",
    "# Determino el valor en la region de entrenamiento \n",
    "pred_train = model_train.score(X_train,y_train)\n",
    "print(\"Valor en la region de entrenamiento con Random Forest: \",pred_train)\n",
    "\n",
    "#Validacion cruzada\n",
    "crossAccuracy=cross_val_score(cla_rf,X_train,y_train,cv=3)\n",
    "print(\"Validacion cruzada: \",crossAccuracy)\n"
   ]
  },
  {
   "cell_type": "code",
   "execution_count": 26,
   "id": "34ef6cdc",
   "metadata": {
    "vscode": {
     "languageId": "python"
    }
   },
   "outputs": [
    {
     "name": "stdout",
     "output_type": "stream",
     "text": [
      "Valor en la region de prueba con Logistic Regression:  0.9476923076923077\n",
      "Valor en la region de entrenamiento con Logistic Regression:  0.9515310047699647\n",
      "Validacion cruzada:  [0.95985233 0.94690674 0.94459834]\n"
     ]
    }
   ],
   "source": [
    "#Entrenamos el modelo Logistic Regression\n",
    "\n",
    "model_train_log = cla_log.fit(X_train, y_train)\n",
    "y_pred_log = cla_log.predict(X_test)\n",
    "\n",
    "accuracy_log = accuracy_score(y_test, y_pred_log)\n",
    "print(\"Valor en la region de prueba con Logistic Regression: \", accuracy_log)\n",
    "\n",
    "# Determino el valor en la region de entrenamiento \n",
    "pred_train_log = model_train_log.score(X_train,y_train)\n",
    "print(\"Valor en la region de entrenamiento con Logistic Regression: \",pred_train_log)\n",
    "\n",
    "#Validacion cruzada\n",
    "crossAccuracy_log = cross_val_score(cla_log,X_train,y_train,cv=3)\n",
    "print(\"Validacion cruzada: \",crossAccuracy_log)\n"
   ]
  },
  {
   "cell_type": "markdown",
   "id": "63386e19",
   "metadata": {},
   "source": [
    "<15%>Utilice validación cruzada para evaluar los modelos que se importaron. Utilice el de area bajo la curva roc mas alto.\n",
    "Utilizar el metodo \"cross_val_predict\", tenga en cuenta que la variable, \"method\" para el LogisticRegression es \"decision_function\" y para RandomForestClassifier es \"predict_proba\" (ver clase o libro)\n",
    "\n",
    "<10%>¿Por qué lo eligiria el modelo por el area bajo la curva roc?"
   ]
  },
  {
   "cell_type": "code",
   "execution_count": 27,
   "id": "b6a6731b",
   "metadata": {
    "vscode": {
     "languageId": "python"
    }
   },
   "outputs": [],
   "source": [
    "# Curva de ROC: La curva ROC es una herramienta que se utiliza para evaluar la capacidad de un modelo de clasificación para distinguir entre dos clases. En la curva ROC, se representa la tasa de verdaderos positivos (TPR) en el eje y y la tasa de falsos positivos (FPR) en el eje x para diferentes umbrales de decisión.\n",
    "# En base a los resultados que nos pueden dar, un modelo perfecto tendría una tasa de verdaderos positivos del 100% y una tasa de falsos positivos del 0%.\n",
    "\n",
    "# Cuanto mayor sea el área bajo la curva ROC, mejor será el rendimiento del modelo en la clasificación.\n",
    "# Por lo tanto vamos a comparar los dos modelos y elegir el que tenga un AUC mayor."
   ]
  },
  {
   "cell_type": "code",
   "execution_count": 28,
   "id": "5bca745c",
   "metadata": {
    "vscode": {
     "languageId": "python"
    }
   },
   "outputs": [
    {
     "data": {
      "image/png": "[encoded data removed]",
      "text/plain": [
       "<Figure size 640x480 with 1 Axes>"
      ]
     },
     "metadata": {},
     "output_type": "display_data"
    }
   ],
   "source": [
    "from sklearn.model_selection import cross_val_predict\n",
    "from sklearn.metrics import roc_curve\n",
    "\n",
    "y_probas_rf = cross_val_predict(cla_rf, X_train, y_train, cv=5, method=\"predict_proba\")\n",
    "y_scores_rf = y_probas_rf[:, 1]\n",
    "\n",
    "fpr_rf, tpr_rf, thresholds_rf = roc_curve(y_train, y_scores_rf)\n",
    "\n",
    "def plot_roc_curve(fpr_rf, tpr_rf, label=None):\n",
    "    plt.plot(fpr_rf, tpr_rf, linewidth=2, label='Random Forest')\n",
    "    plt.plot([0, 1], [0, 1], 'k--')\n",
    "    plt.xlabel('False Positive Rate')\n",
    "    plt.ylabel('True Positive Rate')\n",
    "    plt.title('ROC Curve')\n",
    "    plt.legend()\n",
    "    plt.show()\n",
    "\n",
    "#Veo grafico\n",
    "plot_roc_curve(fpr_rf, tpr_rf)\n"
   ]
  },
  {
   "cell_type": "code",
   "execution_count": 29,
   "id": "874ce474",
   "metadata": {
    "vscode": {
     "languageId": "python"
    }
   },
   "outputs": [
    {
     "data": {
      "image/png": "[encoded data removed]",
      "text/plain": [
       "<Figure size 640x480 with 1 Axes>"
      ]
     },
     "metadata": {},
     "output_type": "display_data"
    }
   ],
   "source": [
    "from sklearn.model_selection import cross_val_predict\n",
    "from sklearn.metrics import roc_curve\n",
    "\n",
    "y_scores_log = cross_val_predict(cla_log, X_train, y_train, cv=5, method = \"decision_function\")\n",
    "\n",
    "fpr_log, tpr_log, thresholds_log = roc_curve(y_train, y_scores_log)\n",
    "\n",
    "def plot_roc_curve(fpr_log, tpr_log, label=None):\n",
    "    plt.plot(fpr_log, tpr_log, linewidth=2, label='Logistic Regression')\n",
    "    plt.plot([0, 1], [0, 1], 'k--')\n",
    "    plt.xlabel('False Positive Rate')\n",
    "    plt.ylabel('True Positive Rate')\n",
    "    plt.title('ROC Curve')\n",
    "    plt.legend()\n",
    "    plt.show()\n",
    "\n",
    "#Veo grafico\n",
    "plot_roc_curve(fpr_log, tpr_log)\n",
    "\n"
   ]
  },
  {
   "cell_type": "code",
   "execution_count": 30,
   "id": "6df4b8a2",
   "metadata": {
    "vscode": {
     "languageId": "python"
    }
   },
   "outputs": [
    {
     "name": "stdout",
     "output_type": "stream",
     "text": [
      "AUC para Random Forest: 1.0\n",
      "AUC para Regresión Logística: 0.9808466030906768\n"
     ]
    }
   ],
   "source": [
    "# Vemos los resultados con la metrica auc\n",
    "\n",
    "from sklearn.metrics import roc_auc_score\n",
    "\n",
    "auc_rf = roc_auc_score(y_train, y_scores_rf)\n",
    "print(\"AUC para Random Forest:\", auc_rf)\n",
    "\n",
    "auc_log = roc_auc_score(y_train, y_scores_log)\n",
    "print(\"AUC para Regresión Logística:\", auc_log)"
   ]
  },
  {
   "cell_type": "code",
   "execution_count": 31,
   "id": "1cf779bb",
   "metadata": {
    "vscode": {
     "languageId": "python"
    }
   },
   "outputs": [],
   "source": [
    "# Elijo RandomForest, ya que tiene un AUC mas alto y tendra un mayor rendimiento."
   ]
  },
  {
   "cell_type": "markdown",
   "id": "13659879",
   "metadata": {},
   "source": [
    "<15>Utilice el metodo grid search sobre el modelo elegido  \n",
    "en caso de ser LogisticRegression\n",
    "```\n",
    "param_grid = [\n",
    "{'C': [0.1, 1, 10], 'penalty': ['elasticnet'], 'l1_ratio': [0.,0.2,0.4]}\n",
    "]\n",
    "```\n",
    "en caso de ser RandomForest utilize:\n",
    "```\n",
    "param_grid = [\n",
    "{'n_estimators': [30, 100], 'max_features': [2, 4, 6, 8]}\n",
    "]\n",
    "```\n",
    "¿Cuál es el sentido de hacer esto?"
   ]
  },
  {
   "cell_type": "code",
   "execution_count": 32,
   "id": "a3ef5a22",
   "metadata": {
    "vscode": {
     "languageId": "python"
    }
   },
   "outputs": [],
   "source": [
    "# El método de Grid Search es una técnica de optimización de hiperparámetros que ayuda a encontrar \n",
    "# los valores óptimos para los parámetros de un modelo de aprendizaje automático. \n",
    "\n",
    "# El sentido de utilizar Grid Search sobre el modelo Random Forest es que este modelo tiene varios \n",
    "# hiperparámetros que pueden ser ajustados para mejorar su rendimiento. El objetivo es buscar el \n",
    "# conjunto óptimo de valores de hiperparámetros que maximizan el rendimiento del modelo en el conjunto de datos.\n",
    "\n",
    "# Se puede mejorar su capacidad para generalizar y predecir valores precisos para nuevos datos. "
   ]
  },
  {
   "cell_type": "code",
   "execution_count": 33,
   "id": "3229a234",
   "metadata": {
    "vscode": {
     "languageId": "python"
    }
   },
   "outputs": [
    {
     "name": "stdout",
     "output_type": "stream",
     "text": [
      "RandomForest con hiperparametros:  [1. 1. 1.]\n"
     ]
    }
   ],
   "source": [
    "\n",
    "from sklearn.model_selection import GridSearchCV\n",
    "\n",
    "param_grid = [\n",
    "{'n_estimators': [30, 100], 'max_features': [2, 4, 6, 8]}\n",
    "]\n",
    "\n",
    "# Defino la funcion grid search\n",
    "GridSearch=GridSearchCV(cla_rf,param_grid,cv=3,scoring='accuracy')\n",
    "\n",
    "# Entreno el modelo \n",
    "GridSearch.fit(X_train,y_train)\n",
    "\n",
    "# Busco los mejores hiperparametros \n",
    "best_params = GridSearch.best_params_\n",
    "\n",
    "#Defino el mejor modelo\n",
    "best_model=RandomForestClassifier(**best_params,random_state=42)\n",
    "\n",
    "#Re entreno el modelo\n",
    "best_model.fit(X_train,y_train)\n",
    "accuracy = cross_val_score(best_model,X_train,y_train,cv=3,scoring='accuracy')\n",
    "print(\"RandomForest con hiperparametros: \",accuracy)"
   ]
  },
  {
   "cell_type": "code",
   "execution_count": 34,
   "id": "2c1f0b60",
   "metadata": {
    "vscode": {
     "languageId": "python"
    }
   },
   "outputs": [
    {
     "name": "stdout",
     "output_type": "stream",
     "text": [
      "{'max_features': 2, 'n_estimators': 30}\n"
     ]
    }
   ],
   "source": [
    "# Mejores hiperparametros\n",
    "\n",
    "print(best_params)"
   ]
  },
  {
   "cell_type": "markdown",
   "id": "74e145bf",
   "metadata": {},
   "source": [
    "<5%>Imprima el valor de accuracy, recall, precision, f1 y auc_roc, en las regiones de validación"
   ]
  },
  {
   "cell_type": "code",
   "execution_count": 35,
   "id": "6a05fc0a",
   "metadata": {
    "vscode": {
     "languageId": "python"
    }
   },
   "outputs": [],
   "source": [
    "# Definimos la region de validacion\n",
    "\n",
    "validacion_rf = (y_scores_rf > 0.5)\n"
   ]
  },
  {
   "cell_type": "code",
   "execution_count": 36,
   "id": "50b9a3c2",
   "metadata": {
    "vscode": {
     "languageId": "python"
    }
   },
   "outputs": [
    {
     "name": "stdout",
     "output_type": "stream",
     "text": [
      "Accuracy: 1.0\n"
     ]
    }
   ],
   "source": [
    "# 1. Accuracy\n",
    "accuracy = accuracy_score(y_train, validacion_rf)\n",
    "print('Accuracy:', accuracy)"
   ]
  },
  {
   "cell_type": "code",
   "execution_count": 37,
   "id": "de05bbcf",
   "metadata": {
    "vscode": {
     "languageId": "python"
    }
   },
   "outputs": [
    {
     "name": "stdout",
     "output_type": "stream",
     "text": [
      "Recall:  1.0\n"
     ]
    }
   ],
   "source": [
    "# 2. Recall\n",
    "from sklearn.metrics import recall_score\n",
    "recall = recall_score(y_train, validacion_rf)\n",
    "print('Recall: ', recall)"
   ]
  },
  {
   "cell_type": "code",
   "execution_count": 38,
   "id": "bbce02d7",
   "metadata": {
    "vscode": {
     "languageId": "python"
    }
   },
   "outputs": [
    {
     "name": "stdout",
     "output_type": "stream",
     "text": [
      "Precision:  1.0\n"
     ]
    }
   ],
   "source": [
    "# 3. Precision\n",
    "\n",
    "from sklearn.metrics import precision_score\n",
    "p = precision_score(y_train, validacion_rf)\n",
    "print(\"Precision: \",p)"
   ]
  },
  {
   "cell_type": "code",
   "execution_count": 39,
   "id": "f2e0fc1a",
   "metadata": {
    "vscode": {
     "languageId": "python"
    }
   },
   "outputs": [
    {
     "name": "stdout",
     "output_type": "stream",
     "text": [
      "F1:  1.0\n"
     ]
    }
   ],
   "source": [
    "# 4. F1 Score\n",
    "\n",
    "from sklearn.metrics import f1_score\n",
    "f1 = f1_score(y_train, validacion_rf)\n",
    "print('F1: ',f1)"
   ]
  },
  {
   "cell_type": "code",
   "execution_count": 40,
   "id": "257e8cac",
   "metadata": {
    "vscode": {
     "languageId": "python"
    }
   },
   "outputs": [
    {
     "name": "stdout",
     "output_type": "stream",
     "text": [
      "ROC auc:  1.0\n"
     ]
    }
   ],
   "source": [
    "# 5 ROC AUC\n",
    "from sklearn.metrics import roc_auc_score\n",
    "roc_auc = roc_auc_score(y_train, validacion_rf)\n",
    "print('ROC auc: ',roc_auc)"
   ]
  },
  {
   "cell_type": "markdown",
   "id": "d1c88337",
   "metadata": {},
   "source": [
    "<5%>Imprima el valor de accuracy, recall, precision, f1 y auc_roc, en las regiones de test, \n",
    "¿Los números son parecido a lo obtenido en las regiones de validación? ¿A qué puede deberse?"
   ]
  },
  {
   "cell_type": "code",
   "execution_count": 41,
   "id": "733a2f15",
   "metadata": {
    "vscode": {
     "languageId": "python"
    }
   },
   "outputs": [],
   "source": [
    "# Ahora trabajamos en las regiones de test\n",
    "# Hacemos las predicciones \n",
    "\n",
    "y_test_pred_rf = cross_val_predict(cla_rf, X_test, y_test, cv=3)"
   ]
  },
  {
   "cell_type": "code",
   "execution_count": 42,
   "id": "dee94dcd",
   "metadata": {
    "vscode": {
     "languageId": "python"
    }
   },
   "outputs": [
    {
     "name": "stdout",
     "output_type": "stream",
     "text": [
      "Accuracy: 0.9987692307692307\n"
     ]
    }
   ],
   "source": [
    "accuracy = accuracy_score(y_test, y_test_pred_rf)\n",
    "print('Accuracy:', accuracy)"
   ]
  },
  {
   "cell_type": "code",
   "execution_count": 43,
   "id": "2fa3965a",
   "metadata": {
    "vscode": {
     "languageId": "python"
    }
   },
   "outputs": [
    {
     "name": "stdout",
     "output_type": "stream",
     "text": [
      "Recall:  0.9974424552429667\n"
     ]
    }
   ],
   "source": [
    "# 2.Recall\n",
    "from sklearn.metrics import recall_score\n",
    "recall = recall_score(y_test, y_test_pred_rf)\n",
    "print('Recall: ', recall)"
   ]
  },
  {
   "cell_type": "code",
   "execution_count": 44,
   "id": "d53ff5f3",
   "metadata": {
    "vscode": {
     "languageId": "python"
    }
   },
   "outputs": [
    {
     "name": "stdout",
     "output_type": "stream",
     "text": [
      "Precision:  1.0\n"
     ]
    }
   ],
   "source": [
    "# 3.Precision\n",
    "from sklearn.metrics import precision_score\n",
    "p = precision_score(y_test, y_test_pred_rf)\n",
    "print('Precision: ', p)"
   ]
  },
  {
   "cell_type": "code",
   "execution_count": 45,
   "id": "aa901dce",
   "metadata": {
    "vscode": {
     "languageId": "python"
    }
   },
   "outputs": [
    {
     "name": "stdout",
     "output_type": "stream",
     "text": [
      "F1:  0.998719590268886\n"
     ]
    }
   ],
   "source": [
    "# 4.F1 Score\n",
    "from sklearn.metrics import f1_score\n",
    "f1 = f1_score(y_test, y_test_pred_rf)\n",
    "print('F1: ',f1)"
   ]
  },
  {
   "cell_type": "code",
   "execution_count": 46,
   "id": "2aa4887c",
   "metadata": {
    "vscode": {
     "languageId": "python"
    }
   },
   "outputs": [
    {
     "name": "stdout",
     "output_type": "stream",
     "text": [
      "ROC auc:  0.9987212276214834\n"
     ]
    }
   ],
   "source": [
    "# 5.ROC AUC\n",
    "from sklearn.metrics import roc_auc_score\n",
    "roc_auc = roc_auc_score(y_test, y_test_pred_rf)\n",
    "print('ROC auc: ',roc_auc)\n"
   ]
  },
  {
   "cell_type": "code",
   "execution_count": 47,
   "id": "f6aa192b",
   "metadata": {
    "vscode": {
     "languageId": "python"
    }
   },
   "outputs": [],
   "source": [
    "# Los datos obtenidos entre ambas regiones son muy similares, y esto nos podría \n",
    "# indicar que el modelo está generalizando bien y que no está sobreajustando a los\n",
    "# datos de entrenamiento. "
   ]
  }
 ],
 "metadata": {
  "kernelspec": {
   "display_name": "Python 3 (ipykernel)",
   "language": "python",
   "name": "python3"
  }
 },
 "nbformat": 4,
 "nbformat_minor": 5
}
