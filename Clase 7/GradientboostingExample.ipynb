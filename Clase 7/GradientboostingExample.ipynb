{
 "cells": [
  {
   "cell_type": "raw",
   "metadata": {
    "colab": {
     "base_uri": "https://localhost:8080/"
    },
    "id": "vjrFcMaxyD4p",
    "outputId": "47a94f47-9210-4c44-ab26-eb6154452a4d"
   },
   "source": [
    "!pip install xgboost\n",
    "!pip install lightgbm\n",
    "!pip install catboost\n"
   ]
  },
  {
   "cell_type": "code",
   "execution_count": 2,
   "metadata": {
    "colab": {
     "base_uri": "https://localhost:8080/"
    },
    "id": "ly3CFBTWyZv_",
    "outputId": "bef9b7a0-1719-408b-a095-0437271fc534"
   },
   "outputs": [
    {
     "name": "stdout",
     "output_type": "stream",
     "text": [
      "xgboost version: 1.7.5\n",
      "lightgbm version: 3.3.5\n",
      "catboost version: 1.2\n"
     ]
    }
   ],
   "source": [
    "import xgboost\n",
    "print('xgboost version:',xgboost.__version__)\n",
    "import lightgbm\n",
    "print('lightgbm version:',lightgbm.__version__)\n",
    "import catboost\n",
    "print('catboost version:',catboost.__version__)"
   ]
  },
  {
   "cell_type": "code",
   "execution_count": 3,
   "metadata": {
    "id": "p4_HOgziKLoG"
   },
   "outputs": [],
   "source": [
    "from sklearn.datasets import make_regression\n",
    "X, y = make_regression(n_samples=2000, n_features=20)"
   ]
  },
  {
   "cell_type": "code",
   "execution_count": 4,
   "metadata": {
    "colab": {
     "base_uri": "https://localhost:8080/"
    },
    "id": "lfh5D64qKuGF",
    "outputId": "790f4004-794d-458e-8197-536cf188f84d"
   },
   "outputs": [
    {
     "data": {
      "text/plain": [
       "(2000, 20)"
      ]
     },
     "execution_count": 4,
     "metadata": {},
     "output_type": "execute_result"
    }
   ],
   "source": [
    "X.shape"
   ]
  },
  {
   "cell_type": "code",
   "execution_count": 5,
   "metadata": {
    "id": "bzq1RFrw0K8s"
   },
   "outputs": [],
   "source": [
    "from lightgbm import LGBMRegressor\n",
    "from catboost import CatBoostRegressor\n",
    "from xgboost import XGBRegressor\n",
    "from sklearn.ensemble import RandomForestRegressor, ExtraTreesRegressor, GradientBoostingRegressor,AdaBoostRegressor\n",
    "\n",
    "models = [RandomForestRegressor(n_estimators=100),\n",
    "          ExtraTreesRegressor(n_estimators=100),\n",
    "          AdaBoostRegressor(n_estimators=100),\n",
    "          GradientBoostingRegressor(n_estimators=100),\n",
    "          XGBRegressor(n_estimators=100,objective='reg:squarederror'),\n",
    "          CatBoostRegressor(verbose=0, n_estimators=100),\n",
    "          LGBMRegressor(n_estimators=100)]\n"
   ]
  },
  {
   "cell_type": "code",
   "execution_count": 6,
   "metadata": {
    "colab": {
     "base_uri": "https://localhost:8080/",
     "height": 450
    },
    "id": "QycaRSCSJ6Lq",
    "outputId": "81a098eb-99dd-4e47-9285-4ec0a5270759"
   },
   "outputs": [
    {
     "name": "stdout",
     "output_type": "stream",
     "text": [
      "RandomForestRegressor\n",
      "5.85 s ± 407 ms per loop (mean ± std. dev. of 7 runs, 1 loop each)\n",
      "ExtraTreesRegressor\n",
      "2.19 s ± 40.7 ms per loop (mean ± std. dev. of 7 runs, 1 loop each)\n",
      "AdaBoostRegressor\n",
      "2.04 s ± 195 ms per loop (mean ± std. dev. of 7 runs, 1 loop each)\n",
      "GradientBoostingRegressor\n",
      "2.56 s ± 67.9 ms per loop (mean ± std. dev. of 7 runs, 1 loop each)\n",
      "XGBRegressor\n",
      "1.82 s ± 345 ms per loop (mean ± std. dev. of 7 runs, 1 loop each)\n",
      "CatBoostRegressor\n",
      "1.49 s ± 196 ms per loop (mean ± std. dev. of 7 runs, 1 loop each)\n",
      "LGBMRegressor\n",
      "770 ms ± 147 ms per loop (mean ± std. dev. of 7 runs, 1 loop each)\n"
     ]
    }
   ],
   "source": [
    "for model in models:\n",
    "  print(type(model).__name__)\n",
    "  %timeit model.fit(X,y)"
   ]
  },
  {
   "cell_type": "code",
   "execution_count": 7,
   "metadata": {
    "id": "P9FlOxtaJt0U"
   },
   "outputs": [
    {
     "name": "stdout",
     "output_type": "stream",
     "text": [
      "RandomForestRegressor\n",
      "89.7 ms ± 1.03 ms per loop (mean ± std. dev. of 7 runs, 10 loops each)\n",
      "ExtraTreesRegressor\n",
      "114 ms ± 20.9 ms per loop (mean ± std. dev. of 7 runs, 10 loops each)\n",
      "AdaBoostRegressor\n",
      "109 ms ± 5.76 ms per loop (mean ± std. dev. of 7 runs, 10 loops each)\n",
      "GradientBoostingRegressor\n",
      "8.3 ms ± 454 µs per loop (mean ± std. dev. of 7 runs, 100 loops each)\n",
      "XGBRegressor\n",
      "13.9 ms ± 7.06 ms per loop (mean ± std. dev. of 7 runs, 10 loops each)\n",
      "CatBoostRegressor\n",
      "37 ms ± 4.35 ms per loop (mean ± std. dev. of 7 runs, 10 loops each)\n",
      "LGBMRegressor\n",
      "22.2 ms ± 3.62 ms per loop (mean ± std. dev. of 7 runs, 100 loops each)\n"
     ]
    }
   ],
   "source": [
    "for model in models:\n",
    "  print(type(model).__name__)\n",
    "  %timeit model.predict(X)"
   ]
  },
  {
   "cell_type": "code",
   "execution_count": 8,
   "metadata": {
    "id": "6sGypWUh03jb"
   },
   "outputs": [
    {
     "name": "stdout",
     "output_type": "stream",
     "text": [
      "RandomForestRegressor RMSE: 103.672 (5.209)\n",
      "ExtraTreesRegressor RMSE: 96.221 (5.883)\n",
      "AdaBoostRegressor RMSE: 103.997 (5.030)\n",
      "GradientBoostingRegressor RMSE: 67.528 (3.880)\n",
      "XGBRegressor RMSE: 79.334 (5.688)\n",
      "CatBoostRegressor RMSE: 35.687 (2.901)\n",
      "LGBMRegressor RMSE: 59.063 (3.792)\n"
     ]
    }
   ],
   "source": [
    "from numpy import mean,std,sqrt\n",
    "from sklearn.model_selection import cross_val_score\n",
    "\n",
    "for model in models:\n",
    "  n_scores = cross_val_score(model, X, y, scoring='neg_mean_squared_error', cv=10, n_jobs=-1)\n",
    "  n_scores = sqrt(-n_scores)\n",
    "  print(f'{type(model).__name__} RMSE: %.3f (%.3f)' % (mean(n_scores), std(n_scores)))"
   ]
  },
  {
   "cell_type": "code",
   "execution_count": null,
   "metadata": {
    "id": "ngT377jlJFPj"
   },
   "outputs": [],
   "source": []
  },
  {
   "cell_type": "markdown",
   "metadata": {
    "id": "eE5zDeBmJFC-"
   },
   "source": [
    "# Clasificación"
   ]
  },
  {
   "cell_type": "code",
   "execution_count": 9,
   "metadata": {
    "id": "BB3v-gNt9gtS"
   },
   "outputs": [],
   "source": [
    "from sklearn.datasets import load_digits\n",
    "\n",
    "dataset = load_digits(n_class=2,as_frame=True)\n"
   ]
  },
  {
   "cell_type": "code",
   "execution_count": 10,
   "metadata": {
    "id": "Y68foQiGJvfX"
   },
   "outputs": [],
   "source": [
    "X, y = dataset[\"data\"], dataset[\"target\"]\n",
    "X = X/16."
   ]
  },
  {
   "cell_type": "code",
   "execution_count": 11,
   "metadata": {
    "id": "qB_b3_YjMT8n"
   },
   "outputs": [
    {
     "data": {
      "text/html": [
       "<div>\n",
       "<style scoped>\n",
       "    .dataframe tbody tr th:only-of-type {\n",
       "        vertical-align: middle;\n",
       "    }\n",
       "\n",
       "    .dataframe tbody tr th {\n",
       "        vertical-align: top;\n",
       "    }\n",
       "\n",
       "    .dataframe thead th {\n",
       "        text-align: right;\n",
       "    }\n",
       "</style>\n",
       "<table border=\"1\" class=\"dataframe\">\n",
       "  <thead>\n",
       "    <tr style=\"text-align: right;\">\n",
       "      <th></th>\n",
       "      <th>pixel_0_0</th>\n",
       "      <th>pixel_0_1</th>\n",
       "      <th>pixel_0_2</th>\n",
       "      <th>pixel_0_3</th>\n",
       "      <th>pixel_0_4</th>\n",
       "      <th>pixel_0_5</th>\n",
       "      <th>pixel_0_6</th>\n",
       "      <th>pixel_0_7</th>\n",
       "      <th>pixel_1_0</th>\n",
       "      <th>pixel_1_1</th>\n",
       "      <th>...</th>\n",
       "      <th>pixel_6_6</th>\n",
       "      <th>pixel_6_7</th>\n",
       "      <th>pixel_7_0</th>\n",
       "      <th>pixel_7_1</th>\n",
       "      <th>pixel_7_2</th>\n",
       "      <th>pixel_7_3</th>\n",
       "      <th>pixel_7_4</th>\n",
       "      <th>pixel_7_5</th>\n",
       "      <th>pixel_7_6</th>\n",
       "      <th>pixel_7_7</th>\n",
       "    </tr>\n",
       "  </thead>\n",
       "  <tbody>\n",
       "    <tr>\n",
       "      <th>0</th>\n",
       "      <td>0.0</td>\n",
       "      <td>0.0</td>\n",
       "      <td>0.3125</td>\n",
       "      <td>0.8125</td>\n",
       "      <td>0.5625</td>\n",
       "      <td>0.0625</td>\n",
       "      <td>0.0000</td>\n",
       "      <td>0.0</td>\n",
       "      <td>0.0</td>\n",
       "      <td>0.0</td>\n",
       "      <td>...</td>\n",
       "      <td>0.0000</td>\n",
       "      <td>0.0</td>\n",
       "      <td>0.0</td>\n",
       "      <td>0.0</td>\n",
       "      <td>0.3750</td>\n",
       "      <td>0.8125</td>\n",
       "      <td>0.6250</td>\n",
       "      <td>0.0000</td>\n",
       "      <td>0.0000</td>\n",
       "      <td>0.0</td>\n",
       "    </tr>\n",
       "    <tr>\n",
       "      <th>1</th>\n",
       "      <td>0.0</td>\n",
       "      <td>0.0</td>\n",
       "      <td>0.0000</td>\n",
       "      <td>0.7500</td>\n",
       "      <td>0.8125</td>\n",
       "      <td>0.3125</td>\n",
       "      <td>0.0000</td>\n",
       "      <td>0.0</td>\n",
       "      <td>0.0</td>\n",
       "      <td>0.0</td>\n",
       "      <td>...</td>\n",
       "      <td>0.0000</td>\n",
       "      <td>0.0</td>\n",
       "      <td>0.0</td>\n",
       "      <td>0.0</td>\n",
       "      <td>0.0000</td>\n",
       "      <td>0.6875</td>\n",
       "      <td>1.0000</td>\n",
       "      <td>0.6250</td>\n",
       "      <td>0.0000</td>\n",
       "      <td>0.0</td>\n",
       "    </tr>\n",
       "    <tr>\n",
       "      <th>2</th>\n",
       "      <td>0.0</td>\n",
       "      <td>0.0</td>\n",
       "      <td>0.0625</td>\n",
       "      <td>0.5625</td>\n",
       "      <td>0.9375</td>\n",
       "      <td>0.6875</td>\n",
       "      <td>0.0000</td>\n",
       "      <td>0.0</td>\n",
       "      <td>0.0</td>\n",
       "      <td>0.0</td>\n",
       "      <td>...</td>\n",
       "      <td>0.0000</td>\n",
       "      <td>0.0</td>\n",
       "      <td>0.0</td>\n",
       "      <td>0.0</td>\n",
       "      <td>0.0625</td>\n",
       "      <td>0.6250</td>\n",
       "      <td>0.8125</td>\n",
       "      <td>0.1875</td>\n",
       "      <td>0.0000</td>\n",
       "      <td>0.0</td>\n",
       "    </tr>\n",
       "    <tr>\n",
       "      <th>3</th>\n",
       "      <td>0.0</td>\n",
       "      <td>0.0</td>\n",
       "      <td>0.0000</td>\n",
       "      <td>0.0000</td>\n",
       "      <td>0.8750</td>\n",
       "      <td>0.8125</td>\n",
       "      <td>0.0625</td>\n",
       "      <td>0.0</td>\n",
       "      <td>0.0</td>\n",
       "      <td>0.0</td>\n",
       "      <td>...</td>\n",
       "      <td>0.0000</td>\n",
       "      <td>0.0</td>\n",
       "      <td>0.0</td>\n",
       "      <td>0.0</td>\n",
       "      <td>0.0000</td>\n",
       "      <td>0.0625</td>\n",
       "      <td>0.8125</td>\n",
       "      <td>1.0000</td>\n",
       "      <td>0.0625</td>\n",
       "      <td>0.0</td>\n",
       "    </tr>\n",
       "    <tr>\n",
       "      <th>4</th>\n",
       "      <td>0.0</td>\n",
       "      <td>0.0</td>\n",
       "      <td>0.1875</td>\n",
       "      <td>0.8125</td>\n",
       "      <td>0.6875</td>\n",
       "      <td>0.4375</td>\n",
       "      <td>0.0000</td>\n",
       "      <td>0.0</td>\n",
       "      <td>0.0</td>\n",
       "      <td>0.0</td>\n",
       "      <td>...</td>\n",
       "      <td>0.0625</td>\n",
       "      <td>0.0</td>\n",
       "      <td>0.0</td>\n",
       "      <td>0.0</td>\n",
       "      <td>0.1250</td>\n",
       "      <td>0.7500</td>\n",
       "      <td>0.8125</td>\n",
       "      <td>0.2500</td>\n",
       "      <td>0.0000</td>\n",
       "      <td>0.0</td>\n",
       "    </tr>\n",
       "  </tbody>\n",
       "</table>\n",
       "<p>5 rows × 64 columns</p>\n",
       "</div>"
      ],
      "text/plain": [
       "   pixel_0_0  pixel_0_1  pixel_0_2  pixel_0_3  pixel_0_4  pixel_0_5   \n",
       "0        0.0        0.0     0.3125     0.8125     0.5625     0.0625  \\\n",
       "1        0.0        0.0     0.0000     0.7500     0.8125     0.3125   \n",
       "2        0.0        0.0     0.0625     0.5625     0.9375     0.6875   \n",
       "3        0.0        0.0     0.0000     0.0000     0.8750     0.8125   \n",
       "4        0.0        0.0     0.1875     0.8125     0.6875     0.4375   \n",
       "\n",
       "   pixel_0_6  pixel_0_7  pixel_1_0  pixel_1_1  ...  pixel_6_6  pixel_6_7   \n",
       "0     0.0000        0.0        0.0        0.0  ...     0.0000        0.0  \\\n",
       "1     0.0000        0.0        0.0        0.0  ...     0.0000        0.0   \n",
       "2     0.0000        0.0        0.0        0.0  ...     0.0000        0.0   \n",
       "3     0.0625        0.0        0.0        0.0  ...     0.0000        0.0   \n",
       "4     0.0000        0.0        0.0        0.0  ...     0.0625        0.0   \n",
       "\n",
       "   pixel_7_0  pixel_7_1  pixel_7_2  pixel_7_3  pixel_7_4  pixel_7_5   \n",
       "0        0.0        0.0     0.3750     0.8125     0.6250     0.0000  \\\n",
       "1        0.0        0.0     0.0000     0.6875     1.0000     0.6250   \n",
       "2        0.0        0.0     0.0625     0.6250     0.8125     0.1875   \n",
       "3        0.0        0.0     0.0000     0.0625     0.8125     1.0000   \n",
       "4        0.0        0.0     0.1250     0.7500     0.8125     0.2500   \n",
       "\n",
       "   pixel_7_6  pixel_7_7  \n",
       "0     0.0000        0.0  \n",
       "1     0.0000        0.0  \n",
       "2     0.0000        0.0  \n",
       "3     0.0625        0.0  \n",
       "4     0.0000        0.0  \n",
       "\n",
       "[5 rows x 64 columns]"
      ]
     },
     "execution_count": 11,
     "metadata": {},
     "output_type": "execute_result"
    }
   ],
   "source": [
    "X.head()"
   ]
  },
  {
   "cell_type": "code",
   "execution_count": 12,
   "metadata": {
    "id": "SSNSRM6PL8m-"
   },
   "outputs": [
    {
     "data": {
      "text/plain": [
       "0    0\n",
       "1    1\n",
       "2    0\n",
       "3    1\n",
       "4    0\n",
       "Name: target, dtype: int64"
      ]
     },
     "execution_count": 12,
     "metadata": {},
     "output_type": "execute_result"
    }
   ],
   "source": [
    "y.head()"
   ]
  },
  {
   "cell_type": "code",
   "execution_count": 13,
   "metadata": {
    "id": "N8KcHLJxKEKj"
   },
   "outputs": [],
   "source": [
    "from lightgbm import LGBMClassifier\n",
    "from catboost import CatBoostClassifier\n",
    "from xgboost import XGBClassifier\n",
    "from sklearn.ensemble import RandomForestClassifier, ExtraTreesClassifier, GradientBoostingClassifier,AdaBoostClassifier\n",
    "\n",
    "models = [RandomForestClassifier(),\n",
    "          ExtraTreesClassifier(n_estimators=100),\n",
    "          AdaBoostClassifier(n_estimators=100),\n",
    "          GradientBoostingClassifier(n_estimators=100),\n",
    "          XGBClassifier(n_estimators=100,eval_metric='logloss'),\n",
    "          CatBoostClassifier(verbose=0, n_estimators=100),\n",
    "          LGBMClassifier(n_estimators=100)]"
   ]
  },
  {
   "cell_type": "code",
   "execution_count": 14,
   "metadata": {
    "id": "BXNvl9kNLIjS"
   },
   "outputs": [
    {
     "name": "stdout",
     "output_type": "stream",
     "text": [
      "RandomForestClassifier\n",
      "711 ms ± 194 ms per loop (mean ± std. dev. of 7 runs, 1 loop each)\n",
      "ExtraTreesClassifier\n",
      "436 ms ± 31.4 ms per loop (mean ± std. dev. of 7 runs, 1 loop each)\n",
      "AdaBoostClassifier\n",
      "778 ms ± 126 ms per loop (mean ± std. dev. of 7 runs, 1 loop each)\n",
      "GradientBoostingClassifier\n",
      "404 ms ± 43 ms per loop (mean ± std. dev. of 7 runs, 1 loop each)\n",
      "XGBClassifier\n",
      "217 ms ± 15.1 ms per loop (mean ± std. dev. of 7 runs, 1 loop each)\n",
      "CatBoostClassifier\n",
      "430 ms ± 18.5 ms per loop (mean ± std. dev. of 7 runs, 1 loop each)\n",
      "LGBMClassifier\n",
      "194 ms ± 116 ms per loop (mean ± std. dev. of 7 runs, 10 loops each)\n"
     ]
    }
   ],
   "source": [
    "for model in models:\n",
    "  print(type(model).__name__)\n",
    "  %timeit model.fit(X,y)"
   ]
  },
  {
   "cell_type": "code",
   "execution_count": 15,
   "metadata": {
    "id": "nD3zirK8PsTn"
   },
   "outputs": [
    {
     "name": "stdout",
     "output_type": "stream",
     "text": [
      "RandomForestClassifier\n",
      "40.8 ms ± 1.06 ms per loop (mean ± std. dev. of 7 runs, 10 loops each)\n",
      "ExtraTreesClassifier\n",
      "41.1 ms ± 505 µs per loop (mean ± std. dev. of 7 runs, 10 loops each)\n",
      "AdaBoostClassifier\n",
      "72.2 ms ± 7.04 ms per loop (mean ± std. dev. of 7 runs, 10 loops each)\n",
      "GradientBoostingClassifier\n",
      "6.62 ms ± 571 µs per loop (mean ± std. dev. of 7 runs, 100 loops each)\n",
      "XGBClassifier\n",
      "20.8 ms ± 9.22 ms per loop (mean ± std. dev. of 7 runs, 100 loops each)\n",
      "CatBoostClassifier\n",
      "5.06 ms ± 91.6 µs per loop (mean ± std. dev. of 7 runs, 100 loops each)\n",
      "LGBMClassifier\n",
      "5.63 ms ± 758 µs per loop (mean ± std. dev. of 7 runs, 100 loops each)\n"
     ]
    }
   ],
   "source": [
    "for model in models:\n",
    "  print(type(model).__name__)\n",
    "  %timeit model.predict(X)"
   ]
  },
  {
   "cell_type": "code",
   "execution_count": 16,
   "metadata": {
    "id": "xT_q1ARwKycT"
   },
   "outputs": [
    {
     "name": "stdout",
     "output_type": "stream",
     "text": [
      "RandomForestClassifier roc_auc: 1.000 (0.000)\n",
      "ExtraTreesClassifier roc_auc: 1.000 (0.000)\n",
      "AdaBoostClassifier roc_auc: 0.989 (0.015)\n",
      "GradientBoostingClassifier roc_auc: 0.992 (0.012)\n",
      "XGBClassifier roc_auc: 0.989 (0.015)\n",
      "CatBoostClassifier roc_auc: 1.000 (0.000)\n",
      "LGBMClassifier roc_auc: 1.000 (0.000)\n"
     ]
    }
   ],
   "source": [
    "for model in models:\n",
    "  n_scores = cross_val_score(model, X, y, scoring='roc_auc', cv=3, n_jobs=-1)\n",
    "  print(f'{type(model).__name__} roc_auc: %.3f (%.3f)' % (mean(n_scores), std(n_scores)))"
   ]
  },
  {
   "cell_type": "code",
   "execution_count": null,
   "metadata": {},
   "outputs": [],
   "source": []
  }
 ],
 "metadata": {
  "colab": {
   "provenance": []
  },
  "kernelspec": {
   "display_name": "Python 3 (ipykernel)",
   "language": "python",
   "name": "python3"
  },
  "language_info": {
   "codemirror_mode": {
    "name": "ipython",
    "version": 3
   },
   "file_extension": ".py",
   "mimetype": "text/x-python",
   "name": "python",
   "nbconvert_exporter": "python",
   "pygments_lexer": "ipython3",
   "version": "3.8.10"
  }
 },
 "nbformat": 4,
 "nbformat_minor": 1
}
