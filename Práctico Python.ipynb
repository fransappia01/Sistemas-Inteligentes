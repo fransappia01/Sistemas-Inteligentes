{
 "cells": [
  {
   "cell_type": "markdown",
   "id": "941e8954",
   "metadata": {},
   "source": [
    "# Ejercicios de Tipos de Datos Simples\n",
    "\n",
    "0. Escribir un programa que muestre por pantalla la cadena ¡Hola Mundo!."
   ]
  },
  {
   "cell_type": "code",
   "execution_count": 1,
   "id": "9bbc1fd7",
   "metadata": {},
   "outputs": [
    {
     "name": "stdout",
     "output_type": "stream",
     "text": [
      "Hola Mundo\n"
     ]
    }
   ],
   "source": [
    "print('Hola Mundo')"
   ]
  },
  {
   "cell_type": "markdown",
   "id": "f0519f5c",
   "metadata": {},
   "source": [
    "1. Escribir un programa que pregunte el nombre del usuario en la consola y después de que el usuario lo introduzca muestre por pantalla la cadena ¡Hola <nombre>!, donde <nombre> es el nombre que el usuario haya introducido."
   ]
  },
  {
   "cell_type": "code",
   "execution_count": 3,
   "id": "65f9ab97",
   "metadata": {},
   "outputs": [
    {
     "name": "stdout",
     "output_type": "stream",
     "text": [
      "Hola Francisco\n"
     ]
    }
   ],
   "source": [
    "nombre = (input(\"Cual es tu nombre?\"))\n",
    "print(\"Hola \" + nombre)"
   ]
  },
  {
   "cell_type": "markdown",
   "id": "4ba0fe88",
   "metadata": {},
   "source": [
    "2. Escribir un programa que pregunte al usuario por el número de horas trabajadas y el coste por hora. Después debe mostrar por pantalla la paga que le corresponde."
   ]
  },
  {
   "cell_type": "code",
   "execution_count": 7,
   "id": "f5872dc8",
   "metadata": {},
   "outputs": [
    {
     "name": "stdout",
     "output_type": "stream",
     "text": [
      "Debe cobrar 15\n"
     ]
    }
   ],
   "source": [
    "horas = int(input(\"Cuantas horas trabajas?\"))\n",
    "costo = int(input(\"Cuanto cuesta la hora?\"))\n",
    "print(\"Debe cobrar \" + str(horas*costo))"
   ]
  },
  {
   "cell_type": "markdown",
   "id": "e0c3c4b8",
   "metadata": {},
   "source": [
    "3. Escribir un programa que lea un entero positivo, **n**, introducido por el usuario y después muestre en pantalla la suma de todos los enteros desde 1 hasta **n**. La suma de los **n** primeros enteros positivos puede ser calculada de la siguiente forma: $$ suma = \\frac{n(n+1)}{2}$$"
   ]
  },
  {
   "cell_type": "code",
   "execution_count": 14,
   "id": "b65acefb",
   "metadata": {},
   "outputs": [
    {
     "name": "stdout",
     "output_type": "stream",
     "text": [
      "La suma es  15.0\n"
     ]
    }
   ],
   "source": [
    "n = int(input(\"Escribir numero\"))\n",
    "def suma():\n",
    "    sumar=(n*(n+1)/2)\n",
    "    print(\"La suma es \",sumar)\n",
    "suma()\n"
   ]
  },
  {
   "cell_type": "markdown",
   "id": "37474619",
   "metadata": {},
   "source": [
    "4. Escribir un programa que pregunte al usuario una cantidad a invertir, el interés anual y el número de años, y muestre por pantalla el capital obtenido en la inversión."
   ]
  },
  {
   "cell_type": "code",
   "execution_count": 19,
   "id": "aa8524c9",
   "metadata": {},
   "outputs": [
    {
     "name": "stdout",
     "output_type": "stream",
     "text": [
      "El capital obtenido es:  2894.0625000000005\n"
     ]
    }
   ],
   "source": [
    "cant = float(input(\"Cuanto vas a invertir?\"))\n",
    "interes = float(input(\"Interes anual?\"))\n",
    "anios = int(input(\"Numero de años\"))\n",
    "\n",
    "capital = cant * (1 + interes / 100) ** anios\n",
    "\n",
    "print(\"El capital obtenido es: \", capital)\n"
   ]
  },
  {
   "cell_type": "markdown",
   "id": "77758fb5",
   "metadata": {},
   "source": [
    "5. Una juguetería tiene mucho éxito en dos de sus productos: payasos y muñecas. Suele hacer venta por correo y la empresa de logística les cobra por peso de cada paquete así que deben calcular el peso de los payasos y muñecas que saldrán en cada paquete a demanda. Cada payaso pesa 112 g y cada muñeca 75 g. Escribir un programa que lea el número de payasos y muñecas vendidos en el último pedido y calcule el peso total del paquete que será enviado."
   ]
  },
  {
   "cell_type": "code",
   "execution_count": 25,
   "id": "556a77e6",
   "metadata": {},
   "outputs": [
    {
     "name": "stdout",
     "output_type": "stream",
     "text": [
      "El peso total es: 785\n"
     ]
    }
   ],
   "source": [
    "\n",
    "payasos_cant = int(input(\"Cantidad de payasos\"))\n",
    "muniecas_cant = int(input(\"Cantidad de muñecas\"))\n",
    "\n",
    "peso_total = 112 * payasos_cant + 75 * muniecas_cant\n",
    "\n",
    "print(\"El peso total es: \" + str(peso_total))\n"
   ]
  },
  {
   "cell_type": "markdown",
   "id": "9bd44acd",
   "metadata": {},
   "source": [
    "6. Imagina que acabas de abrir una nueva cuenta de ahorros que te ofrece el 4% de interés al año. Estos ahorros debido a intereses, que no se cobran hasta finales de año, se te añaden al balance final de tu cuenta de ahorros. Escribir un programa que comience leyendo la cantidad de dinero depositada en la cuenta de ahorros, introducida por el usuario. Después el programa debe calcular y mostrar por pantalla la cantidad de ahorros tras el primer, segundo y tercer años. Redondear cada cantidad a dos decimales."
   ]
  },
  {
   "cell_type": "code",
   "execution_count": 31,
   "id": "10766284",
   "metadata": {},
   "outputs": [
    {
     "name": "stdout",
     "output_type": "stream",
     "text": [
      "La cantidad ahorrada es:  208.0\n",
      "La cantidad ahorrada es:  216.32\n",
      "La cantidad ahorrada es:  224.97\n"
     ]
    }
   ],
   "source": [
    "interes = 0.04\n",
    "cantidad = float(input(\"Ingrese cantidad de dinero depositada\"))\n",
    "\n",
    "for i in range(1,4):\n",
    "    ahorros = cantidad * (1 + interes) ** i\n",
    "    redondeo = round(ahorros, 2)\n",
    "    print(\"La cantidad ahorrada es: \", redondeo)\n"
   ]
  },
  {
   "cell_type": "markdown",
   "id": "6f64880a",
   "metadata": {},
   "source": [
    "7. Una panadería vende barras de pan a 3.49€ cada una. El pan que no es el día tiene un descuento del 60%. Escribir un programa que comience leyendo el número de barras vendidas que no son del día. Después el programa debe mostrar el precio habitual de una barra de pan, el descuento que se le hace por no ser fresca y el coste final total."
   ]
  },
  {
   "cell_type": "code",
   "execution_count": 41,
   "id": "70e081d4",
   "metadata": {},
   "outputs": [
    {
     "name": "stdout",
     "output_type": "stream",
     "text": [
      "El precio del pan es: 3.49\n",
      "El descuento que se hace es por no ser del dia es: 0.6\n",
      "El costo final total es:  27.92\n"
     ]
    }
   ],
   "source": [
    "pan = 3.49\n",
    "descuento = 0.6\n",
    "barras_vendidas = int(input(\"Cuantas barras que no son del dia se vendieron hoy?\"))\n",
    "\n",
    "costo_total = barras_vendidas * (pan * (1 - descuento))\n",
    "redondeo = round(costo_total,2)\n",
    "print(\"El precio del pan es: \" + str(pan))\n",
    "print(\"El descuento que se hace es por no ser del dia es: \" + str(descuento))\n",
    "print(\"El costo final total es: \", str(redondeo))"
   ]
  },
  {
   "cell_type": "markdown",
   "id": "7746f986",
   "metadata": {},
   "source": [
    "# Ejercicios de Condicionales\n",
    "\n",
    "0. Escribir un programa que pregunte al usuario su edad y muestre por pantalla si es mayor de edad o no."
   ]
  },
  {
   "cell_type": "code",
   "execution_count": 45,
   "id": "1f904a9a",
   "metadata": {},
   "outputs": [
    {
     "name": "stdout",
     "output_type": "stream",
     "text": [
      "Es mayor\n"
     ]
    }
   ],
   "source": [
    "edad = int(input(\"Cuantos anios tenes?\"))\n",
    "\n",
    "def mayor_de_edad():\n",
    "    if edad >= 18:\n",
    "        print(\"Es mayor\")\n",
    "    else:\n",
    "        print(\"Es menor\")\n",
    "\n",
    "mayor_de_edad()"
   ]
  },
  {
   "cell_type": "markdown",
   "id": "ba028cf3",
   "metadata": {},
   "source": [
    "1. En una determinada empresa, sus empleados son evaluados al final de cada año. Los puntos que pueden obtener en la evaluación comienzan en 0.0 y pueden ir aumentando, traduciéndose en mejores beneficios. Los puntos que pueden conseguir los empleados pueden ser 0.0, 0.4, 0.6 o más, pero no valores intermedios entre las cifras mencionadas. A continuación se muestra una tabla con los niveles correspondientes a cada puntuación. La cantidad de dinero conseguida en cada nivel es de 2.400€ multiplicada por la puntuación del nivel.\n",
    "\n",
    "| Nivel | Puntuación |\n",
    "| --- | --- |\n",
    "| Inaceptable | 0.0 |\n",
    "| Aceptable | 0.4 |\n",
    "| Meritorio | 0.6 o más |\n",
    "\n",
    "Escribir un programa que lea la puntuación del usuario e indique su nivel de rendimiento, así como la cantidad de dinero que recibirá el usuario."
   ]
  },
  {
   "cell_type": "code",
   "execution_count": 59,
   "id": "46ba98d2",
   "metadata": {},
   "outputs": [
    {
     "name": "stdout",
     "output_type": "stream",
     "text": [
      "Dinero:  960.0\n",
      "El nivel es:  Aceptable\n"
     ]
    }
   ],
   "source": [
    "puntos = float(input(\"Ingrese puntuacion\"))\n",
    "\n",
    "\n",
    "def puntos_validos():\n",
    "    if puntos not in [0.0, 0.4, 0.6]:\n",
    "        print(\"Puntuacion no valida\")\n",
    "\n",
    "if puntos == 0.0:\n",
    "    dinero = puntos * 2400\n",
    "    nivel = \"Inaceptable\"\n",
    "if puntos == 0.4:\n",
    "    dinero = puntos * 2400\n",
    "    nivel = \"Aceptable\"\n",
    "if puntos == 0.6:\n",
    "    dinero = puntos * 2400\n",
    "    nivel = \"Meritorio\"\n",
    "\n",
    "puntos_validos()\n",
    "print(\"Dinero: \", dinero)\n",
    "print(\"El nivel es: \", nivel)\n",
    "\n"
   ]
  },
  {
   "cell_type": "markdown",
   "id": "5ee09454",
   "metadata": {},
   "source": [
    "2. Escribir un programa para una empresa que tiene salas de juegos para todas las edades y quiere calcular de forma automática el precio que debe cobrar a sus clientes por entrar. El programa debe preguntar al usuario la edad del cliente y mostrar el precio de la entrada. Si el cliente es menor de 4 años puede entrar gratis, si tiene entre 4 y 18 años debe pagar 5€ y si es mayor de 18 años, 10€."
   ]
  },
  {
   "cell_type": "code",
   "execution_count": 63,
   "id": "a0dc2457",
   "metadata": {},
   "outputs": [
    {
     "name": "stdout",
     "output_type": "stream",
     "text": [
      "Entrada gratuita\n"
     ]
    }
   ],
   "source": [
    "edad = int(input(\"Ingresar edad\"))\n",
    "\n",
    "if edad < 4:\n",
    "    print(\"Entrada gratuita\")\n",
    "elif edad > 4 and edad <18:\n",
    "    print(\"Costo de entrada: 5 euros\")\n",
    "elif edad > 18:\n",
    "    print(\"Costo de entrada: 10 euros\")"
   ]
  },
  {
   "cell_type": "markdown",
   "id": "6b1400f2",
   "metadata": {},
   "source": [
    "3. La pizzería Bella Napoli ofrece pizzas vegetarianas y no vegetarianas a sus clientes. Los ingredientes para cada tipo de pizza aparecen a continuación.\n",
    "\n",
    "Ingredientes vegetarianos: Pimiento y tofu.\n",
    "Ingredientes no vegetarianos: Peperoni, Jamón y Salmón.\n",
    "Escribir un programa que pregunte al usuario si quiere una pizza vegetariana o no, y en función de su respuesta le muestre un menú con los ingredientes disponibles para que elija. Solo se puede eligir un ingrediente además de la mozzarella y el tomate que están en todas la pizzas. Al final se debe mostrar por pantalla si la pizza elegida es vegetariana o no y todos los ingredientes que lleva."
   ]
  },
  {
   "cell_type": "code",
   "execution_count": 1,
   "id": "fba5e03c",
   "metadata": {},
   "outputs": [
    {
     "name": "stdout",
     "output_type": "stream",
     "text": [
      "Hoy tenemos: Mozzarella, Tomate, Pimiento, Tofu, "
     ]
    }
   ],
   "source": [
    "tipo = input(\"Que tipo de pizza quiere? Vegetariana=1, No vegetariana= 2\")\n",
    "\n",
    "def menu_vegetariano(*platos):\n",
    "    print('Hoy tenemos: ', end='')\n",
    "    for plato in platos:\n",
    "        print(plato, end=', ')\n",
    "    return\n",
    "\n",
    "\n",
    "def menu_normal(*platos):\n",
    "    print('Hoy tenemos: ', end='')\n",
    "    for plato in platos:\n",
    "        print(plato, end=', ')\n",
    "    return\n",
    "\n",
    "\n",
    "if tipo == '1':\n",
    "   menu_vegetariano('Mozzarella', 'Tomate','Pimiento', 'Tofu')\n",
    "if tipo == '2':\n",
    "    menu_normal('Mozzarella', 'Tomate','Peperoni', 'Jamon', 'Salmon')"
   ]
  },
  {
   "cell_type": "markdown",
   "id": "6a9c0c7b",
   "metadata": {},
   "source": [
    "# Ejercicios de Bucles\n",
    "Realizar los ejercicios utilizando **for** y **while**\n",
    "\n",
    "0. Escribir un programa que pida al usuario una palabra y la muestre por pantalla 10 veces."
   ]
  },
  {
   "cell_type": "code",
   "execution_count": 1,
   "id": "9f57d8d9",
   "metadata": {},
   "outputs": [
    {
     "name": "stdout",
     "output_type": "stream",
     "text": [
      "hola\n",
      "hola\n",
      "hola\n",
      "hola\n",
      "hola\n",
      "hola\n",
      "hola\n",
      "hola\n",
      "hola\n",
      "hola\n"
     ]
    }
   ],
   "source": [
    "p = input(\"Introducir palabra\")\n",
    "\n",
    "for i in range(10):\n",
    "    print(p)\n",
    "    \n"
   ]
  },
  {
   "cell_type": "markdown",
   "id": "6f41451c",
   "metadata": {},
   "source": [
    "1. Escribir un programa que muestre por pantalla la tabla de multiplicar del 1 al 10."
   ]
  },
  {
   "cell_type": "code",
   "execution_count": 8,
   "id": "67cd29cc",
   "metadata": {},
   "outputs": [
    {
     "name": "stdout",
     "output_type": "stream",
     "text": [
      "Tabla del:  1\n",
      "1\n",
      "2\n",
      "3\n",
      "4\n",
      "5\n",
      "6\n",
      "7\n",
      "8\n",
      "9\n",
      "10\n",
      "Tabla del:  2\n",
      "2\n",
      "4\n",
      "6\n",
      "8\n",
      "10\n",
      "12\n",
      "14\n",
      "16\n",
      "18\n",
      "20\n",
      "Tabla del:  3\n",
      "3\n",
      "6\n",
      "9\n",
      "12\n",
      "15\n",
      "18\n",
      "21\n",
      "24\n",
      "27\n",
      "30\n",
      "Tabla del:  4\n",
      "4\n",
      "8\n",
      "12\n",
      "16\n",
      "20\n",
      "24\n",
      "28\n",
      "32\n",
      "36\n",
      "40\n",
      "Tabla del:  5\n",
      "5\n",
      "10\n",
      "15\n",
      "20\n",
      "25\n",
      "30\n",
      "35\n",
      "40\n",
      "45\n",
      "50\n",
      "Tabla del:  6\n",
      "6\n",
      "12\n",
      "18\n",
      "24\n",
      "30\n",
      "36\n",
      "42\n",
      "48\n",
      "54\n",
      "60\n",
      "Tabla del:  7\n",
      "7\n",
      "14\n",
      "21\n",
      "28\n",
      "35\n",
      "42\n",
      "49\n",
      "56\n",
      "63\n",
      "70\n",
      "Tabla del:  8\n",
      "8\n",
      "16\n",
      "24\n",
      "32\n",
      "40\n",
      "48\n",
      "56\n",
      "64\n",
      "72\n",
      "80\n",
      "Tabla del:  9\n",
      "9\n",
      "18\n",
      "27\n",
      "36\n",
      "45\n",
      "54\n",
      "63\n",
      "72\n",
      "81\n",
      "90\n",
      "Tabla del:  10\n",
      "10\n",
      "20\n",
      "30\n",
      "40\n",
      "50\n",
      "60\n",
      "70\n",
      "80\n",
      "90\n",
      "100\n"
     ]
    }
   ],
   "source": [
    "for i in range(1,11):\n",
    "    print(\"Tabla del: \", i)\n",
    "    for j in range(1,11):\n",
    "        r = i * j\n",
    "        #j = j + 1 #esto en python no hace falta\n",
    "        print(r)"
   ]
  },
  {
   "cell_type": "markdown",
   "id": "6dcbf56e",
   "metadata": {},
   "source": [
    "2. Escribir un programa en el que se pregunte al usuario por una frase y una letra, y muestre por pantalla el número de veces que aparece la letra en la frase."
   ]
  },
  {
   "cell_type": "code",
   "execution_count": 11,
   "id": "250caf3f",
   "metadata": {},
   "outputs": [
    {
     "name": "stdout",
     "output_type": "stream",
     "text": [
      "La cantidad de veces que se repite la letra  o es:  4\n"
     ]
    }
   ],
   "source": [
    "frase = input(\"Ingrese frase\")\n",
    "letra = input(\"Que letra quiere ver cuantas veces se repite?\")\n",
    "\n",
    "cont = 0\n",
    "for i in frase:\n",
    "    if i == letra:\n",
    "        cont = cont + 1\n",
    "print(\"La cantidad de veces que se repite la letra \", letra, \"es: \", cont)"
   ]
  },
  {
   "cell_type": "markdown",
   "id": "437b4a42",
   "metadata": {},
   "source": [
    "3. Escribir un programa que muestre el eco de todo lo que el usuario introduzca hasta que el usuario escriba “salir” que terminará."
   ]
  },
  {
   "cell_type": "code",
   "execution_count": 1,
   "id": "76a1b7a7",
   "metadata": {},
   "outputs": [
    {
     "name": "stdout",
     "output_type": "stream",
     "text": [
      "hola\n",
      "que\n",
      "tal\n",
      "salir\n"
     ]
    }
   ],
   "source": [
    "p = \" \"\n",
    "while(p!=\"salir\"):\n",
    "    p = input(\"Escribir lo que quieras\")\n",
    "    print(p)"
   ]
  },
  {
   "cell_type": "markdown",
   "id": "21dc00dd",
   "metadata": {},
   "source": [
    "# Ejercicios de Listas y Tuplas\n",
    "\n",
    "1. Escribir un programa que almacene las asignaturas de un curso (por ejemplo Matemáticas, Física, Química, Historia y Lengua) en una lista y la muestre por pantalla."
   ]
  },
  {
   "cell_type": "code",
   "execution_count": 7,
   "id": "f9714c83",
   "metadata": {},
   "outputs": [
    {
     "name": "stdout",
     "output_type": "stream",
     "text": [
      "Matemáticas\n",
      "Física\n",
      "Quimica\n",
      "Historia\n",
      "Lengua\n"
     ]
    }
   ],
   "source": [
    "materias = [\"Matemáticas\", \"Física\", \"Quimica\", \"Historia\", \"Lengua\"]\n",
    "\n",
    "for i in materias:\n",
    "    print(i)"
   ]
  },
  {
   "cell_type": "markdown",
   "id": "9dc8de65",
   "metadata": {},
   "source": [
    "2. Escribir un programa que almacene las asignaturas de un curso (por ejemplo Matemáticas, Física, Química, Historia y Lengua) en una lista y la muestre por pantalla el mensaje Yo estudio <asignatura>, donde <asignatura> es cada una de las asignaturas de la lista."
   ]
  },
  {
   "cell_type": "code",
   "execution_count": 8,
   "id": "7cff1152",
   "metadata": {},
   "outputs": [
    {
     "name": "stdout",
     "output_type": "stream",
     "text": [
      "Yo estudio:  Matemáticas\n",
      "Yo estudio:  Física\n",
      "Yo estudio:  Quimica\n",
      "Yo estudio:  Historia\n",
      "Yo estudio:  Lengua\n"
     ]
    }
   ],
   "source": [
    "materias = [\"Matemáticas\", \"Física\", \"Quimica\", \"Historia\", \"Lengua\"]\n",
    "\n",
    "for i in materias:\n",
    "    print(\"Yo estudio: \", i)\n",
    "    "
   ]
  },
  {
   "cell_type": "markdown",
   "id": "f3160dad",
   "metadata": {},
   "source": [
    "3. Escribir un programa que almacene las asignaturas de un curso (por ejemplo Matemáticas, Física, Química, Historia y Lengua) en una lista, pregunte al usuario la nota que ha sacado en cada asignatura, y después las muestre por pantalla con el mensaje En <asignatura> has sacado <nota> donde <asignatura> es cada una des las asignaturas de la lista y <nota> cada una de las correspondientes notas introducidas por el usuario."
   ]
  },
  {
   "cell_type": "code",
   "execution_count": 19,
   "id": "33826738",
   "metadata": {},
   "outputs": [
    {
     "name": "stdout",
     "output_type": "stream",
     "text": [
      "Nota en  Matemáticas :  5\n",
      "Nota en  Física :  8\n",
      "Nota en  Quimica :  7\n",
      "Nota en  Historia :  9\n",
      "Nota en  Lengua :  5\n"
     ]
    }
   ],
   "source": [
    "materias = [\"Matemáticas\", \"Física\", \"Quimica\", \"Historia\", \"Lengua\"]\n",
    "\n",
    "for i in materias:\n",
    "    nota = input(\"Que nota sacaste en \"+i+\"?\")\n",
    "    print(\"Nota en \",i,\": \",nota)"
   ]
  },
  {
   "cell_type": "markdown",
   "id": "dd72817d",
   "metadata": {},
   "source": [
    "4. Escribir un programa que pregunte al usuario los números ganadores de la lotería primitiva, los almacene en una lista y los muestre por pantalla ordenados de menor a mayor."
   ]
  },
  {
   "cell_type": "code",
   "execution_count": 26,
   "id": "625cb744",
   "metadata": {},
   "outputs": [
    {
     "name": "stdout",
     "output_type": "stream",
     "text": [
      "['2', '5', '7', '8']\n"
     ]
    }
   ],
   "source": [
    "lista = []\n",
    "for i in range(4):      #suponiendo que el numero de loteria esta formado por cuatro numeros\n",
    "    n = input(\"Ingrese numero ganador\")\n",
    "    lista.append(n)\n",
    "lista.sort()    \n",
    "print(lista)\n"
   ]
  },
  {
   "cell_type": "markdown",
   "id": "f47179e6",
   "metadata": {},
   "source": [
    "5. Escribir un programa que almacene en una lista los números del 1 al 10 y los muestre por pantalla en orden inverso separados por comas."
   ]
  },
  {
   "cell_type": "code",
   "execution_count": 29,
   "id": "e6bc38f3",
   "metadata": {},
   "outputs": [
    {
     "name": "stdout",
     "output_type": "stream",
     "text": [
      "10,9,8,7,6,5,4,3,2,1,"
     ]
    }
   ],
   "source": [
    "lista = list(range(1,11)) #con el range mas facil que escribir numero por numero\n",
    "\n",
    "lista.reverse()\n",
    "for i in lista:\n",
    "    print(i,end=',')\n",
    "\n"
   ]
  },
  {
   "cell_type": "markdown",
   "id": "4ca73a38",
   "metadata": {},
   "source": [
    "6. Escribir un programa que almacene las asignaturas de un curso (por ejemplo Matemáticas, Física, Química, Historia y Lengua) en una lista, pregunte al usuario la nota que ha sacado en cada asignatura y elimine de la lista las asignaturas aprobadas. Al final el programa debe mostrar por pantalla las asignaturas que el usuario tiene que repetir."
   ]
  },
  {
   "cell_type": "code",
   "execution_count": 9,
   "id": "4bc0f050",
   "metadata": {},
   "outputs": [
    {
     "name": "stdout",
     "output_type": "stream",
     "text": [
      "Nota en Matemáticas :  8\n",
      "Nota en Física :  5\n",
      "Nota en Quimica :  2\n",
      "Nota en Historia :  4\n",
      "Nota en Lengua :  9\n",
      "Las materias que tenes que repetir son:  ['Física', 'Quimica', 'Historia']\n"
     ]
    }
   ],
   "source": [
    "materias = [\"Matemáticas\", \"Física\", \"Quimica\", \"Historia\", \"Lengua\"]\n",
    "materias_repetir = []\n",
    "\n",
    "for i in materias:\n",
    "    nota = int(input(\"Que nota sacaste en \"+i+\"?\"))\n",
    "    print(\"Nota en\",i,\": \",nota)\n",
    "    if (nota<6):\n",
    "        materias_repetir.append(i)\n",
    "\n",
    "print(\"Las materias que tenes que repetir son: \", materias_repetir)\n"
   ]
  },
  {
   "cell_type": "markdown",
   "id": "e422be26",
   "metadata": {},
   "source": [
    "7. Escribir un programa que almacene el abecedario en una lista, elimine de la lista las letras que ocupen posiciones múltiplos de 3, y muestre por pantalla la lista resultante."
   ]
  },
  {
   "cell_type": "code",
   "execution_count": 37,
   "id": "f99b3cab",
   "metadata": {},
   "outputs": [
    {
     "name": "stdout",
     "output_type": "stream",
     "text": [
      "['a', 'b', 'd', 'e', 'g', 'h', 'j', 'k', 'm', 'n', 'p', 'q', 's', 't', 'v', 'w', 'y', 'z']\n"
     ]
    }
   ],
   "source": [
    "import string\n",
    "lista = list(string.ascii_lowercase)    #asi no tengo que escribir todas las letras del abecedario\n",
    "\n",
    "for i in reversed (range(len(lista))):  #si no la recorro al reves tengo problemas\n",
    "    if i % 3 == 2:                      # pongo ==2 asi mantengo las posiciones 0 y 1\n",
    "        lista.pop(i)\n",
    "print(lista)\n"
   ]
  },
  {
   "cell_type": "markdown",
   "id": "7b85561a",
   "metadata": {},
   "source": [
    "8. Escribir un programa que pida al usuario una palabra y muestre por pantalla si es un palíndromo."
   ]
  },
  {
   "cell_type": "code",
   "execution_count": 22,
   "id": "afaba32d",
   "metadata": {},
   "outputs": [
    {
     "name": "stdout",
     "output_type": "stream",
     "text": [
      "Es palindromo\n"
     ]
    }
   ],
   "source": [
    "palabra = input(\"Escribir palabra\")\n",
    "invertido =\"\"\n",
    "for i in reversed(palabra):\n",
    "    invertido = invertido + i\n",
    "\n",
    "if palabra == invertido:\n",
    "    print(\"Es palindromo\")\n",
    "else:\n",
    "    print(\"No es palindromo\")\n"
   ]
  },
  {
   "cell_type": "markdown",
   "id": "9a53e8de",
   "metadata": {},
   "source": [
    "9. Escribir un programa que pida al usuario una palabra y muestre por pantalla el número de veces que contiene cada vocal."
   ]
  },
  {
   "cell_type": "code",
   "execution_count": 49,
   "id": "b1dfc2e7",
   "metadata": {},
   "outputs": [
    {
     "name": "stdout",
     "output_type": "stream",
     "text": [
      "Esta palabra contiene la siguiente cantidad de vocales \n",
      "Cantidad de A:  2\n",
      "Cantidad de E:  1\n",
      "Cantidad de I:  0\n",
      "Cantidad de O:  3\n",
      "Cantidad de U:  0\n"
     ]
    }
   ],
   "source": [
    "p = input(\"Ingrese palabra\")\n",
    "contA=0\n",
    "contE=0\n",
    "contI=0\n",
    "contO=0\n",
    "contU=0\n",
    "\n",
    "for i in p:\n",
    "    if i == 'a':\n",
    "        contA+=1\n",
    "    if i == 'e':\n",
    "        contE+=1\n",
    "    if i == 'i':\n",
    "        contI+=1\n",
    "    if i == 'o':\n",
    "        contO+=1\n",
    "    if i == 'u':\n",
    "        contU+=1\n",
    "\n",
    "print(\"Esta palabra contiene la siguiente cantidad de vocales \")\n",
    "print(\"Cantidad de A: \", contA )\n",
    "print(\"Cantidad de E: \", contE )\n",
    "print(\"Cantidad de I: \", contI )\n",
    "print(\"Cantidad de O: \", contO )\n",
    "print(\"Cantidad de U: \", contU )\n"
   ]
  },
  {
   "cell_type": "markdown",
   "id": "55cdccd9",
   "metadata": {},
   "source": [
    "10. Escribir un programa que almacene en una lista los siguientes precios, 50, 75, 46, 22, 80, 65, 8, y muestre por pantalla el menor y el mayor de los precios."
   ]
  },
  {
   "cell_type": "code",
   "execution_count": 52,
   "id": "9451e30c",
   "metadata": {},
   "outputs": [
    {
     "name": "stdout",
     "output_type": "stream",
     "text": [
      "El maximo es:  80\n",
      "El minimo es:  8\n"
     ]
    }
   ],
   "source": [
    "lista = [50,75,46,22,80,65,8]\n",
    "minimo = min(lista)\n",
    "maximo = max(lista)\n",
    "\n",
    "print(\"El maximo es: \", maximo)\n",
    "print(\"El minimo es: \", minimo)"
   ]
  },
  {
   "cell_type": "markdown",
   "id": "8032a13d",
   "metadata": {},
   "source": [
    "11. Escribir un programa que almacene los vectores (1,2,3) y (-1,0,2) en dos listas y muestre por pantalla su producto escalar."
   ]
  },
  {
   "cell_type": "code",
   "execution_count": 1,
   "id": "7f82d37a",
   "metadata": {},
   "outputs": [
    {
     "name": "stdout",
     "output_type": "stream",
     "text": [
      "5\n"
     ]
    }
   ],
   "source": [
    "import numpy\n",
    "lista1 = (1,2,3)\n",
    "lista2 = (-1,0,2)\n",
    "\n",
    "p = numpy.dot(lista1,lista2)\n",
    "\n",
    "print(p)"
   ]
  },
  {
   "cell_type": "markdown",
   "id": "350472f1",
   "metadata": {},
   "source": [
    "12. Escribir un programa que almacene las matrices\n",
    "$$ A =\\left(\\begin{array}{cc} \n",
    "1 & 2 & 3\\\\\n",
    "4 & 5 & 6\n",
    "\\end{array}\\right)\n",
    "B = \\left(\\begin{array}{cc} \n",
    "-1 & 0\\\\ \n",
    "0 & 1\\\\ \n",
    "1 & 1\n",
    "\\end{array}\\right)\n",
    "$$\n",
    "en una lista y muestre por pantalla su producto.\n",
    "Nota: Para representar matrices mediante listas usar listas anidadas, representando cada vector fila en una lista."
   ]
  },
  {
   "cell_type": "code",
   "execution_count": null,
   "id": "8d318963",
   "metadata": {},
   "outputs": [],
   "source": []
  },
  {
   "cell_type": "markdown",
   "id": "d3871ff8",
   "metadata": {},
   "source": [
    "13. Escribir un programa que pregunte por una muestra de números, separados por comas, los guarde en una lista y muestre por pantalla su media y desviación típica."
   ]
  },
  {
   "cell_type": "code",
   "execution_count": 4,
   "id": "0d6bd494",
   "metadata": {},
   "outputs": [
    {
     "name": "stdout",
     "output_type": "stream",
     "text": [
      "La lista es [2, 4, 6, 8]\n",
      "Desviacion:  2.58\n",
      "Media:  5\n"
     ]
    }
   ],
   "source": [
    "import statistics\n",
    "\n",
    "lista = []\n",
    "cant = int(input(\"Que cantidad de numeros desea ingresar?\"))\n",
    "for i in range(cant):\n",
    "    n = int(input(\"Ingrese numero\"))\n",
    "    lista.append(n)\n",
    "\n",
    "desviacion = statistics.stdev(lista)\n",
    "desv_redondeado = round(desviacion,2)\n",
    "media = statistics.mean(lista)\n",
    "print(\"La lista es\", lista)\n",
    "print(\"Desviacion: \", desv_redondeado)\n",
    "print(\"Media: \", media)\n"
   ]
  },
  {
   "attachments": {},
   "cell_type": "markdown",
   "id": "27fa0945",
   "metadata": {},
   "source": [
    "# Ejercicios de Diccionarios\n",
    "\n",
    "1. Escribir un programa que guarde en una variable el diccionario `{'Euro':'€', 'Dollar':'$', 'Yen':'¥'}`, pregunte al usuario por una divisa y muestre su símbolo o un mensaje de aviso si la divisa no está en el diccionario.\n",
    "\n",
    "\n"
   ]
  },
  {
   "cell_type": "code",
   "execution_count": 74,
   "id": "ed37e281",
   "metadata": {},
   "outputs": [
    {
     "name": "stdout",
     "output_type": "stream",
     "text": [
      "El valor del Dollar es: $\n"
     ]
    }
   ],
   "source": [
    "monedas = {'Euro':'€', 'Dollar':'$', 'Yen':'¥'}\n",
    "\n",
    "divisa = input(\"Ingrese divisa\")\n",
    "\n",
    "if divisa in monedas:\n",
    "    print(\"El valor del \" +  divisa + \" es: \" + monedas[divisa])\n",
    "else:\n",
    "    print(\"La divisa no esta en el diccionario\")\n"
   ]
  },
  {
   "attachments": {},
   "cell_type": "markdown",
   "id": "888e57c3",
   "metadata": {},
   "source": [
    "2. Escribir un programa que guarde en un diccionario los precios de las frutas de la tabla, pregunte al usuario por una fruta, un número de kilos y muestre por pantalla el precio de ese número de kilos de fruta. Si la fruta no está en el diccionario debe mostrar un mensaje informando de ello.\n",
    "\n",
    "| Fruta | Precio |\n",
    "| --- | --- |\n",
    "| Plátano | 1.35 |\n",
    "| Manzana | 0.80 |\n",
    "| Pera | 0.85 |\n",
    "| Naranja | 0.70 |"
   ]
  },
  {
   "cell_type": "code",
   "execution_count": 79,
   "id": "b7a7efea",
   "metadata": {},
   "outputs": [
    {
     "name": "stdout",
     "output_type": "stream",
     "text": [
      "El precio es:  4.0\n"
     ]
    }
   ],
   "source": [
    "frutas = {'Platano':'1.35', 'Manzana':'0.80', 'Pera':'0.85', 'Naranja':'0.70'}\n",
    "\n",
    "fruta = input(\"Ingrese fruta\")\n",
    "peso = input(\"Ingrese kilos\")\n",
    "\n",
    "if fruta in frutas:\n",
    "    r = float(peso) * float(frutas[fruta])\n",
    "    print(\"El precio es: \", r)\n",
    "else:\n",
    "    print(\"La fruta no esta en el diccionario\")\n",
    "\n"
   ]
  },
  {
   "cell_type": "markdown",
   "id": "6b9f8757",
   "metadata": {},
   "source": [
    "3. Escribir un programa que cree un diccionario vacío y lo vaya llenado con información sobre una persona (por ejemplo nombre, edad, sexo, teléfono, correo electrónico, etc.) que se le pida al usuario. Cada vez que se añada un nuevo dato debe imprimirse el contenido del diccionario."
   ]
  },
  {
   "cell_type": "code",
   "execution_count": 2,
   "id": "b40cb7e7",
   "metadata": {},
   "outputs": [
    {
     "name": "stdout",
     "output_type": "stream",
     "text": [
      "fran\n",
      "22\n",
      "35123432\n"
     ]
    }
   ],
   "source": [
    "diccionario = {}\n",
    "\n",
    "nombre = input(\"Ingrese nombre\")\n",
    "diccionario[\"Nombre\"] = nombre\n",
    "print(nombre)\n",
    "\n",
    "edad = input(\"Ingrese edad\")\n",
    "diccionario[\"Edad\"] = edad\n",
    "print(edad)\n",
    "\n",
    "tel = input(\"Ingrese telefono\")\n",
    "diccionario[\"Telefono\"] = tel\n",
    "print(tel)\n",
    "\n"
   ]
  },
  {
   "cell_type": "markdown",
   "id": "846125b8",
   "metadata": {},
   "source": [
    "4. Escribir un programa que gestione las facturas pendientes de cobro de una empresa. Las facturas se almacenarán en un diccionario donde la clave de cada factura será el número de factura y el valor el coste de la factura. El programa debe preguntar al usuario si quiere añadir una nueva factura, pagar una existente o terminar. Si desea añadir una nueva factura se preguntará por el número de factura y su coste y se añadirá al diccionario. Si se desea pagar una factura se preguntará por el número de factura y se eliminará del diccionario. Después de cada operación el programa debe mostrar por pantalla la cantidad cobrada hasta el momento y la cantidad pendiente de cobro."
   ]
  },
  {
   "cell_type": "code",
   "execution_count": 46,
   "id": "656b3af3",
   "metadata": {},
   "outputs": [
    {
     "name": "stdout",
     "output_type": "stream",
     "text": [
      "Cantidad cobrada hasta el momento:  43\n"
     ]
    }
   ],
   "source": [
    "facturas = {'3':'24'}\n",
    "\n",
    "p = input(\"1: Añadir una nueva factura, 2: Pagar factura existente, 3: Terminar\")\n",
    "\n",
    "if p == '1':\n",
    "    nro = input(\"Cual es el numero de factura?\")\n",
    "    coste = int(input(\"Cual es su coste?\"))\n",
    "    facturas[nro] = coste\n",
    "    print(\"Cantidad cobrada hasta el momento: \", facturas[nro])\n",
    "\n",
    "if p == '2':\n",
    "    nro = input(\"Cual es el numero de factura?\")\n",
    "    if nro in facturas:\n",
    "        coste = facturas.pop(nro)\n",
    "    print(\"Cantidad cobrada hasta el momento: \", sum(facturas.values()))\n",
    "\n",
    "if p == '3':\n",
    "    print(\"Programa cerrado\")\n",
    "\n"
   ]
  },
  {
   "cell_type": "markdown",
   "id": "375ac7fc",
   "metadata": {},
   "source": [
    "5. El directorio de los clientes de una empresa está organizado en una cadena de texto como la de más abajo, donde cada línea contiene la información del nombre, email, teléfono, nif, y el descuento que se le aplica. Las líneas se separan con el carácter de cambio de línea \\n y la primera línea contiene los nombres de los campos con la información contenida en el directorio.\n",
    "\n",
    "`\"nif;nombre;email;teléfono;descuento\\n01234567L;Luis González;luisgonzalez@mail.com;656343576;12.5\\n71476342J;Macarena Ramírez;macarena@mail.com;692839321;8\\n63823376M;Juan José Martínez;juanjo@mail.com;664888233;5.2\\n98376547F;Carmen Sánchez;carmen@mail.com;667677855;15.7\"`\n",
    "\n",
    "Escribir un programa que genere un diccionario con la información del directorio, donde cada elemento corresponda a un cliente y tenga por clave su nif y por valor otro diccionario con el resto de la información del cliente. Los diccionarios con la información de cada cliente tendrán como claves los nombres de los campos y como valores la información de cada cliente correspondientes a los campos. Es decir, un diccionario como el siguiente\n",
    "\n",
    "`{'01234567L': {'nombre': 'Luis González', 'email': 'luisgonzalez@mail.com', 'teléfono': '656343576', 'descuento': 12.5}, '71476342J': {'nombre': 'Macarena Ramírez', 'email': 'macarena@mail.com', 'teléfono': '692839321', 'descuento': 8.0}, '63823376M': {'nombre': 'Juan José Martínez', 'email': 'juanjo@mail.com', 'teléfono': '664888233', 'descuento': 5.2}, '98376547F': {'nombre': 'Carmen Sánchez', 'email': 'carmen@mail.com', 'teléfono': '667677855', 'descuento': 15.7}}`"
   ]
  },
  {
   "cell_type": "markdown",
   "id": "63e74656",
   "metadata": {},
   "source": [
    "# Ejercicios de Funciones\n",
    "1. Escribir una función a la que se le pase una cadena `<nombre>` y muestre por pantalla el saludo ¡hola `<nombre>`!."
   ]
  },
  {
   "cell_type": "code",
   "execution_count": 46,
   "id": "2dd2c638",
   "metadata": {},
   "outputs": [
    {
     "name": "stdout",
     "output_type": "stream",
     "text": [
      "Hola fran\n"
     ]
    }
   ],
   "source": [
    "def funcion_nombre():\n",
    "    string = \" \"\n",
    "    print(\"Hola \"+ n)\n",
    "\n",
    "n = input(\"Cual es tu nombre\")\n",
    "funcion_nombre()"
   ]
  },
  {
   "cell_type": "markdown",
   "id": "722b0a26",
   "metadata": {},
   "source": [
    "2. Escribir una función que reciba un número entero positivo y devuelva su factorial."
   ]
  },
  {
   "cell_type": "code",
   "execution_count": 10,
   "id": "4267cf24",
   "metadata": {},
   "outputs": [
    {
     "name": "stdout",
     "output_type": "stream",
     "text": [
      "El factorial de  4 es:  24\n"
     ]
    }
   ],
   "source": [
    "import math\n",
    "\n",
    "def fact():\n",
    "    factorial = math.factorial(n)\n",
    "    print(\"El factorial de \" , n, \"es: \" , factorial)\n",
    "\n",
    "n = int(input(\"Ingrese numero\"))\n",
    "fact()"
   ]
  },
  {
   "cell_type": "markdown",
   "id": "47d396f8",
   "metadata": {},
   "source": [
    "3. Escribir una función que calcule el total de una factura tras aplicarle el IVA. La función debe recibir la cantidad sin IVA y el porcentaje de IVA a aplicar, y devolver el total de la factura. Si se invoca la función sin pasarle el porcentaje de IVA, deberá aplicar un 21%."
   ]
  },
  {
   "cell_type": "code",
   "execution_count": 6,
   "id": "5b1d3403",
   "metadata": {},
   "outputs": [
    {
     "name": "stdout",
     "output_type": "stream",
     "text": [
      "60.5\n"
     ]
    }
   ],
   "source": [
    "def funcion_iva(cant,porcentaje: float = 21):\n",
    "    iva = cant * float((porcentaje/100))\n",
    "    total = cant + iva\n",
    "    return total\n",
    "\n",
    "n = float(input(\"Ingrese cantidad sin IVA\"))\n",
    "v = (input(\"Ingrese porcentaje del IVA\"))\n",
    "\n",
    "if v == '':\n",
    "    r = funcion_iva(n)\n",
    "else:\n",
    "    r = funcion_iva(n,float(v))\n",
    "print(r)\n"
   ]
  },
  {
   "cell_type": "markdown",
   "id": "2adda5aa",
   "metadata": {},
   "source": [
    "4. Escribir una función que calcule el área de un círculo y otra que calcule el volumen de un cilindro usando la primera función."
   ]
  },
  {
   "cell_type": "code",
   "execution_count": null,
   "id": "1ea2788a",
   "metadata": {},
   "outputs": [],
   "source": []
  },
  {
   "cell_type": "markdown",
   "id": "8399cb23",
   "metadata": {},
   "source": [
    "5. Escribir una función que reciba una muestra de números en una lista y devuelva su media."
   ]
  },
  {
   "cell_type": "code",
   "execution_count": 6,
   "id": "cf3fa76b",
   "metadata": {},
   "outputs": [
    {
     "name": "stdout",
     "output_type": "stream",
     "text": [
      "4.5\n"
     ]
    }
   ],
   "source": [
    "import statistics\n",
    "lista = [1,2,3,4,5,6,7,8]\n",
    "\n",
    "def media():\n",
    "    promedio = statistics.mean(lista)  #mean es la funcion promedio y utiliza la libreria statistics\n",
    "    print(promedio)\n",
    "\n",
    "media()"
   ]
  },
  {
   "cell_type": "markdown",
   "id": "0549988a",
   "metadata": {},
   "source": [
    "6. Escribir una función que reciba una muestra de números en una lista y devuelva otra lista con sus cuadrados."
   ]
  },
  {
   "cell_type": "code",
   "execution_count": 8,
   "id": "296a235c",
   "metadata": {},
   "outputs": [
    {
     "name": "stdout",
     "output_type": "stream",
     "text": [
      "1\n",
      "4\n",
      "9\n",
      "16\n"
     ]
    }
   ],
   "source": [
    "import statistics\n",
    "lista = [1,2,3,4]\n",
    "\n",
    "def elevar_al_cuadrado(): \n",
    "    cuadrado = i**2\n",
    "    print(cuadrado)\n",
    "\n",
    "for i in lista:\n",
    "    elevar_al_cuadrado()"
   ]
  },
  {
   "cell_type": "markdown",
   "id": "957f415a",
   "metadata": {},
   "source": [
    "7. Escribir una función que reciba una muestra de números en una lista y devuelva un diccionario con su media, varianza y desviación típica."
   ]
  },
  {
   "cell_type": "code",
   "execution_count": null,
   "id": "7d18dd65",
   "metadata": {},
   "outputs": [],
   "source": []
  },
  {
   "cell_type": "markdown",
   "id": "a398d9f2",
   "metadata": {},
   "source": [
    "8. Escribir una función que calcule el máximo común divisor de dos números y otra que calcule el mínimo común múltiplo."
   ]
  },
  {
   "cell_type": "code",
   "execution_count": null,
   "id": "5d4145e8",
   "metadata": {},
   "outputs": [],
   "source": []
  },
  {
   "cell_type": "markdown",
   "id": "dd92251a",
   "metadata": {},
   "source": [
    "9. Escribir una función que convierta un número decimal en binario y otra que convierta un número binario en decimal."
   ]
  },
  {
   "cell_type": "code",
   "execution_count": null,
   "id": "65361ad8",
   "metadata": {},
   "outputs": [],
   "source": []
  },
  {
   "cell_type": "markdown",
   "id": "31f0a4da",
   "metadata": {},
   "source": [
    "10. Escribir un programa que reciba una cadena de caracteres y devuelva un diccionario con cada palabra que contiene y su frecuencia. Escribir otra función que reciba el diccionario generado con la función anterior y devuelva una tupla con la palabra más repetida y su frecuencia."
   ]
  },
  {
   "cell_type": "code",
   "execution_count": null,
   "id": "01eb5cd3",
   "metadata": {},
   "outputs": [],
   "source": []
  },
  {
   "cell_type": "code",
   "execution_count": null,
   "id": "38c3f055",
   "metadata": {},
   "outputs": [],
   "source": []
  }
 ],
 "metadata": {
  "kernelspec": {
   "display_name": "Python 3 (ipykernel)",
   "language": "python",
   "name": "python3"
  },
  "language_info": {
   "codemirror_mode": {
    "name": "ipython",
    "version": 3
   },
   "file_extension": ".py",
   "mimetype": "text/x-python",
   "name": "python",
   "nbconvert_exporter": "python",
   "pygments_lexer": "ipython3",
   "version": "3.8.10"
  }
 },
 "nbformat": 4,
 "nbformat_minor": 5
}
