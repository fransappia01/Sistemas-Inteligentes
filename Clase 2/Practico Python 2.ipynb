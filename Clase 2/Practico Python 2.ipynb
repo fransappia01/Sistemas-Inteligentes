{
 "cells": [
  {
   "cell_type": "markdown",
   "id": "f18c19ba",
   "metadata": {},
   "source": [
    "# Ejercicios de la librería Numpy"
   ]
  },
  {
   "cell_type": "markdown",
   "id": "b3d7bf77",
   "metadata": {},
   "source": [
    "0. Importa la librería numpy como np"
   ]
  },
  {
   "cell_type": "code",
   "execution_count": null,
   "id": "1139c094",
   "metadata": {},
   "outputs": [],
   "source": [
    "import numpy as np"
   ]
  },
  {
   "cell_type": "markdown",
   "id": "8d9f00fc",
   "metadata": {},
   "source": [
    "1. Crear un arreglo de 10 ceros"
   ]
  },
  {
   "cell_type": "code",
   "execution_count": 3,
   "id": "ce695036",
   "metadata": {},
   "outputs": [
    {
     "name": "stdout",
     "output_type": "stream",
     "text": [
      "[0. 0. 0. 0. 0. 0. 0. 0. 0. 0.]\n"
     ]
    }
   ],
   "source": [
    "import numpy as np\n",
    "\n",
    "print(np.zeros(10))"
   ]
  },
  {
   "cell_type": "markdown",
   "id": "36202490",
   "metadata": {},
   "source": [
    "2. Crear un arreglo de 10 unos"
   ]
  },
  {
   "cell_type": "code",
   "execution_count": 4,
   "id": "cb0fa882",
   "metadata": {},
   "outputs": [
    {
     "name": "stdout",
     "output_type": "stream",
     "text": [
      "[1. 1. 1. 1. 1. 1. 1. 1. 1. 1.]\n"
     ]
    }
   ],
   "source": [
    "import numpy as np\n",
    "\n",
    "print(np.ones(10))"
   ]
  },
  {
   "cell_type": "markdown",
   "id": "a4702127",
   "metadata": {},
   "source": [
    "3. Crear un arreglo de 10 cincos"
   ]
  },
  {
   "cell_type": "code",
   "execution_count": 5,
   "id": "2b029774",
   "metadata": {},
   "outputs": [
    {
     "name": "stdout",
     "output_type": "stream",
     "text": [
      "[5 5 5 5 5 5 5 5 5 5]\n"
     ]
    }
   ],
   "source": [
    "import numpy as np\n",
    "\n",
    "print(np.full(10,5))"
   ]
  },
  {
   "cell_type": "markdown",
   "id": "4bbcf3e9",
   "metadata": {},
   "source": [
    "4. Crear un arreglo con todos los numeros pares del 10 al 50"
   ]
  },
  {
   "cell_type": "code",
   "execution_count": 7,
   "id": "0d775739",
   "metadata": {},
   "outputs": [
    {
     "name": "stdout",
     "output_type": "stream",
     "text": [
      "[10 12 14 16 18 20 22 24 26 28 30 32 34 36 38 40 42 44 46 48]\n"
     ]
    }
   ],
   "source": [
    "import numpy as np\n",
    "\n",
    "print(np.arange(10,50,2))"
   ]
  },
  {
   "cell_type": "markdown",
   "id": "f946f661",
   "metadata": {},
   "source": [
    "5. Crear una matriz 3x3 con valores del 0 al 8"
   ]
  },
  {
   "cell_type": "code",
   "execution_count": 10,
   "id": "39e6d1f8",
   "metadata": {},
   "outputs": [
    {
     "name": "stdout",
     "output_type": "stream",
     "text": [
      "[[0 1 2]\n",
      " [3 4 5]\n",
      " [6 7 8]]\n"
     ]
    }
   ],
   "source": [
    "import numpy as np\n",
    "\n",
    "m = np.array([[0,1,2],[3,4,5],[6,7,8]])\n",
    "\n",
    "print(m)"
   ]
  },
  {
   "cell_type": "markdown",
   "id": "193e929c",
   "metadata": {},
   "source": [
    "6. Crear una matriz de identidad de 3x3"
   ]
  },
  {
   "cell_type": "code",
   "execution_count": 11,
   "id": "43dd48cd",
   "metadata": {},
   "outputs": [
    {
     "name": "stdout",
     "output_type": "stream",
     "text": [
      "[[1. 0. 0.]\n",
      " [0. 1. 0.]\n",
      " [0. 0. 1.]]\n"
     ]
    }
   ],
   "source": [
    "import numpy as np\n",
    "\n",
    "print(np.identity(3))"
   ]
  },
  {
   "cell_type": "markdown",
   "id": "f70bb7f5",
   "metadata": {},
   "source": [
    "7. Utilizar numpy para geneara un numero aleatorio entre 0 y 1"
   ]
  },
  {
   "cell_type": "code",
   "execution_count": 23,
   "id": "6c2f453b",
   "metadata": {},
   "outputs": [
    {
     "name": "stdout",
     "output_type": "stream",
     "text": [
      "[0.49846318]\n"
     ]
    }
   ],
   "source": [
    "import numpy as np\n",
    "\n",
    "\n",
    "print(np.random.random(1))"
   ]
  },
  {
   "cell_type": "markdown",
   "id": "078b2077",
   "metadata": {},
   "source": [
    "8. Utilizar numpy para generar un arreglo de 25 numeros aleatorioas con una distribucion normal"
   ]
  },
  {
   "cell_type": "code",
   "execution_count": 27,
   "id": "a037ec6c",
   "metadata": {},
   "outputs": [
    {
     "name": "stdout",
     "output_type": "stream",
     "text": [
      "[-0.7764684  -0.85224151  0.61728901  1.80756637  1.26374407  0.14008713\n",
      "  0.39682123  1.17678026  1.52784737  0.16317999 -1.22881327  0.0033783\n",
      " -1.60394622  0.91013116 -0.58159204  0.12716746 -0.02210578 -0.44139044\n",
      "  0.9679164   0.00828552 -0.20799608 -0.85885108  0.82409207  0.27162648\n",
      "  0.65779984]\n"
     ]
    }
   ],
   "source": [
    "import numpy as np\n",
    "\n",
    "print(np.random.normal(0,1,25))"
   ]
  },
  {
   "cell_type": "markdown",
   "id": "d1f52017",
   "metadata": {},
   "source": [
    "9. Crear la siguiente matriz"
   ]
  },
  {
   "cell_type": "code",
   "execution_count": null,
   "id": "392aa2ab",
   "metadata": {},
   "outputs": [],
   "source": [
    "#no hacer"
   ]
  },
  {
   "cell_type": "markdown",
   "id": "b0f22aad",
   "metadata": {},
   "source": [
    "10. Crear un arreglo de 20 valores lineales entre 0 y 1"
   ]
  },
  {
   "cell_type": "code",
   "execution_count": 29,
   "id": "6ec57513",
   "metadata": {},
   "outputs": [
    {
     "name": "stdout",
     "output_type": "stream",
     "text": [
      "[0.         0.05263158 0.10526316 0.15789474 0.21052632 0.26315789\n",
      " 0.31578947 0.36842105 0.42105263 0.47368421 0.52631579 0.57894737\n",
      " 0.63157895 0.68421053 0.73684211 0.78947368 0.84210526 0.89473684\n",
      " 0.94736842 1.        ]\n"
     ]
    }
   ],
   "source": [
    "import numpy as np\n",
    "\n",
    "print(np.linspace(0,1,20))"
   ]
  },
  {
   "cell_type": "markdown",
   "id": "867225d0",
   "metadata": {},
   "source": [
    "### Seleccion e indices de Numpy\n",
    "11. Se te daran varias matrices, se te pide replicar el resultado"
   ]
  },
  {
   "cell_type": "code",
   "execution_count": 2,
   "id": "ed7d3e0e",
   "metadata": {},
   "outputs": [
    {
     "data": {
      "text/plain": [
       "array([[ 1,  2,  3,  4,  5],\n",
       "       [ 6,  7,  8,  9, 10],\n",
       "       [11, 12, 13, 14, 15],\n",
       "       [16, 17, 18, 19, 20],\n",
       "       [21, 22, 23, 24, 25]])"
      ]
     },
     "execution_count": 2,
     "metadata": {},
     "output_type": "execute_result"
    }
   ],
   "source": [
    "import numpy as np\n",
    "mat = np.arange(1,26).reshape(5,5)\n",
    "mat"
   ]
  },
  {
   "cell_type": "raw",
   "id": "e0829c57",
   "metadata": {},
   "source": [
    "# escribe el codigo que permite reproducir el siguiente resultado\n",
    "# se cuidadoso al momento de correr el codigo,\n",
    "# ya que podrias borrar el resultado\n",
    "array([[12, 13, 14, 15],\n",
    "       [17, 18, 19, 20],\n",
    "       [22, 23, 24, 25]])"
   ]
  },
  {
   "cell_type": "code",
   "execution_count": 48,
   "id": "a6037f29",
   "metadata": {},
   "outputs": [
    {
     "data": {
      "text/plain": [
       "array([[12, 13, 14, 15],\n",
       "       [17, 18, 19, 20],\n",
       "       [22, 23, 24, 25]])"
      ]
     },
     "execution_count": 48,
     "metadata": {},
     "output_type": "execute_result"
    }
   ],
   "source": [
    "import numpy as np\n",
    "\n",
    "mat1 = np.arange(12,16)\n",
    "mat2 = np.arange(17,21)\n",
    "mat3 = np.arange(22,26)\n",
    "\n",
    "mats = (np.concatenate([mat1,mat2,mat3]))\n",
    "\n",
    "mats.reshape(3,4)"
   ]
  },
  {
   "cell_type": "raw",
   "id": "914db3ab",
   "metadata": {},
   "source": [
    "# escribe el codigo que permite reproducir el siguiente resultado\n",
    "# se cuidadoso al momento de correr el codigo,\n",
    "# ya que podrias borrar el resultado\n",
    "20"
   ]
  },
  {
   "cell_type": "code",
   "execution_count": 53,
   "id": "1c74fa1b",
   "metadata": {},
   "outputs": [
    {
     "name": "stdout",
     "output_type": "stream",
     "text": [
      "20\n"
     ]
    }
   ],
   "source": [
    "import numpy as np\n",
    "\n",
    "a = np.array([[15,16,17], [18,19,20]])\n",
    "print(a[1, 2])"
   ]
  },
  {
   "cell_type": "raw",
   "id": "fbd8acb6",
   "metadata": {},
   "source": [
    "# escribe el codigo que permite reproducir el siguiente resultado\n",
    "# se cuidadoso al momento de correr el codigo,\n",
    "# ya que podrias borrar el resultado\n",
    "array([[ 2],\n",
    "       [ 7],\n",
    "       [12]])"
   ]
  },
  {
   "cell_type": "code",
   "execution_count": 58,
   "id": "1c1154d0",
   "metadata": {},
   "outputs": [
    {
     "data": {
      "text/plain": [
       "array([[ 2],\n",
       "       [ 7],\n",
       "       [12]])"
      ]
     },
     "execution_count": 58,
     "metadata": {},
     "output_type": "execute_result"
    }
   ],
   "source": [
    "import numpy as np\n",
    "\n",
    "a = np.arange(2,13,5)\n",
    "\n",
    "\n",
    "a.reshape(3,1)\n"
   ]
  },
  {
   "cell_type": "raw",
   "id": "7017a1c2",
   "metadata": {},
   "source": [
    "# escribe el codigo que permite reproducir el siguiente resultado\n",
    "# se cuidadoso al momento de correr el codigo,\n",
    "# ya que podrias borrar el resultado\n",
    "array([21, 22, 23, 24, 25])"
   ]
  },
  {
   "cell_type": "code",
   "execution_count": 59,
   "id": "25a165f7",
   "metadata": {},
   "outputs": [
    {
     "data": {
      "text/plain": [
       "array([[21, 22, 23, 24, 25]])"
      ]
     },
     "execution_count": 59,
     "metadata": {},
     "output_type": "execute_result"
    }
   ],
   "source": [
    "import numpy as np\n",
    "\n",
    "a = np.arange(21,26)\n",
    "\n",
    "a.reshape(1,5)"
   ]
  },
  {
   "cell_type": "raw",
   "id": "900394dd",
   "metadata": {},
   "source": [
    "# escribe el codigo que permite reproducir el siguiente resultado\n",
    "# se cuidadoso al momento de correr el codigo,\n",
    "# ya que podrias borrar el resultado\n",
    "array([[16, 17, 18, 19, 20],\n",
    "       [21, 22, 23, 24, 25]])"
   ]
  },
  {
   "cell_type": "code",
   "execution_count": 61,
   "id": "eb50080e",
   "metadata": {},
   "outputs": [
    {
     "data": {
      "text/plain": [
       "array([[16, 17, 18, 19, 20],\n",
       "       [21, 22, 23, 24, 25]])"
      ]
     },
     "execution_count": 61,
     "metadata": {},
     "output_type": "execute_result"
    }
   ],
   "source": [
    "import numpy as np\n",
    "\n",
    "a = np.arange(16,26)\n",
    "\n",
    "a.reshape(2,5)"
   ]
  },
  {
   "cell_type": "markdown",
   "id": "e1abd9d3",
   "metadata": {},
   "source": [
    "Luego continua con:\n",
    "- Obten la suma de los valores de `mat`\n",
    "- Obten la desviacion estandar de los valores de `mat`\n",
    "- Obten la suma de las columnas de los valores de `mat`"
   ]
  },
  {
   "cell_type": "code",
   "execution_count": 66,
   "id": "66ced130",
   "metadata": {},
   "outputs": [
    {
     "name": "stdout",
     "output_type": "stream",
     "text": [
      "325\n",
      "7.211102550927978\n",
      "[55 60 65 70 75]\n"
     ]
    }
   ],
   "source": [
    "import numpy as np\n",
    "\n",
    "mat = np.arange(1,26).reshape(5,5)\n",
    "mat\n",
    "\n",
    "print(mat.sum())\n",
    "print(mat.std())\n",
    "print(mat.sum(0)) #axis 0 suma columnas, axis 1 suma filas"
   ]
  },
  {
   "cell_type": "markdown",
   "id": "27c11759",
   "metadata": {},
   "source": [
    "# Ejercicios de la Librería Pandas\n",
    "\n",
    "1. Escribir un programa que pregunte al usuario por las ventas de un rango de años y muestre por pantalla una serie con los datos de las ventas indexada por los años, antes y después de aplicarles un descuento del 10%."
   ]
  },
  {
   "cell_type": "code",
   "execution_count": 28,
   "id": "89fdc082",
   "metadata": {},
   "outputs": [
    {
     "name": "stderr",
     "output_type": "stream",
     "text": [
      "/tmp/ipykernel_5299/1893468687.py:4: FutureWarning: The default dtype for empty Series will be 'object' instead of 'float64' in a future version. Specify a dtype explicitly to silence this warning.\n",
      "  v = pd.Series(index=range(1,6))\n"
     ]
    },
    {
     "name": "stdout",
     "output_type": "stream",
     "text": [
      "Ventas\n",
      "1     5.0\n",
      "2     8.0\n",
      "3    77.0\n",
      "4     5.0\n",
      "5     8.0\n",
      "dtype: float64\n",
      "Ventas con descuento\n",
      "1     4.5\n",
      "2     7.2\n",
      "3    69.3\n",
      "4     4.5\n",
      "5     7.2\n",
      "dtype: float64\n"
     ]
    }
   ],
   "source": [
    "import pandas as pd\n",
    "\n",
    "def calcular_ventas():\n",
    "    v = pd.Series(index=range(1,6))\n",
    "    for i in v.index:\n",
    "        v[i] = float(input(\"Ingrese ventas para el anio \"+str(i)))\n",
    "    return v\n",
    "\n",
    "def aplicar_descuento(v):\n",
    "    return v*0.9\n",
    "\n",
    "v = calcular_ventas()\n",
    "v_descuento = aplicar_descuento(v)\n",
    "print(\"Ventas\")\n",
    "print(v)\n",
    "print(\"Ventas con descuento\")   #para mostrar los resultados en una tablita uso DataFrame\n",
    "print(v_descuento)\n",
    "\n",
    "\n",
    "\n"
   ]
  },
  {
   "cell_type": "markdown",
   "id": "23f3348d",
   "metadata": {},
   "source": [
    "2. Escribir una función que reciba un diccionario con las notas de los alumno de un curso y devuelva una serie con la nota mínima, la máxima, media y la desviación típica."
   ]
  },
  {
   "cell_type": "code",
   "execution_count": 68,
   "id": "3b732055",
   "metadata": {},
   "outputs": [
    {
     "data": {
      "text/plain": [
       "Nota Minima          3.80\n",
       "Nota Maxima          9.50\n",
       "Media                7.46\n",
       "Desviacion tipica    2.53\n",
       "dtype: float64"
      ]
     },
     "execution_count": 68,
     "metadata": {},
     "output_type": "execute_result"
    }
   ],
   "source": [
    "import pandas as pd\n",
    "s = pd.Series({'Francisco':9.50, 'Pedro':3.80, 'Martin':7.85, 'Jose':8.70})\n",
    "\n",
    "def calculo_notas():\n",
    "    #print(s)\n",
    "   \n",
    "    nota_min = round(s.min(), 2)\n",
    "    nota_max =  round(s.max(),2)    #para redonear el maximo tuve que redonear todas las funciones(min,media,std)\n",
    "    media = round(s.mean(),2)\n",
    "    desv = round(s.std(),2)\n",
    "    serie = pd.Series({'Nota Minima': nota_min,'Nota Maxima': nota_max,'Media': media, 'Desviacion tipica': desv})\n",
    "    return serie\n",
    "\n",
    "calculo_notas()"
   ]
  },
  {
   "cell_type": "markdown",
   "id": "b6e22e24",
   "metadata": {},
   "source": [
    "3. Escribir una función que reciba un diccionario con las notas de los alumnos de un curso y devuelva una serie con las notas de los alumnos aprobados ordenadas de mayor a menor."
   ]
  },
  {
   "cell_type": "code",
   "execution_count": 75,
   "id": "3857c547",
   "metadata": {},
   "outputs": [
    {
     "name": "stdout",
     "output_type": "stream",
     "text": [
      "Francisco    9.50\n",
      "Jose         8.70\n",
      "Martin       7.85\n",
      "dtype: float64\n"
     ]
    }
   ],
   "source": [
    "import pandas as pd\n",
    "s = pd.Series({'Francisco':9.50, 'Pedro':3.80, 'Martin':7.85, 'Jose':8.70})\n",
    "\n",
    "def aprobados():\n",
    "    ap = (s[s>6])\n",
    "    print(ap.sort_values(ascending = False))\n",
    "\n",
    "aprobados()"
   ]
  },
  {
   "cell_type": "markdown",
   "id": "cf644f18",
   "metadata": {},
   "source": [
    "4. Escribir programa que genere y muestre por pantalla un DataFrame con los datos de la tabla siguiente:\n",
    "\n",
    "| Mes | Ventas | Gastos |\n",
    "| --- | --- | --- |\n",
    "| Enero | 30500 | 22000 |\n",
    "| Febrero | 35600 | 23400 |\n",
    "| Marzo | 28300 | 18100 |\n",
    "| Abril | 33900 | 20700 |"
   ]
  },
  {
   "cell_type": "code",
   "execution_count": 1,
   "id": "244204fb",
   "metadata": {},
   "outputs": [
    {
     "name": "stdout",
     "output_type": "stream",
     "text": [
      "       Mes  Ventas  Gastos\n",
      "0    Enero   30500   22000\n",
      "1  Febrero   35600   23400\n",
      "2    Marzo   28300   18100\n",
      "3    Abril   33900   20700\n"
     ]
    }
   ],
   "source": [
    "import pandas as pd\n",
    "datos = {'Mes':['Enero', 'Febrero', 'Marzo', 'Abril'],\n",
    "         'Ventas':[30500,35600,28300,33900],\n",
    "         'Gastos':[22000,23400,18100,20700]\n",
    "        }\n",
    "df = pd.DataFrame(datos)\n",
    "print(df)"
   ]
  },
  {
   "cell_type": "markdown",
   "id": "1e63cf0e",
   "metadata": {},
   "source": [
    "5. Escribir una función que reciba un DataFrame con el formato del ejercicio anterior, una lista de meses, y devuelva el balance (ventas - gastos) total en los meses indicados."
   ]
  },
  {
   "cell_type": "code",
   "execution_count": 28,
   "id": "57012ea7",
   "metadata": {},
   "outputs": [
    {
     "name": "stdout",
     "output_type": "stream",
     "text": [
      "Mes\n",
      "Enero       8500\n",
      "Febrero    12200\n",
      "Marzo      10200\n",
      "Name: Balance, dtype: int64\n"
     ]
    }
   ],
   "source": [
    "import pandas as pd\n",
    "\n",
    "datos = {'Mes':['Enero', 'Febrero', 'Marzo', 'Abril'],\n",
    "         'Ventas':[30500,35600,28300,33900],\n",
    "         'Gastos':[22000,23400,18100,20700]\n",
    "        }\n",
    "\n",
    "df = pd.DataFrame(datos)\n",
    "\n",
    "def balance_total(df,meses):\n",
    "    df['Balance'] = df.Ventas - df.Gastos\n",
    "    return df.set_index('Mes').loc[meses,'Balance'] #para obtener un total pongo .sum()\n",
    "   \n",
    "balance_total(df, ['Enero','Febrero','Marzo'])"
   ]
  },
  {
   "cell_type": "markdown",
   "id": "d5ebd5b7",
   "metadata": {},
   "source": [
    "6. El fichero cotizacion.csv contiene las cotizaciones de las empresas del IBEX35 con las siguientes columnas: nombre (nombre de la empresa), Final (precio de la acción al cierre de bolsa), Máximo (precio máximo de la acción durante la jornada), Mínimo (precio mínimo de la acción durante la jornada), volumen (Volumen al cierre de bolsa), Efectivo (capitalización al cierre en miles de euros). Construir una función que construya un DataFrame a partir del un fichero con el formato anterior y devuelva otro DataFrame con el mínimo, el máximo y la media de dada columna."
   ]
  },
  {
   "cell_type": "code",
   "execution_count": 50,
   "id": "e672861e",
   "metadata": {},
   "outputs": [
    {
     "data": {
      "text/html": [
       "<div>\n",
       "<style scoped>\n",
       "    .dataframe tbody tr th:only-of-type {\n",
       "        vertical-align: middle;\n",
       "    }\n",
       "\n",
       "    .dataframe tbody tr th {\n",
       "        vertical-align: top;\n",
       "    }\n",
       "\n",
       "    .dataframe thead th {\n",
       "        text-align: right;\n",
       "    }\n",
       "</style>\n",
       "<table border=\"1\" class=\"dataframe\">\n",
       "  <thead>\n",
       "    <tr style=\"text-align: right;\">\n",
       "      <th></th>\n",
       "      <th>Final</th>\n",
       "      <th>Máximo</th>\n",
       "      <th>Mínimo</th>\n",
       "      <th>Volumen</th>\n",
       "      <th>Efectivo</th>\n",
       "    </tr>\n",
       "  </thead>\n",
       "  <tbody>\n",
       "    <tr>\n",
       "      <th>Minimo</th>\n",
       "      <td>1.016500</td>\n",
       "      <td>4.067500</td>\n",
       "      <td>1.016500</td>\n",
       "      <td>1.221000e+03</td>\n",
       "      <td>2343.090</td>\n",
       "    </tr>\n",
       "    <tr>\n",
       "      <th>Maximo</th>\n",
       "      <td>19705.000000</td>\n",
       "      <td>19875.000000</td>\n",
       "      <td>19675.000000</td>\n",
       "      <td>3.612969e+07</td>\n",
       "      <td>145765.440</td>\n",
       "    </tr>\n",
       "    <tr>\n",
       "      <th>Media</th>\n",
       "      <td>2796.768757</td>\n",
       "      <td>3170.113357</td>\n",
       "      <td>3136.510471</td>\n",
       "      <td>4.252279e+06</td>\n",
       "      <td>31767.778</td>\n",
       "    </tr>\n",
       "  </tbody>\n",
       "</table>\n",
       "</div>"
      ],
      "text/plain": [
       "               Final        Máximo        Mínimo       Volumen    Efectivo\n",
       "Minimo      1.016500      4.067500      1.016500  1.221000e+03    2343.090\n",
       "Maximo  19705.000000  19875.000000  19675.000000  3.612969e+07  145765.440\n",
       "Media    2796.768757   3170.113357   3136.510471  4.252279e+06   31767.778"
      ]
     },
     "metadata": {},
     "output_type": "display_data"
    }
   ],
   "source": [
    "import pandas as pd\n",
    "\n",
    "def csv_cotizacion():\n",
    "    df = pd.read_csv('csv/cotizacion.csv',sep=';', decimal=',', thousands='.', index_col=0) #asi no aparece la columna Nombre\n",
    "    min = df.min()\n",
    "    max = df.max()\n",
    "    media = df.mean()\n",
    "    return pd.DataFrame([min,max,media],index=['Minimo', 'Maximo', 'Media'])\n",
    "\n",
    "display(csv_cotizacion())"
   ]
  },
  {
   "cell_type": "markdown",
   "id": "e3c9c052",
   "metadata": {},
   "source": [
    "7. El fichero titanic.csv contiene información sobre los pasajeros del Titanic. Escribir un programa con los siguientes requisitos:\n",
    "\n",
    "    1. Generar un DataFrame con los datos del fichero.\n",
    "    2. Mostrar por pantalla las dimensiones del DataFrame, el número de datos que contiene, los nombres de sus columnas y filas, los tipos de datos de las columnas, las 10 primeras filas y las 10 últimas filas\n",
    "    3. Mostrar por pantalla los datos del pasajero con identificador 148.\n",
    "    4. Mostrar por pantalla las filas pares del DataFrame.\n",
    "    5. Mostrar por pantalla los nombres de las personas que iban en primera clase ordenadas alfabéticamente.\n",
    "    6. Mostrar por pantalla el porcentaje de personas que sobrevivieron y murieron.\n",
    "    7. Mostrar por pantalla el porcentaje de personas que sobrevivieron en cada clase.\n",
    "    8. Eliminar del DataFrame los pasajeros con edad desconocida.\n",
    "    9. Mostrar por pantalla la edad media de las mujeres que viajaban en cada clase.\n",
    "    10. Añadir una nueva columna booleana para ver si el pasajero era menor de edad o no.\n",
    "    11. Mostrar por pantalla el porcentaje de menores y mayores de edad que sobrevivieron en cada clase."
   ]
  },
  {
   "cell_type": "code",
   "execution_count": 2,
   "id": "a610b921",
   "metadata": {},
   "outputs": [
    {
     "name": "stdout",
     "output_type": "stream",
     "text": [
      "Porcentaje de mayores de edad en 1era clase: 79.41176470588235\n",
      "Porcentaje de menores de edad en 1era clase: 20.58823529411765\n",
      "Porcentaje de mayores de edad en 2da clase: 68.96551724137932\n",
      "Porcentaje de menores de edad en 2da clase: 31.03448275862069\n",
      "Porcentaje de mayores de edad en 3era clase: 43.69747899159664\n",
      "Porcentaje de menores de edad en 3era clase: 56.30252100840336\n"
     ]
    }
   ],
   "source": [
    "import pandas as pd\n",
    "#1 - Generar un DataFrame con los datos del fichero.\n",
    "df = pd.read_csv(\"csv/titanic.csv\",sep=',')\n",
    "#display(df)\n",
    "\n",
    "#2 - Mostrar por pantalla las dimensiones del DataFrame, el número de datos que contiene, los nombres de sus columnas y filas, los tipos de datos de las columnas, las 10 primeras filas y las 10 últimas filas\n",
    "#print(\"Dimensiones: \", df.shape)\n",
    "#print(\"Numero de datos: \",df.size)\n",
    "#print(\"Nombre de columnas: \", df.columns)\n",
    "#print(\"Nombre de filas: \", df.index)\n",
    "#print(\"Tipo de datos de las columnas: \", df.dtypes)\n",
    "#print(\"Nombre de filas: \", df.index)\n",
    "#print(\"10 primeras filas: \", df.head(10))\n",
    "#print(\"10 ultimas filas: \", df.tail(10))\n",
    "\n",
    "#3 - Mostrar por pantalla los datos del pasajero con identificador 148.\n",
    "#print(df.loc[148-1])\n",
    "\n",
    "\n",
    "#4\n",
    "#print(df.iloc[::2]) #esto :: es muy util para ir de 2 en 2, de 3 en 3. Del lado izquierdo se pone desde que fila se comienza y del lado derecho de los dos puntos se pone de cuanto en cunato se quiere ir\n",
    "\n",
    "#5\n",
    "#print(df[df[\"Pclass\"]==1][\"Name\"].sort_values())\n",
    "\n",
    "#6\n",
    "#num_filas = df.shape[0]\n",
    "#print(\"Porcentaje de sobrevivientes: \",df[df[\"Survived\"]==1][\"Survived\"].count()*100/num_filas)\n",
    "#print(\"Porcentaje de muertes: \",df[df[\"Survived\"]==0][\"Survived\"].count()*100/num_filas)\n",
    "\n",
    "#7\n",
    "#num_1clase = df[(df[\"Survived\"]==1) & (df[\"Pclass\"]==1)] [\"Survived\"].shape[0] # = 136\n",
    "#porcentaje1 = num_1clase*100/(df[(df[\"Pclass\"]==1)].shape[0]) #(df[(df[\"Pclass\"]==1)].shape[0]) = 216\n",
    "\n",
    "#num_2clase = df[(df[\"Survived\"]==1) & (df[\"Pclass\"]==2)] [\"Survived\"].shape[0] # = 87\n",
    "#porcentaje2 = num_2clase*100/(df[(df[\"Pclass\"]==2)].shape[0]) \n",
    "\n",
    "#num_3clase = df[(df[\"Survived\"]==1) & (df[\"Pclass\"]==3)] [\"Survived\"].shape[0] # = 119\n",
    "#porcentaje3 = num_3clase*100/(df[(df[\"Pclass\"]==3)].shape[0]) \n",
    "\n",
    "#print(\"Porcentaje de sobrevivientes en 1era clase: \"+ str(porcentaje1)) #tambien puedo usar shape[0] para contar el nro de filas\n",
    "#print(\"Porcentaje de sobrevivientes en 2da clase: \"+ str(porcentaje2))\n",
    "#print(\"Porcentaje de sobrevivientes en 3era clase: \"+ str(porcentaje3))\n",
    "\n",
    "#8\n",
    "#new_df = df.dropna(subset=\"Age\")\n",
    "#print(new_df.shape[0])\n",
    "\n",
    "#9\n",
    "#cant_mujeres1 = df[(df[\"Sex\"]==\"female\") & (df[\"Pclass\"]==1)] [\"Age\"].mean() \n",
    "#cant_mujeres2 = df[(df[\"Sex\"]==\"female\") & (df[\"Pclass\"]==2)] [\"Age\"].mean() \n",
    "#cant_mujeres3 = df[(df[\"Sex\"]==\"female\") & (df[\"Pclass\"]==3)] [\"Age\"].mean() \n",
    "#print(\"Promedio de edad de mujeres en 1era clase: \"+ str(cant_mujeres1) )\n",
    "#print(\"Promedio de edad de mujeres en 2da clase: \"+ str(cant_mujeres2))\n",
    "#print(\"Promedio de edad de mujeres en 3era clase: \"+ str(cant_mujeres3))\n",
    "\n",
    "#10\n",
    "df['Mayor_Edad'] = df['Age'] > 18\n",
    "#display(df)\n",
    "\n",
    "#11\n",
    "cant_mayores1 = df[(df[\"Survived\"]==1) & (df[\"Pclass\"]==1) & (df[\"Mayor_Edad\"]== True)] [\"Mayor_Edad\"].shape[0] \n",
    "p_mayores1 = cant_mayores1*100/(df[(df[\"Survived\"]==1) & (df[\"Pclass\"]==1)]).shape[0]\n",
    "\n",
    "cant_menores1 = df[(df[\"Survived\"]==1) & (df[\"Pclass\"]==1) & (df[\"Mayor_Edad\"]== False)] [\"Mayor_Edad\"].shape[0] \n",
    "p_menores1 = cant_menores1*100/(df[(df[\"Survived\"]==1) & (df[\"Pclass\"]==1)]).shape[0]\n",
    "\n",
    "\n",
    "cant_mayores2 = df[(df[\"Survived\"]==1) & (df[\"Pclass\"]==2) & (df[\"Mayor_Edad\"]== True)] [\"Mayor_Edad\"].shape[0] \n",
    "p_mayores2 = cant_mayores2*100/(df[(df[\"Survived\"]==1) & (df[\"Pclass\"]==2)]).shape[0]\n",
    "\n",
    "cant_menores2 = df[(df[\"Survived\"]==1) & (df[\"Pclass\"]==2) & (df[\"Mayor_Edad\"]== False)] [\"Mayor_Edad\"].shape[0] \n",
    "p_menores2 = cant_menores2*100/(df[(df[\"Survived\"]==1) & (df[\"Pclass\"]==2)]).shape[0]\n",
    "\n",
    "\n",
    "cant_mayores3 = df[(df[\"Survived\"]==1) & (df[\"Pclass\"]==3) & (df[\"Mayor_Edad\"]== True)] [\"Mayor_Edad\"].shape[0] \n",
    "p_mayores3 = cant_mayores3*100/(df[(df[\"Survived\"]==1) & (df[\"Pclass\"]==3)]).shape[0]\n",
    "\n",
    "cant_menores3 = df[(df[\"Survived\"]==1) & (df[\"Pclass\"]==3) & (df[\"Mayor_Edad\"]== False)] [\"Mayor_Edad\"].shape[0] \n",
    "p_menores3 = cant_menores3*100/(df[(df[\"Survived\"]==1) & (df[\"Pclass\"]==3)]).shape[0]\n",
    "\n",
    "print(\"Porcentaje de mayores de edad en 1era clase: \"+ str(p_mayores1)) \n",
    "print(\"Porcentaje de menores de edad en 1era clase: \"+ str(p_menores1)) \n",
    "\n",
    "print(\"Porcentaje de mayores de edad en 2da clase: \"+ str(p_mayores2)) \n",
    "print(\"Porcentaje de menores de edad en 2da clase: \"+ str(p_menores2)) \n",
    "\n",
    "print(\"Porcentaje de mayores de edad en 3era clase: \"+ str(p_mayores3)) \n",
    "print(\"Porcentaje de menores de edad en 3era clase: \"+ str(p_menores3)) \n",
    "\n",
    "\n"
   ]
  },
  {
   "cell_type": "markdown",
   "id": "c56f56f6",
   "metadata": {},
   "source": [
    "8. Los ficheros emisiones-2016.csv, emisiones-2017.csv, emisiones-2018.csv y emisiones-2019.csv, contienen datos sobre las emisiones contaminates en la ciudad de Madrid en los años 2016, 2017, 2018 y 2019 respectivamente. Escribir un programa con los siguientes requisitos:\n",
    "\n",
    "    1. Generar un DataFrame con los datos de los cuatro ficheros.\n",
    "    2. Filtrar las columnas del DataFrame para quedarse con las columnas ESTACION, MAGNITUD, AÑO, MES y las correspondientes a los días D01, D02, etc.\n",
    "    3. Reestructurar el DataFrame para que los valores de los contaminantes de las columnas de los días aparezcan en una única columna.\n",
    "    4. Añadir una columna con la fecha a partir de la concatenación del año, el mes y el día (usar el módulo datetime).\n",
    "    5. Eliminar las filas con fechas no válidas (utilizar la función isnat del módulo numpy) y ordenar el DataFrame por estaciones contaminantes y fecha.\n",
    "    6. Mostrar por pantalla las estaciones y los contaminantes disponibles en el DataFrame.\n",
    "    7. Crear una función que reciba una estación, un contaminante y un rango de fechas y devuelva una serie con las emisiones del contaminante dado en la estación y rango de fechas dado.\n",
    "    8. Mostrar un resumen descriptivo (mínimo, máximo, media, etc.) para cada contaminante.\n",
    "    9. Mostrar un resumen descriptivo para cada contaminante por distritos.\n",
    "    10. Crear una función que reciba una estación y un contaminante y devuelva un resumen descriptivo de las emisiones del contaminante indicado en la estación indicada.\n",
    "    11. Crear una función que devuelva las emisiones medias mensuales de un contaminante y un año dados para todos las estaciones.\n",
    "    12. Crear un función que reciba una estación de medición y devuelva un DataFrame con las medias mensuales de los distintos tipos de contaminantes."
   ]
  },
  {
   "cell_type": "code",
   "execution_count": null,
   "id": "bf4dd824",
   "metadata": {},
   "outputs": [],
   "source": []
  },
  {
   "cell_type": "markdown",
   "id": "32c9549d",
   "metadata": {},
   "source": [
    "# Ejercicios de la librería Matplotlib"
   ]
  },
  {
   "cell_type": "markdown",
   "id": "45906941",
   "metadata": {},
   "source": [
    "1. Escribir un programa que pregunte al usuario por las ventas de un rango de años y muestre por pantalla un diagrama de líneas con la evolución de las ventas."
   ]
  },
  {
   "cell_type": "code",
   "execution_count": 51,
   "id": "8d96adda",
   "metadata": {},
   "outputs": [
    {
     "name": "stderr",
     "output_type": "stream",
     "text": [
      "/tmp/ipykernel_6234/3933693437.py:7: FutureWarning: The default dtype for empty Series will be 'object' instead of 'float64' in a future version. Specify a dtype explicitly to silence this warning.\n",
      "  v = pd.Series(index=range(1,6))\n",
      "/usr/lib/python3/dist-packages/matplotlib/cbook/__init__.py:1402: FutureWarning: Support for multi-dimensional indexing (e.g. `obj[:, None]`) is deprecated and will be removed in a future version.  Convert to a numpy array before indexing instead.\n",
      "  ndim = x[:, None].ndim\n",
      "/usr/lib/python3/dist-packages/matplotlib/axes/_base.py:278: FutureWarning: Support for multi-dimensional indexing (e.g. `obj[:, None]`) is deprecated and will be removed in a future version.  Convert to a numpy array before indexing instead.\n",
      "  y = y[:, np.newaxis]\n"
     ]
    },
    {
     "data": {
      "image/png": "[encoded data removed]",
      "text/plain": [
       "<Figure size 640x480 with 1 Axes>"
      ]
     },
     "metadata": {},
     "output_type": "display_data"
    }
   ],
   "source": [
    "import pandas as pd\n",
    "import matplotlib.pyplot as plt\n",
    "\n",
    "fig, ax = plt.subplots()\n",
    "\n",
    "def calcular_ventas():\n",
    "    v = pd.Series(index=range(1,6))\n",
    "    for i in v.index:\n",
    "        v[i] = float(input(\"Ingrese ventas para el anio \"+str(i)))\n",
    "    return v\n",
    "\n",
    "v = calcular_ventas()\n",
    "ax.plot(range(1,6),v)\n",
    "plt.show()\n",
    "\n",
    "\n",
    "\n"
   ]
  },
  {
   "cell_type": "markdown",
   "id": "d6976d51",
   "metadata": {},
   "source": [
    "2. Escribir una función que reciba una diccionario con las notas de las asignaturas de un curso y una cadena con el nombre de un color y devuelva un diagrama de barras de las notas en el color dado."
   ]
  },
  {
   "cell_type": "code",
   "execution_count": 21,
   "id": "25d662fa",
   "metadata": {},
   "outputs": [
    {
     "data": {
      "image/png": "[encoded data removed]",
      "text/plain": [
       "<Figure size 640x480 with 1 Axes>"
      ]
     },
     "metadata": {},
     "output_type": "display_data"
    }
   ],
   "source": [
    "import pandas as pd\n",
    "import matplotlib.pyplot as plt\n",
    "\n",
    "fig, ax = plt.subplots()\n",
    "notas = {'Matematica':8,'Lengua':6,'Historia':2,'Fisica':10}\n",
    "\n",
    "def calcular_ventas():\n",
    "    ax.bar(range(1,5),list(notas.values()), color = colors)\n",
    "    ax.set_xlabel(\"Materias\")\n",
    "    ax.set_ylabel(\"Notas\")  \n",
    "    plt.show()\n",
    "\n",
    "colors = input(\"De que color quiere el diagrama?\")\n",
    "calcular_ventas()\n"
   ]
  },
  {
   "cell_type": "markdown",
   "id": "5557a1e2",
   "metadata": {},
   "source": [
    "3. Escribir una función que reciba una serie de Pandas con las notas de los alumnos de un curso y devuelva un diagrama de cajas con las notas. El diagrama debe tener el título “Distribución de notas”."
   ]
  },
  {
   "cell_type": "code",
   "execution_count": 32,
   "id": "bc764b3b",
   "metadata": {},
   "outputs": [
    {
     "data": {
      "image/png": "[encoded data removed]",
      "text/plain": [
       "<Figure size 640x480 with 1 Axes>"
      ]
     },
     "metadata": {},
     "output_type": "display_data"
    }
   ],
   "source": [
    "import pandas as pd\n",
    "import matplotlib.pyplot as plt\n",
    "\n",
    "fig, ax = plt.subplots()\n",
    "\n",
    "s = pd.Series({'Matematica':8,'Lengua':4,'Historia':2,'Fisica':10})\n",
    "\n",
    "def notas():\n",
    "    ax.boxplot(s)\n",
    "    ax.set_title(\"Distribucion de notas\", loc='center')\n",
    "    plt.show()\n",
    "\n",
    "notas()"
   ]
  },
  {
   "cell_type": "markdown",
   "id": "019e306b",
   "metadata": {},
   "source": [
    "4. Escribir una función que reciba una serie de Pandas con el número de ventas de un producto durante los meses de un trimestre y un título y cree un diagrama de sectores con las ventas en formato png con el titulo dado. El diagrama debe guardarse en un fichero con formato png y el título dado."
   ]
  },
  {
   "cell_type": "code",
   "execution_count": 35,
   "id": "6903cb87",
   "metadata": {},
   "outputs": [
    {
     "data": {
      "image/png": "[encoded data removed]",
      "text/plain": [
       "<Figure size 640x480 with 1 Axes>"
      ]
     },
     "metadata": {},
     "output_type": "display_data"
    }
   ],
   "source": [
    "import pandas as pd\n",
    "import matplotlib.pyplot as plt\n",
    "\n",
    "fig, ax = plt.subplots()\n",
    "\n",
    "v = pd.Series({'Enero': 50, 'Febrero': 80, 'Marzo': 20})\n",
    "\n",
    "def ventas():\n",
    "    ax.pie(v)\n",
    "    ax.set_title(\"Ventas del producto\")\n",
    "    plt.savefig('Ventas-del-producto.png')\n",
    "    plt.show()\n",
    "\n",
    "ventas()"
   ]
  },
  {
   "cell_type": "markdown",
   "id": "609858b3",
   "metadata": {},
   "source": [
    "5. Escribir una función que reciba una serie de Pandas con el número de ventas de un producto por años y una cadena con el tipo de gráfico a generar (lineas, barras, sectores, areas) y devuelva un diagrama del tipo indicado con la evolución de las ventas por años y con el título “Evolución del número de ventas”."
   ]
  },
  {
   "cell_type": "code",
   "execution_count": 44,
   "id": "1847c92d",
   "metadata": {},
   "outputs": [
    {
     "data": {
      "image/png": "[encoded data removed]",
      "text/plain": [
       "<Figure size 640x480 with 1 Axes>"
      ]
     },
     "metadata": {},
     "output_type": "display_data"
    }
   ],
   "source": [
    "import pandas as pd\n",
    "import matplotlib.pyplot as plt\n",
    "\n",
    "fig, ax = plt.subplots()\n",
    "\n",
    "v = pd.Series({'2020': 50, '2021': 80, '2022': 20})\n",
    "tipo = {'lineas':'plot', 'barras':'bar','sectores':'pie','areas':'area'}\n",
    "\n",
    "def ventas():\n",
    "    v.plot(kind=tipo[p],ax=ax)\n",
    "    ax.set_title(\"Evolucion del numero de ventas\")\n",
    "    plt.show()\n",
    "\n",
    "p = input(\"Que tipo de diagrama quiere?\")\n",
    "ventas()"
   ]
  },
  {
   "cell_type": "markdown",
   "id": "02f174a2",
   "metadata": {},
   "source": [
    "6. Escribir una función que reciba un dataframe de Pandas con los ingresos y gastos de una empresa por meses y devuelva un diagrama de líneas con dos líneas, una para los ingresos y otra para los gastos. El diagrama debe tener una leyenda identificando la línea de los ingresos y la de los gastos, un título con el nombre “Evolución de ingresos y gastos” y el eje y debe empezar en 0."
   ]
  },
  {
   "cell_type": "code",
   "execution_count": 47,
   "id": "588bd888",
   "metadata": {},
   "outputs": [
    {
     "data": {
      "image/png": "[encoded data removed]",
      "text/plain": [
       "<Figure size 640x480 with 1 Axes>"
      ]
     },
     "metadata": {},
     "output_type": "display_data"
    }
   ],
   "source": [
    "import pandas as pd\n",
    "import matplotlib.pyplot as plt\n",
    "\n",
    "fig,ax = plt.subplots()\n",
    "\n",
    "meses = ['Enero', 'Febrero', 'Marzo', 'Abril']\n",
    "datos = {\n",
    "         'Ingresos':[30500,35600,28300,33900],\n",
    "         'Gastos':[22000,23400,18100,20700]\n",
    "        }\n",
    "\n",
    "def ingresos_gastos():\n",
    "        df = pd.DataFrame(datos)\n",
    "        ax.plot(meses,datos['Ingresos'], label = 'Ingresos')\n",
    "        ax.plot(meses,datos['Gastos'], label = 'Gastos')\n",
    "        ax.legend(loc = 'upper right')\n",
    "        plt.show()\n",
    "\n",
    "ingresos_gastos()"
   ]
  },
  {
   "cell_type": "markdown",
   "id": "b8d929a1",
   "metadata": {},
   "source": [
    "7. El fichero bancos.csv contiene las cotizaciones de los principales bancos de España con : **Empresa** (nombre de la empresa), **Apertura** (precio de la acción a la apertura de bolsa), **Máximo** (precio máximo de la acción durante la jornada), **Mínimo** (precio mínimo de la acción durante la jornada), **Cierre** (precio de la acción al cierre de bolsa), **Volumen** (volumen al cierre de bolsa). Construir una función reciba el fichero bancos.csv y cree un diagrama de líneas con las series temporales de las cotizaciones de cierre de cada banco."
   ]
  },
  {
   "cell_type": "code",
   "execution_count": null,
   "id": "05a39400",
   "metadata": {},
   "outputs": [],
   "source": []
  },
  {
   "cell_type": "markdown",
   "id": "af554c3c",
   "metadata": {},
   "source": [
    "8. El fichero titanic.csv contiene información sobre los pasajeros del Titanic. Crear un dataframe con Pandas y a partir de él generar los siguientes diagramas.\n",
    "    1. Diagrama de sectores con los fallecidos y supervivientes.\n",
    "    2. Histograma con las edades.\n",
    "    3. Diagrama de barras con el número de personas en cada clase.\n",
    "    4. Diagrama de barras con el número de personas fallecidas y supervivientes en cada clase.\n",
    "    5. Diagrama de barras con el número de personas fallecidas y supervivientes acumuladas en cada clase."
   ]
  },
  {
   "cell_type": "code",
   "execution_count": null,
   "id": "166d5fe0",
   "metadata": {},
   "outputs": [],
   "source": []
  }
 ],
 "metadata": {
  "kernelspec": {
   "display_name": "Python 3 (ipykernel)",
   "language": "python",
   "name": "python3"
  },
  "language_info": {
   "codemirror_mode": {
    "name": "ipython",
    "version": 3
   },
   "file_extension": ".py",
   "mimetype": "text/x-python",
   "name": "python",
   "nbconvert_exporter": "python",
   "pygments_lexer": "ipython3",
   "version": "3.8.10"
  }
 },
 "nbformat": 4,
 "nbformat_minor": 5
}
